{
 "cells": [
  {
   "cell_type": "markdown",
   "metadata": {},
   "source": [
    "# Dados dos Preços do GLP*"
   ]
  },
  {
   "cell_type": "markdown",
   "metadata": {},
   "source": [
    "##### *Gás liquefeito de petróleo"
   ]
  },
  {
   "cell_type": "markdown",
   "metadata": {},
   "source": [
    "### Bibliotecas Utilizadas:"
   ]
  },
  {
   "cell_type": "code",
   "execution_count": 1,
   "metadata": {},
   "outputs": [],
   "source": [
    "# Manipulação de Dados\n",
    "import pandas as pd\n",
    "\n",
    "# Visualização\n",
    "import matplotlib.pyplot as plt\n",
    "import seaborn as sns\n",
    "\n",
    "# Manipulação de arquivos\n",
    "import glob\n",
    "\n",
    "# Ignore Warning\n",
    "import sys\n",
    "import warnings\n",
    "warnings.filterwarnings(\"ignore\")"
   ]
  },
  {
   "cell_type": "code",
   "execution_count": 2,
   "metadata": {},
   "outputs": [
    {
     "name": "stdout",
     "output_type": "stream",
     "text": [
      "Author: GLP\n",
      "\n",
      "matplotlib: 3.5.1\n",
      "seaborn   : 0.11.2\n",
      "pandas    : 1.4.2\n",
      "sys       : 3.10.5 (tags/v3.10.5:f377153, Jun  6 2022, 16:14:13) [MSC v.1929 64 bit (AMD64)]\n",
      "\n"
     ]
    }
   ],
   "source": [
    "# Versões dos pacotes utilizados\n",
    "%reload_ext watermark\n",
    "%watermark -a 'GLP' --iversions"
   ]
  },
  {
   "cell_type": "code",
   "execution_count": 3,
   "metadata": {},
   "outputs": [],
   "source": [
    "font_title = {'family': 'serif',\n",
    "              'color':  'darkred',\n",
    "              'weight': 'normal',\n",
    "              'size': 16,\n",
    "              }\n",
    "font_xlabel = {'family': 'serif',\n",
    "              'color':  'black',\n",
    "              'weight': 'normal',\n",
    "              'size': 14,\n",
    "              }\n",
    "font_ylabel = {'family': 'serif',\n",
    "              'color':  'black',\n",
    "              'weight': 'normal',\n",
    "              'size': 14,\n",
    "              }                            "
   ]
  },
  {
   "cell_type": "markdown",
   "metadata": {},
   "source": [
    "### Coletando e salvando os dados:"
   ]
  },
  {
   "cell_type": "code",
   "execution_count": 4,
   "metadata": {},
   "outputs": [],
   "source": [
    "df_01 = pd.read_csv('https://www.gov.br/anp/pt-br/centrais-de-conteudo/dados-abertos/arquivos/shpc/dsan/2022/precos-glp-01.csv', sep=';')\n",
    "df_01.to_csv('./data/JAN-2022.csv', sep=';')\n",
    "df_02 = pd.read_csv('https://www.gov.br/anp/pt-br/centrais-de-conteudo/dados-abertos/arquivos/shpc/dsan/2022/precos-glp-02.csv', sep=';')\n",
    "df_02.to_csv('./data/FEV-2022.csv', sep=';')\n",
    "df_03 = pd.read_csv('https://www.gov.br/anp/pt-br/centrais-de-conteudo/dados-abertos/arquivos/shpc/dsan/2022/precos-glp-03.csv', sep=';')\n",
    "df_03.to_csv('./data/MAR-2022.csv', sep=';')\n",
    "df_04 = pd.read_csv('https://www.gov.br/anp/pt-br/centrais-de-conteudo/dados-abertos/arquivos/shpc/dsan/2022/precos-glp-04.csv', sep=';')\n",
    "df_04.to_csv('./data/ABR-2022.csv', sep=';')\n",
    "df_05 = pd.read_csv('https://www.gov.br/anp/pt-br/centrais-de-conteudo/dados-abertos/arquivos/shpc/dsan/2022/precos-glp-05.csv', sep=';')\n",
    "df_05.to_csv('./data/MAI-2022.csv', sep=';')\n",
    "\n",
    "\n",
    "# df_01 = representa o mês de janeiro de 2022\n",
    "# df_02 = representa o mês de fevereiro de 2022\n",
    "# df_03 = representa o mês de março de 2022\n",
    "# df_04 = representa o mês de abril de 2022\n",
    "# df_05 = representa o mês de abril de 2022"
   ]
  },
  {
   "cell_type": "markdown",
   "metadata": {},
   "source": [
    "### Carregando a base de dados:"
   ]
  },
  {
   "cell_type": "code",
   "execution_count": 26,
   "metadata": {},
   "outputs": [],
   "source": [
    "# Unindo os dados dos meses de 2022(Até Abril), em apenas um DataFrame\n",
    "extensao = 'csv'\n",
    "\n",
    "arquivos_csv = [i for i in glob.glob(f'./data/*.{extensao}')]\n",
    "data = pd.concat([pd.read_csv(f, sep=';') for f in arquivos_csv])\n",
    "data_glp = data.copy()"
   ]
  },
  {
   "cell_type": "code",
   "execution_count": 27,
   "metadata": {},
   "outputs": [
    {
     "data": {
      "text/html": [
       "<div>\n",
       "<style scoped>\n",
       "    .dataframe tbody tr th:only-of-type {\n",
       "        vertical-align: middle;\n",
       "    }\n",
       "\n",
       "    .dataframe tbody tr th {\n",
       "        vertical-align: top;\n",
       "    }\n",
       "\n",
       "    .dataframe thead th {\n",
       "        text-align: right;\n",
       "    }\n",
       "</style>\n",
       "<table border=\"1\" class=\"dataframe\">\n",
       "  <thead>\n",
       "    <tr style=\"text-align: right;\">\n",
       "      <th></th>\n",
       "      <th>Regiao - Sigla</th>\n",
       "      <th>Estado - Sigla</th>\n",
       "      <th>Municipio</th>\n",
       "      <th>Produto</th>\n",
       "      <th>Data da Coleta</th>\n",
       "      <th>Valor de Venda</th>\n",
       "      <th>Unidade de Medida</th>\n",
       "      <th>Bandeira</th>\n",
       "    </tr>\n",
       "  </thead>\n",
       "  <tbody>\n",
       "    <tr>\n",
       "      <th>0</th>\n",
       "      <td>S</td>\n",
       "      <td>SC</td>\n",
       "      <td>JARAGUA DO SUL</td>\n",
       "      <td>GLP</td>\n",
       "      <td>01/04/2022</td>\n",
       "      <td>114,99</td>\n",
       "      <td>R$ / 13 kg</td>\n",
       "      <td>NACIONAL GÁS BUTANO</td>\n",
       "    </tr>\n",
       "    <tr>\n",
       "      <th>1</th>\n",
       "      <td>S</td>\n",
       "      <td>SC</td>\n",
       "      <td>JARAGUA DO SUL</td>\n",
       "      <td>GLP</td>\n",
       "      <td>01/04/2022</td>\n",
       "      <td>114,99</td>\n",
       "      <td>R$ / 13 kg</td>\n",
       "      <td>ULTRAGAZ</td>\n",
       "    </tr>\n",
       "    <tr>\n",
       "      <th>2</th>\n",
       "      <td>S</td>\n",
       "      <td>SC</td>\n",
       "      <td>JARAGUA DO SUL</td>\n",
       "      <td>GLP</td>\n",
       "      <td>01/04/2022</td>\n",
       "      <td>114,99</td>\n",
       "      <td>R$ / 13 kg</td>\n",
       "      <td>NACIONAL GÁS BUTANO</td>\n",
       "    </tr>\n",
       "    <tr>\n",
       "      <th>3</th>\n",
       "      <td>SE</td>\n",
       "      <td>SP</td>\n",
       "      <td>SERTAOZINHO</td>\n",
       "      <td>GLP</td>\n",
       "      <td>01/04/2022</td>\n",
       "      <td>115</td>\n",
       "      <td>R$ / 13 kg</td>\n",
       "      <td>ULTRAGAZ</td>\n",
       "    </tr>\n",
       "    <tr>\n",
       "      <th>4</th>\n",
       "      <td>SE</td>\n",
       "      <td>SP</td>\n",
       "      <td>BIRIGUI</td>\n",
       "      <td>GLP</td>\n",
       "      <td>01/04/2022</td>\n",
       "      <td>113</td>\n",
       "      <td>R$ / 13 kg</td>\n",
       "      <td>SUPERGASBRAS ENERGIA</td>\n",
       "    </tr>\n",
       "  </tbody>\n",
       "</table>\n",
       "</div>"
      ],
      "text/plain": [
       "  Regiao - Sigla Estado - Sigla       Municipio Produto Data da Coleta  \\\n",
       "0              S             SC  JARAGUA DO SUL     GLP     01/04/2022   \n",
       "1              S             SC  JARAGUA DO SUL     GLP     01/04/2022   \n",
       "2              S             SC  JARAGUA DO SUL     GLP     01/04/2022   \n",
       "3             SE             SP     SERTAOZINHO     GLP     01/04/2022   \n",
       "4             SE             SP         BIRIGUI     GLP     01/04/2022   \n",
       "\n",
       "  Valor de Venda Unidade de Medida              Bandeira  \n",
       "0         114,99        R$ / 13 kg   NACIONAL GÁS BUTANO  \n",
       "1         114,99        R$ / 13 kg              ULTRAGAZ  \n",
       "2         114,99        R$ / 13 kg   NACIONAL GÁS BUTANO  \n",
       "3            115        R$ / 13 kg              ULTRAGAZ  \n",
       "4            113        R$ / 13 kg  SUPERGASBRAS ENERGIA  "
      ]
     },
     "execution_count": 27,
     "metadata": {},
     "output_type": "execute_result"
    }
   ],
   "source": [
    "# Eliminando algumas colunas\n",
    "data_glp.drop(['Revenda',\n",
    "           'Unnamed: 0',\n",
    "           'CNPJ da Revenda',\n",
    "           'Nome da Rua','Numero Rua',\n",
    "           'Complemento',\n",
    "           'Bairro',\n",
    "           'Cep',\n",
    "           'Valor de Compra'], axis=1, inplace=True)\n",
    "        \n",
    "data_glp.head()           "
   ]
  },
  {
   "cell_type": "code",
   "execution_count": 28,
   "metadata": {},
   "outputs": [
    {
     "data": {
      "text/plain": [
       "Index(['Regiao - Sigla', 'Estado - Sigla', 'Municipio', 'Produto',\n",
       "       'Data da Coleta', 'Valor de Venda', 'Unidade de Medida', 'Bandeira'],\n",
       "      dtype='object')"
      ]
     },
     "execution_count": 28,
     "metadata": {},
     "output_type": "execute_result"
    }
   ],
   "source": [
    "# Verificando o nome das colunas\n",
    "data_glp.columns"
   ]
  },
  {
   "cell_type": "code",
   "execution_count": 29,
   "metadata": {},
   "outputs": [
    {
     "data": {
      "text/plain": [
       "(246006, 8)"
      ]
     },
     "execution_count": 29,
     "metadata": {},
     "output_type": "execute_result"
    }
   ],
   "source": [
    "# Verificando o tamanho do DataFrame(linhas x colunas)\n",
    "data_glp.shape"
   ]
  },
  {
   "cell_type": "code",
   "execution_count": 30,
   "metadata": {},
   "outputs": [
    {
     "data": {
      "image/png": "[encoded data removed]",
      "text/plain": [
       "<Figure size 1080x360 with 1 Axes>"
      ]
     },
     "metadata": {
      "needs_background": "light"
     },
     "output_type": "display_data"
    }
   ],
   "source": [
    "# Identificando Valores Ausentes\n",
    "\n",
    "# Valores ausentes por coluna\n",
    "null_df = data_glp.isna().sum().reset_index()\n",
    "\n",
    "# Figura\n",
    "ax = plt.figure(figsize=(15,5))\n",
    "\n",
    "# Barplot\n",
    "ax = sns.barplot(null_df['index'], null_df[0], palette='husl')\n",
    "plt.xlabel('Atributos', fontsize=12)\n",
    "plt.ylabel('Contagem de Valores Ausentes', fontsize=12)\n",
    "plt.xticks(rotation=45)\n",
    "plt.title('Plot de Valores Ausentes', fontsize=15)\n",
    "\n",
    "for p in ax.patches:\n",
    "    ax.annotate(f'\\n{p.get_height()}', (p.get_x()+0.4, (p.get_height())), ha='center', color='black', size=11)\n",
    "\n",
    "plt.show()"
   ]
  },
  {
   "cell_type": "markdown",
   "metadata": {},
   "source": [
    "* Podemos visualizar que a Coluna **Valor de Venda**, tem valores ausentes."
   ]
  },
  {
   "cell_type": "code",
   "execution_count": 12,
   "metadata": {},
   "outputs": [
    {
     "data": {
      "text/html": [
       "<div>\n",
       "<style scoped>\n",
       "    .dataframe tbody tr th:only-of-type {\n",
       "        vertical-align: middle;\n",
       "    }\n",
       "\n",
       "    .dataframe tbody tr th {\n",
       "        vertical-align: top;\n",
       "    }\n",
       "\n",
       "    .dataframe thead th {\n",
       "        text-align: right;\n",
       "    }\n",
       "</style>\n",
       "<table border=\"1\" class=\"dataframe\">\n",
       "  <thead>\n",
       "    <tr style=\"text-align: right;\">\n",
       "      <th></th>\n",
       "      <th>0</th>\n",
       "    </tr>\n",
       "  </thead>\n",
       "  <tbody>\n",
       "    <tr>\n",
       "      <th>Regiao - Sigla</th>\n",
       "      <td>0</td>\n",
       "    </tr>\n",
       "    <tr>\n",
       "      <th>Estado - Sigla</th>\n",
       "      <td>0</td>\n",
       "    </tr>\n",
       "    <tr>\n",
       "      <th>Municipio</th>\n",
       "      <td>0</td>\n",
       "    </tr>\n",
       "    <tr>\n",
       "      <th>Produto</th>\n",
       "      <td>0</td>\n",
       "    </tr>\n",
       "    <tr>\n",
       "      <th>Data da Coleta</th>\n",
       "      <td>0</td>\n",
       "    </tr>\n",
       "    <tr>\n",
       "      <th>Valor de Venda</th>\n",
       "      <td>82002</td>\n",
       "    </tr>\n",
       "    <tr>\n",
       "      <th>Unidade de Medida</th>\n",
       "      <td>0</td>\n",
       "    </tr>\n",
       "    <tr>\n",
       "      <th>Bandeira</th>\n",
       "      <td>0</td>\n",
       "    </tr>\n",
       "  </tbody>\n",
       "</table>\n",
       "</div>"
      ],
      "text/plain": [
       "                       0\n",
       "Regiao - Sigla         0\n",
       "Estado - Sigla         0\n",
       "Municipio              0\n",
       "Produto                0\n",
       "Data da Coleta         0\n",
       "Valor de Venda     82002\n",
       "Unidade de Medida      0\n",
       "Bandeira               0"
      ]
     },
     "execution_count": 12,
     "metadata": {},
     "output_type": "execute_result"
    }
   ],
   "source": [
    "df_na = pd.DataFrame(data_glp.isna().sum())\n",
    "df_na"
   ]
  },
  {
   "cell_type": "code",
   "execution_count": 25,
   "metadata": {},
   "outputs": [
    {
     "data": {
      "text/plain": [
       "33.33333333333333"
      ]
     },
     "execution_count": 25,
     "metadata": {},
     "output_type": "execute_result"
    }
   ],
   "source": [
    "# Verificando a proporção dos valores ausentes\n",
    "\n",
    "df_info = (data_glp['Valor de Venda'].isna().sum() / data_glp.shape[0]) * 100\n",
    "\n",
    "df_info"
   ]
  },
  {
   "cell_type": "markdown",
   "metadata": {},
   "source": [
    "* Vamos adotar o metodo de apagar as linhas com valores ausentes"
   ]
  },
  {
   "cell_type": "code",
   "execution_count": 32,
   "metadata": {},
   "outputs": [
    {
     "data": {
      "text/plain": [
       "(164004, 8)"
      ]
     },
     "execution_count": 32,
     "metadata": {},
     "output_type": "execute_result"
    }
   ],
   "source": [
    "# Apagando a linhas com valores ausentes e verificando o tamanho do DataFrame(linhas x colunas)\n",
    "\n",
    "data_glp.dropna(inplace=True)\n",
    "data_glp.shape"
   ]
  },
  {
   "cell_type": "code",
   "execution_count": 35,
   "metadata": {},
   "outputs": [
    {
     "data": {
      "text/html": [
       "<div>\n",
       "<style scoped>\n",
       "    .dataframe tbody tr th:only-of-type {\n",
       "        vertical-align: middle;\n",
       "    }\n",
       "\n",
       "    .dataframe tbody tr th {\n",
       "        vertical-align: top;\n",
       "    }\n",
       "\n",
       "    .dataframe thead th {\n",
       "        text-align: right;\n",
       "    }\n",
       "</style>\n",
       "<table border=\"1\" class=\"dataframe\">\n",
       "  <thead>\n",
       "    <tr style=\"text-align: right;\">\n",
       "      <th></th>\n",
       "      <th>0</th>\n",
       "    </tr>\n",
       "  </thead>\n",
       "  <tbody>\n",
       "    <tr>\n",
       "      <th>Regiao - Sigla</th>\n",
       "      <td>0</td>\n",
       "    </tr>\n",
       "    <tr>\n",
       "      <th>Estado - Sigla</th>\n",
       "      <td>0</td>\n",
       "    </tr>\n",
       "    <tr>\n",
       "      <th>Municipio</th>\n",
       "      <td>0</td>\n",
       "    </tr>\n",
       "    <tr>\n",
       "      <th>Produto</th>\n",
       "      <td>0</td>\n",
       "    </tr>\n",
       "    <tr>\n",
       "      <th>Data da Coleta</th>\n",
       "      <td>0</td>\n",
       "    </tr>\n",
       "    <tr>\n",
       "      <th>Valor de Venda</th>\n",
       "      <td>0</td>\n",
       "    </tr>\n",
       "    <tr>\n",
       "      <th>Unidade de Medida</th>\n",
       "      <td>0</td>\n",
       "    </tr>\n",
       "    <tr>\n",
       "      <th>Bandeira</th>\n",
       "      <td>0</td>\n",
       "    </tr>\n",
       "  </tbody>\n",
       "</table>\n",
       "</div>"
      ],
      "text/plain": [
       "                   0\n",
       "Regiao - Sigla     0\n",
       "Estado - Sigla     0\n",
       "Municipio          0\n",
       "Produto            0\n",
       "Data da Coleta     0\n",
       "Valor de Venda     0\n",
       "Unidade de Medida  0\n",
       "Bandeira           0"
      ]
     },
     "execution_count": 35,
     "metadata": {},
     "output_type": "execute_result"
    }
   ],
   "source": [
    "# Verificando se não a mais dados ausentes\n",
    "\n",
    "df_na = pd.DataFrame(data_glp.isna().sum())\n",
    "df_na"
   ]
  },
  {
   "cell_type": "code",
   "execution_count": 33,
   "metadata": {},
   "outputs": [
    {
     "data": {
      "text/plain": [
       "array(['S', 'SE', 'NE', 'N', 'CO'], dtype=object)"
      ]
     },
     "execution_count": 33,
     "metadata": {},
     "output_type": "execute_result"
    }
   ],
   "source": [
    "data_glp['Regiao - Sigla'].unique()"
   ]
  },
  {
   "cell_type": "code",
   "execution_count": null,
   "metadata": {},
   "outputs": [],
   "source": [
    "# Tipo dos dados das colunas\n",
    "print(data_glp.dtypes)\n",
    "\n",
    "data_glp['Valor de Venda'] = data_glp['Valor de Venda'].str.replace(',','.') # Alterando de virgula para ponto\n",
    "data_glp['Valor de Venda'] = data_glp['Valor de Venda'].apply(pd.to_numeric) # Alterando o tipo da coluna \n",
    "\n",
    "print('-----')\n",
    "print(data_glp.dtypes)\n",
    "\n",
    "data_glp.to_csv('./data/data_glp.csv', sep=';')"
   ]
  },
  {
   "cell_type": "markdown",
   "metadata": {},
   "source": [
    "### Verificando a Distribuição da Variável - Valor de Venda"
   ]
  },
  {
   "cell_type": "code",
   "execution_count": null,
   "metadata": {},
   "outputs": [],
   "source": [
    "sns.set_style('darkgrid')\n",
    "plt.figure(figsize=(16,8))\n",
    "\n",
    "plt.subplot(221)\n",
    "sns.histplot(data_glp['Valor de Venda'], kde=True, color='green')\n",
    "plt.title('Histograma do Preço(Valor de Venda) do GLP', fontsize=15)\n",
    "\n",
    "plt.subplot(223)\n",
    "sns.boxplot(data_glp['Valor de Venda'], color='green')\n",
    "\n",
    "plt.show()"
   ]
  },
  {
   "cell_type": "markdown",
   "metadata": {},
   "source": [
    "#### Agrupando os dados por região e calculando a média"
   ]
  },
  {
   "cell_type": "code",
   "execution_count": null,
   "metadata": {},
   "outputs": [],
   "source": [
    "data_group_regiao = round(data_glp.groupby(['Regiao - Sigla']).mean(),2)\n",
    "data_group_regiao = data_group_regiao.rename_axis('Regiao - Sigla').reset_index()\n",
    "\n",
    "sns.set_style('darkgrid')\n",
    "plt.figure(figsize=(8,4))\n",
    "sns.barplot(data=data_group_regiao, x='Regiao - Sigla', y='Valor de Venda')\n",
    "plt.title('Média de Preços por Região (JAN|2022 - MAI|2022)', fontdict=font_title)\n",
    "plt.xlabel('Região', fontdict=font_xlabel)\n",
    "plt.ylabel('Valor de Venda', fontdict=font_ylabel)\n",
    "plt.legend(['CO - Centro Oeste','N - Norte','NE - Nordeste','S - Sul','SE - Sudeste'], \n",
    "                bbox_to_anchor=(1.05, 1),\n",
    "                loc='upper left', \n",
    "                borderaxespad=0.)\n",
    "for x,y in enumerate(data_group_regiao['Valor de Venda']):\n",
    "    plt.text(x,y-8,'%s'%round(y,2),ha='center', fontdict=font_xlabel)               \n",
    "plt.show()\n",
    "\n",
    "media_preco_br = data_glp['Valor de Venda'].mean()\n",
    "\n",
    "print(data_glp.describe())"
   ]
  },
  {
   "cell_type": "markdown",
   "metadata": {},
   "source": [
    "* Média de preço do GLP de JAN-2022 | MAI-2022 -> **109.42**\n",
    "\n",
    "* Pelo gráfico acima e pela descrição da coluna **Valor de Venda**, podemos verificar que o preço do GLP nas regiões **NE(Nordeste) e SE(Sudeste)** estão abaixo da média."
   ]
  },
  {
   "cell_type": "code",
   "execution_count": null,
   "metadata": {},
   "outputs": [],
   "source": [
    "# Distribuição do preço de venda por região\n",
    "data_regiao = data_glp[['Regiao - Sigla','Valor de Venda']]\n",
    "\n",
    "sns.set_style('darkgrid')\n",
    "plt.figure(figsize=(8,4))\n",
    "sns.boxplot(data=data_regiao, y='Regiao - Sigla', x='Valor de Venda')\n",
    "plt.title('Preços por Região (JAN|2022 - MAI|2022)', fontdict=font_title)\n",
    "plt.xlabel('Valor de Venda', fontdict=font_xlabel)\n",
    "plt.ylabel('Região', fontdict=font_ylabel)\n",
    "plt.legend(['CO - Centro Oeste','N - Norte','NE - Nordeste','S - Sul','SE - Sudeste'], \n",
    "                bbox_to_anchor=(1.05, 1),\n",
    "                loc='upper left', \n",
    "                borderaxespad=0.)             \n",
    "plt.show()"
   ]
  },
  {
   "cell_type": "code",
   "execution_count": null,
   "metadata": {},
   "outputs": [],
   "source": [
    "# Variação do preço de venda por região\n",
    "\n",
    "df_reg_dat = round(data_glp.groupby(['Regiao - Sigla','Data da Coleta']).mean(),2)\n",
    "df_reg_dat.reset_index(inplace=True)\n",
    "\n",
    "# Região Sul\n",
    "df_s = df_reg_dat[(df_reg_dat['Regiao - Sigla'] == 'S')]\n",
    "df_s_min = data_glp[(data_glp['Regiao - Sigla'] == 'S')].min()\n",
    "df_s_max = data_glp[(data_glp['Regiao - Sigla'] == 'S')].max()\n",
    "df_s_diff = df_s_max[5] - df_s_min[5]\n",
    "df_s_diff_2 = ((df_s_max[5] / df_s_min[5]) -1) * 100\n",
    "print('--------Região SUL---------')\n",
    "print('JAN|2022 - MAI|202')\n",
    "print(f'O menor preço de venda registrado foi de: R${df_s_min[5]:.2f}, no dia {df_s_min[4]}')\n",
    "print(f'O maior preço de venda registrado foi de: R${df_s_max[5]:.2f}, no dia {df_s_max[4]}')\n",
    "print(f'Um aumento de R${df_s_diff:.2f} - {df_s_diff_2:.2f}%')\n",
    "print(f'O ùltimo preço de venda coletado foi de: R${df_s.iloc[-1][2]}, no dia: {df_s.iloc[-1][1]}')\n",
    "print('---------------------------')\n",
    "\n",
    "# Região Sudeste\n",
    "df_se = df_reg_dat[(df_reg_dat['Regiao - Sigla'] == 'SE')]\n",
    "df_se_min = data_glp[(data_glp['Regiao - Sigla'] == 'SE')].min()\n",
    "df_se_max = data_glp[(data_glp['Regiao - Sigla'] == 'SE')].max()\n",
    "df_se_diff = df_se_max[5] - df_se_min[5]\n",
    "df_se_diff_2 = ((df_se_max[5] / df_se_min[5]) -1) * 100\n",
    "print('------Região SUDESTE-------')\n",
    "print('JAN|2022 - MAI|202')\n",
    "print(f'O menor preço de venda registrado foi de: R${df_se_min[5]:.2f}, no dia {df_se_min[4]}')\n",
    "print(f'O maior preço de venda registrado foi de: R${df_se_max[5]:.2f}, no dia {df_se_max[4]}')\n",
    "print(f'Um aumento de R${df_se_diff:.2f} - {df_se_diff_2:.2f}%')\n",
    "print(f'O ùltimo preço de venda coletado foi de: R${df_se.iloc[-1][2]}, no dia: {df_se.iloc[-1][1]}')\n",
    "print('---------------------------')\n",
    "\n",
    "# Região Centro-Oeste\n",
    "df_co = df_reg_dat[(df_reg_dat['Regiao - Sigla'] == 'CO')]\n",
    "df_co_min = data_glp[(data_glp['Regiao - Sigla'] == 'CO')].min()\n",
    "df_co_max = data_glp[(data_glp['Regiao - Sigla'] == 'CO')].max()\n",
    "df_co_diff = df_co_max[5] - df_co_min[5]\n",
    "df_co_diff_2 = ((df_co_max[5] / df_co_min[5]) -1) * 100\n",
    "print('----Região Centro Oeste----')\n",
    "print('JAN|2022 - MAI|202')\n",
    "print(f'O menor preço de venda registrado foi de: R${df_co_min[5]:.2f}, no dia {df_co_min[4]}')\n",
    "print(f'O maior preço de venda registrado foi de: R${df_co_max[5]:.2f}, no dia {df_co_max[4]}')\n",
    "print(f'Um aumento de R${df_co_diff:.2f} - {df_co_diff_2:.2f}%')\n",
    "print(f'O ùltimo preço de venda coletado foi de: R${df_co.iloc[-1][2]}, no dia: {df_co.iloc[-1][1]}')\n",
    "print('---------------------------')\n",
    "\n"
   ]
  },
  {
   "cell_type": "code",
   "execution_count": null,
   "metadata": {},
   "outputs": [],
   "source": [
    "df_s.iloc[-1]"
   ]
  }
 ],
 "metadata": {
  "interpreter": {
   "hash": "027a342a3963cf1d88171445b94f526678796bcee31b62d4862c1cbd664401bb"
  },
  "kernelspec": {
   "display_name": "Python 3.10.4 ('AED': venv)",
   "language": "python",
   "name": "python3"
  },
  "language_info": {
   "codemirror_mode": {
    "name": "ipython",
    "version": 3
   },
   "file_extension": ".py",
   "mimetype": "text/x-python",
   "name": "python",
   "nbconvert_exporter": "python",
   "pygments_lexer": "ipython3",
   "version": "3.10.5"
  },
  "orig_nbformat": 4
 },
 "nbformat": 4,
 "nbformat_minor": 2
}
