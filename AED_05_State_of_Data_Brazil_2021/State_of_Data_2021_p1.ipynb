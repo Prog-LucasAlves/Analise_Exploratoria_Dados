{
 "cells": [
  {
   "cell_type": "markdown",
   "metadata": {},
   "source": [
    "## Analisando os dados das perguntas P1 do State of Data 2021"
   ]
  },
  {
   "cell_type": "code",
   "execution_count": 1,
   "metadata": {},
   "outputs": [
    {
     "ename": "ModuleNotFoundError",
     "evalue": "No module named 'plolty'",
     "output_type": "error",
     "traceback": [
      "\u001b[1;31m---------------------------------------------------------------------------\u001b[0m",
      "\u001b[1;31mModuleNotFoundError\u001b[0m                       Traceback (most recent call last)",
      "\u001b[1;32m~\\AppData\\Local\\Temp/ipykernel_14612/4211374801.py\u001b[0m in \u001b[0;36m<module>\u001b[1;34m\u001b[0m\n\u001b[0;32m      5\u001b[0m \u001b[1;32mfrom\u001b[0m \u001b[0mmatplotlib\u001b[0m \u001b[1;32mimport\u001b[0m \u001b[0mpyplot\u001b[0m \u001b[1;32mas\u001b[0m \u001b[0mplt\u001b[0m\u001b[1;33m\u001b[0m\u001b[1;33m\u001b[0m\u001b[0m\n\u001b[0;32m      6\u001b[0m \u001b[1;32mimport\u001b[0m \u001b[0mseaborn\u001b[0m \u001b[1;32mas\u001b[0m \u001b[0msns\u001b[0m\u001b[1;33m\u001b[0m\u001b[1;33m\u001b[0m\u001b[0m\n\u001b[1;32m----> 7\u001b[1;33m \u001b[1;32mimport\u001b[0m \u001b[0mplolty\u001b[0m\u001b[1;33m.\u001b[0m\u001b[0mexpress\u001b[0m \u001b[1;32mas\u001b[0m \u001b[0mpx\u001b[0m\u001b[1;33m\u001b[0m\u001b[1;33m\u001b[0m\u001b[0m\n\u001b[0m\u001b[0;32m      8\u001b[0m \u001b[1;33m\u001b[0m\u001b[0m\n\u001b[0;32m      9\u001b[0m \u001b[1;31m# Imports para desativar mensagens de aviso\u001b[0m\u001b[1;33m\u001b[0m\u001b[1;33m\u001b[0m\u001b[0m\n",
      "\u001b[1;31mModuleNotFoundError\u001b[0m: No module named 'plolty'"
     ]
    }
   ],
   "source": [
    "# Imports para manipulação de dados\n",
    "import pandas as pd \n",
    "\n",
    "# Imports para visualização de dados e relatório\n",
    "from matplotlib import pyplot as plt \n",
    "import seaborn as sns\n",
    "import plolty.express as px\n",
    "\n",
    "# Imports para desativar mensagens de aviso\n",
    "import sys\n",
    "import warnings\n",
    "import matplotlib.cbook\n",
    "if not sys.warnoptions:\n",
    "    warnings.simplefilter(\"ignore\")\n",
    "warnings.simplefilter(action='ignore', category=FutureWarning)\n",
    "warnings.filterwarnings(\"ignore\", category=FutureWarning)\n",
    "warnings.filterwarnings(\"ignore\", category=matplotlib.cbook.mplDeprecation)\n",
    "\n",
    "# Configurando o pandas para mostar todas as linhas e colunas\n",
    "pd.set_option('display.max_rows', None)\n",
    "pd.set_option('display.max_columns', None)\n",
    "\n",
    "# Configurando o pandas para não mostar notação científica para números\n",
    "pd.set_option('display.float_format', lambda x: '%.2f' % x)"
   ]
  },
  {
   "cell_type": "code",
   "execution_count": 2,
   "metadata": {},
   "outputs": [
    {
     "name": "stdout",
     "output_type": "stream",
     "text": [
      "Author: State of Data Brasil - P1\n",
      "\n",
      "sys       : 3.10.5 (tags/v3.10.5:f377153, Jun  6 2022, 16:14:13) [MSC v.1929 64 bit (AMD64)]\n",
      "pandas    : 1.4.2\n",
      "seaborn   : 0.11.2\n",
      "matplotlib: 3.5.1\n",
      "\n"
     ]
    }
   ],
   "source": [
    "# Versões dos pacotes utilizados\n",
    "\n",
    "%reload_ext watermark\n",
    "%watermark -a \"State of Data Brasil - P1\" --iversions"
   ]
  },
  {
   "cell_type": "code",
   "execution_count": 4,
   "metadata": {},
   "outputs": [
    {
     "data": {
      "text/html": [
       "<div>\n",
       "<style scoped>\n",
       "    .dataframe tbody tr th:only-of-type {\n",
       "        vertical-align: middle;\n",
       "    }\n",
       "\n",
       "    .dataframe tbody tr th {\n",
       "        vertical-align: top;\n",
       "    }\n",
       "\n",
       "    .dataframe thead th {\n",
       "        text-align: right;\n",
       "    }\n",
       "</style>\n",
       "<table border=\"1\" class=\"dataframe\">\n",
       "  <thead>\n",
       "    <tr style=\"text-align: right;\">\n",
       "      <th></th>\n",
       "      <th>Unnamed: 0</th>\n",
       "      <th>('P1_a ', 'Idade')</th>\n",
       "      <th>('P1_a_a ', 'Faixa idade')</th>\n",
       "      <th>('P1_b ', 'Genero')</th>\n",
       "      <th>('P1_e ', 'Estado onde mora')</th>\n",
       "      <th>('P1_e_a ', 'uf onde mora')</th>\n",
       "      <th>('P1_e_b ', 'Regiao onde mora')</th>\n",
       "      <th>('P1_g_b ', 'Regiao de origem')</th>\n",
       "    </tr>\n",
       "  </thead>\n",
       "  <tbody>\n",
       "    <tr>\n",
       "      <th>0</th>\n",
       "      <td>0</td>\n",
       "      <td>38.00</td>\n",
       "      <td>35-39</td>\n",
       "      <td>Masculino</td>\n",
       "      <td>Ceará (CE)</td>\n",
       "      <td>CE</td>\n",
       "      <td>Nordeste</td>\n",
       "      <td>NaN</td>\n",
       "    </tr>\n",
       "    <tr>\n",
       "      <th>1</th>\n",
       "      <td>1</td>\n",
       "      <td>39.00</td>\n",
       "      <td>35-39</td>\n",
       "      <td>Masculino</td>\n",
       "      <td>Bahia (BA)</td>\n",
       "      <td>BA</td>\n",
       "      <td>Nordeste</td>\n",
       "      <td>Sudeste</td>\n",
       "    </tr>\n",
       "    <tr>\n",
       "      <th>2</th>\n",
       "      <td>2</td>\n",
       "      <td>30.00</td>\n",
       "      <td>30-34</td>\n",
       "      <td>Masculino</td>\n",
       "      <td>Santa Catarina (SC)</td>\n",
       "      <td>SC</td>\n",
       "      <td>Sul</td>\n",
       "      <td>NaN</td>\n",
       "    </tr>\n",
       "    <tr>\n",
       "      <th>3</th>\n",
       "      <td>3</td>\n",
       "      <td>38.00</td>\n",
       "      <td>35-39</td>\n",
       "      <td>Feminino</td>\n",
       "      <td>São Paulo (SP)</td>\n",
       "      <td>SP</td>\n",
       "      <td>Sudeste</td>\n",
       "      <td>NaN</td>\n",
       "    </tr>\n",
       "    <tr>\n",
       "      <th>4</th>\n",
       "      <td>4</td>\n",
       "      <td>36.00</td>\n",
       "      <td>35-39</td>\n",
       "      <td>Masculino</td>\n",
       "      <td>Santa Catarina (SC)</td>\n",
       "      <td>SC</td>\n",
       "      <td>Sul</td>\n",
       "      <td>NaN</td>\n",
       "    </tr>\n",
       "  </tbody>\n",
       "</table>\n",
       "</div>"
      ],
      "text/plain": [
       "   Unnamed: 0  ('P1_a ', 'Idade') ('P1_a_a ', 'Faixa idade')  \\\n",
       "0           0               38.00                      35-39   \n",
       "1           1               39.00                      35-39   \n",
       "2           2               30.00                      30-34   \n",
       "3           3               38.00                      35-39   \n",
       "4           4               36.00                      35-39   \n",
       "\n",
       "  ('P1_b ', 'Genero') ('P1_e ', 'Estado onde mora')  \\\n",
       "0           Masculino                    Ceará (CE)   \n",
       "1           Masculino                    Bahia (BA)   \n",
       "2           Masculino           Santa Catarina (SC)   \n",
       "3            Feminino                São Paulo (SP)   \n",
       "4           Masculino           Santa Catarina (SC)   \n",
       "\n",
       "  ('P1_e_a ', 'uf onde mora') ('P1_e_b ', 'Regiao onde mora')  \\\n",
       "0                          CE                        Nordeste   \n",
       "1                          BA                        Nordeste   \n",
       "2                          SC                             Sul   \n",
       "3                          SP                         Sudeste   \n",
       "4                          SC                             Sul   \n",
       "\n",
       "  ('P1_g_b ', 'Regiao de origem')  \n",
       "0                             NaN  \n",
       "1                         Sudeste  \n",
       "2                             NaN  \n",
       "3                             NaN  \n",
       "4                             NaN  "
      ]
     },
     "execution_count": 4,
     "metadata": {},
     "output_type": "execute_result"
    }
   ],
   "source": [
    "# Carregando os dados\n",
    "df = pd.read_csv('./data/perguntas1.csv')\n",
    "\n",
    "df.head()"
   ]
  },
  {
   "cell_type": "code",
   "execution_count": 7,
   "metadata": {},
   "outputs": [
    {
     "data": {
      "text/html": [
       "<div>\n",
       "<style scoped>\n",
       "    .dataframe tbody tr th:only-of-type {\n",
       "        vertical-align: middle;\n",
       "    }\n",
       "\n",
       "    .dataframe tbody tr th {\n",
       "        vertical-align: top;\n",
       "    }\n",
       "\n",
       "    .dataframe thead th {\n",
       "        text-align: right;\n",
       "    }\n",
       "</style>\n",
       "<table border=\"1\" class=\"dataframe\">\n",
       "  <thead>\n",
       "    <tr style=\"text-align: right;\">\n",
       "      <th></th>\n",
       "      <th>Idade</th>\n",
       "      <th>Faixa_Idade</th>\n",
       "      <th>Genero</th>\n",
       "      <th>Estado_Onde_Mora</th>\n",
       "      <th>UF_Onde_Mora</th>\n",
       "      <th>Regiao_Onde_Mora</th>\n",
       "      <th>Regiao_De_origem</th>\n",
       "    </tr>\n",
       "  </thead>\n",
       "  <tbody>\n",
       "    <tr>\n",
       "      <th>0</th>\n",
       "      <td>38.00</td>\n",
       "      <td>35-39</td>\n",
       "      <td>Masculino</td>\n",
       "      <td>Ceará (CE)</td>\n",
       "      <td>CE</td>\n",
       "      <td>Nordeste</td>\n",
       "      <td>NaN</td>\n",
       "    </tr>\n",
       "    <tr>\n",
       "      <th>1</th>\n",
       "      <td>39.00</td>\n",
       "      <td>35-39</td>\n",
       "      <td>Masculino</td>\n",
       "      <td>Bahia (BA)</td>\n",
       "      <td>BA</td>\n",
       "      <td>Nordeste</td>\n",
       "      <td>Sudeste</td>\n",
       "    </tr>\n",
       "    <tr>\n",
       "      <th>2</th>\n",
       "      <td>30.00</td>\n",
       "      <td>30-34</td>\n",
       "      <td>Masculino</td>\n",
       "      <td>Santa Catarina (SC)</td>\n",
       "      <td>SC</td>\n",
       "      <td>Sul</td>\n",
       "      <td>NaN</td>\n",
       "    </tr>\n",
       "    <tr>\n",
       "      <th>3</th>\n",
       "      <td>38.00</td>\n",
       "      <td>35-39</td>\n",
       "      <td>Feminino</td>\n",
       "      <td>São Paulo (SP)</td>\n",
       "      <td>SP</td>\n",
       "      <td>Sudeste</td>\n",
       "      <td>NaN</td>\n",
       "    </tr>\n",
       "    <tr>\n",
       "      <th>4</th>\n",
       "      <td>36.00</td>\n",
       "      <td>35-39</td>\n",
       "      <td>Masculino</td>\n",
       "      <td>Santa Catarina (SC)</td>\n",
       "      <td>SC</td>\n",
       "      <td>Sul</td>\n",
       "      <td>NaN</td>\n",
       "    </tr>\n",
       "  </tbody>\n",
       "</table>\n",
       "</div>"
      ],
      "text/plain": [
       "   Idade Faixa_Idade     Genero     Estado_Onde_Mora UF_Onde_Mora  \\\n",
       "0  38.00       35-39  Masculino           Ceará (CE)           CE   \n",
       "1  39.00       35-39  Masculino           Bahia (BA)           BA   \n",
       "2  30.00       30-34  Masculino  Santa Catarina (SC)           SC   \n",
       "3  38.00       35-39   Feminino       São Paulo (SP)           SP   \n",
       "4  36.00       35-39  Masculino  Santa Catarina (SC)           SC   \n",
       "\n",
       "  Regiao_Onde_Mora Regiao_De_origem  \n",
       "0         Nordeste              NaN  \n",
       "1         Nordeste          Sudeste  \n",
       "2              Sul              NaN  \n",
       "3          Sudeste              NaN  \n",
       "4              Sul              NaN  "
      ]
     },
     "execution_count": 7,
     "metadata": {},
     "output_type": "execute_result"
    }
   ],
   "source": [
    "# Alterando os nomes das colunas\n",
    "df.rename(columns={\"('P1_a ', 'Idade')\" : 'Idade',\"('P1_a_a ', 'Faixa idade')\" : 'Faixa_Idade',\n",
    "\"('P1_b ', 'Genero')\" : 'Genero', \"('P1_e ', 'Estado onde mora')\" : 'Estado_Onde_Mora',\n",
    "\"('P1_e_a ', 'uf onde mora')\" : 'UF_Onde_Mora', \"('P1_e_b ', 'Regiao onde mora')\" : 'Regiao_Onde_Mora',\n",
    "\"('P1_g_b ', 'Regiao de origem')\" : 'Regiao_De_origem'}, inplace=True)\n",
    "\n",
    "del df['Unnamed: 0'] #\n",
    "\n",
    "df.head()"
   ]
  },
  {
   "cell_type": "code",
   "execution_count": 8,
   "metadata": {},
   "outputs": [
    {
     "data": {
      "text/plain": [
       "(2645, 7)"
      ]
     },
     "execution_count": 8,
     "metadata": {},
     "output_type": "execute_result"
    }
   ],
   "source": [
    "# Verificando a quantidade de linhas e colunas\n",
    "df.shape"
   ]
  },
  {
   "cell_type": "code",
   "execution_count": 9,
   "metadata": {},
   "outputs": [
    {
     "data": {
      "image/png": "[encoded data removed]",
      "text/plain": [
       "<Figure size 360x216 with 1 Axes>"
      ]
     },
     "metadata": {},
     "output_type": "display_data"
    }
   ],
   "source": [
    "sns.set_style(\"darkgrid\")\n",
    "plt.figure(figsize=(5, 3))\n",
    "sns.distplot(df['Idade']);"
   ]
  }
 ],
 "metadata": {
  "kernelspec": {
   "display_name": "Python 3.10.5 ('AED': venv)",
   "language": "python",
   "name": "python3"
  },
  "language_info": {
   "codemirror_mode": {
    "name": "ipython",
    "version": 3
   },
   "file_extension": ".py",
   "mimetype": "text/x-python",
   "name": "python",
   "nbconvert_exporter": "python",
   "pygments_lexer": "ipython3",
   "version": "3.10.5"
  },
  "orig_nbformat": 4,
  "vscode": {
   "interpreter": {
    "hash": "027a342a3963cf1d88171445b94f526678796bcee31b62d4862c1cbd664401bb"
   }
  }
 },
 "nbformat": 4,
 "nbformat_minor": 2
}
