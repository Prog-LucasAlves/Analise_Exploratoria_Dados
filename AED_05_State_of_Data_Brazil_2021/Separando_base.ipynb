{
 "cells": [
  {
   "cell_type": "markdown",
   "metadata": {},
   "source": [
    "# Separando os dados do State of Data Brasil 2021"
   ]
  },
  {
   "cell_type": "code",
   "execution_count": 3,
   "metadata": {},
   "outputs": [],
   "source": [
    "# Imports para manipulação de dados\n",
    "import pandas as pd \n",
    "\n",
    "# Configurando o pandas para mostar todas as linhas e colunas\n",
    "pd.set_option('display.max_rows', None)\n",
    "pd.set_option('display.max_columns', None)\n",
    "\n",
    "# Configurando o pandas para não mostar notação científica para números\n",
    "pd.set_option('display.float_format', lambda x: '%.2f' % x)"
   ]
  },
  {
   "cell_type": "code",
   "execution_count": 4,
   "metadata": {},
   "outputs": [
    {
     "name": "stdout",
     "output_type": "stream",
     "text": [
      "Author: State of Data Brasil\n",
      "\n",
      "sys   : 3.10.5 (tags/v3.10.5:f377153, Jun  6 2022, 16:14:13) [MSC v.1929 64 bit (AMD64)]\n",
      "pandas: 1.4.2\n",
      "\n"
     ]
    }
   ],
   "source": [
    "# Versões dos pacotes utilizados\n",
    "\n",
    "%reload_ext watermark\n",
    "%watermark -a \"State of Data Brasil\" --iversions"
   ]
  },
  {
   "cell_type": "markdown",
   "metadata": {},
   "source": [
    "### Carregando e Salvando os dados"
   ]
  },
  {
   "cell_type": "code",
   "execution_count": 3,
   "metadata": {},
   "outputs": [],
   "source": [
    "# Carregando os dados\n",
    "# Vamos separar os dados \n",
    "# df_p1 -> dados relacionados aos itens das perguntas P1\n",
    "\n",
    "colunas = ['(\\'P1_a \\', \\'Idade\\')', '(\\'P1_a_a \\', \\'Faixa idade\\')', '(\\'P1_b \\', \\'Genero\\')',\n",
    "'(\\'P1_e \\', \\'Estado onde mora\\')', '(\\'P1_e_a \\', \\'uf onde mora\\')', '(\\'P1_e_b \\', \\'Regiao onde mora\\')',\n",
    "'(\\'P1_g_b \\', \\'Regiao de origem\\')']\n",
    "\n",
    "df_p1 = pd.read_csv('./data/State_of_Data_2021_Dataset_Pgina1.csv', usecols=colunas)\n",
    "\n",
    "df_p1.to_csv('./data/perguntas1.csv')\n"
   ]
  }
 ],
 "metadata": {
  "kernelspec": {
   "display_name": "Python 3.10.5 ('AED': venv)",
   "language": "python",
   "name": "python3"
  },
  "language_info": {
   "codemirror_mode": {
    "name": "ipython",
    "version": 3
   },
   "file_extension": ".py",
   "mimetype": "text/x-python",
   "name": "python",
   "nbconvert_exporter": "python",
   "pygments_lexer": "ipython3",
   "version": "3.10.5"
  },
  "orig_nbformat": 4,
  "vscode": {
   "interpreter": {
    "hash": "027a342a3963cf1d88171445b94f526678796bcee31b62d4862c1cbd664401bb"
   }
  }
 },
 "nbformat": 4,
 "nbformat_minor": 2
}
