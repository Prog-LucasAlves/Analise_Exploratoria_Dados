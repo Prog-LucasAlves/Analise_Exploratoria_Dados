{
 "cells": [
  {
   "cell_type": "markdown",
   "metadata": {},
   "source": [
    "## <center>Exploração de dados de cotações das Ações listadas na B3</center>"
   ]
  },
  {
   "cell_type": "markdown",
   "metadata": {},
   "source": [
    "#### O Quando os valores outlires do retorno empaquetam no retorno acumulado de uma ação."
   ]
  },
  {
   "cell_type": "code",
   "execution_count": 37,
   "metadata": {},
   "outputs": [],
   "source": [
    "# Imports\n",
    "\n",
    "# Manipulação dos dados\n",
    "import numpy as np\n",
    "import pandas as pd\n",
    "\n",
    "# Cotações das Ações\n",
    "import yfinance as yf\n",
    "\n",
    "# Visualização dos dados\n",
    "import matplotlib.pyplot as plt\n",
    "import seaborn as sns\n",
    "\n",
    "# Sistema\n",
    "import sys\n",
    "import os\n",
    "\n",
    "# Ignore Warning(Avisos)\n",
    "import warnings\n",
    "warnings.filterwarnings('ignore')\n",
    "\n",
    "pd.set_option('display.max_columns', 100)"
   ]
  },
  {
   "cell_type": "code",
   "execution_count": 38,
   "metadata": {},
   "outputs": [],
   "source": [
    "# Vamos adicionar o caminho para os módulos Python\n",
    "sys.path.append(os.path.abspath(os.path.join('../modulos/')))\n",
    "from estrategia1 import *\n",
    "from estrategia2 import *\n",
    "from estrategia3 import *"
   ]
  },
  {
   "cell_type": "code",
   "execution_count": 39,
   "metadata": {},
   "outputs": [],
   "source": [
    "# Fontes para os gráficos\n",
    "\n",
    "font_title = {'family': 'serif',\n",
    "        'color':  'darkred',\n",
    "        'weight': 'normal',\n",
    "        'size': 16,\n",
    "        }\n",
    "\n",
    "font_ylabel = {'family': 'serif',\n",
    "        'color':  'darkred',\n",
    "        'weight': 'normal',\n",
    "        'size': 14,\n",
    "        }\n",
    "\n",
    "font_xlabel = {'family': 'serif',\n",
    "        'color':  'darkred',\n",
    "        'weight': 'normal',\n",
    "        'size': 14,\n",
    "        }"
   ]
  },
  {
   "cell_type": "markdown",
   "metadata": {},
   "source": [
    "#### Ticker da Ação | Data inicial e final da coleta dos dados das cotações"
   ]
  },
  {
   "cell_type": "code",
   "execution_count": 40,
   "metadata": {},
   "outputs": [],
   "source": [
    "ticker = 'ITSA4'\n",
    "dt_inicial = '2014-01-01'"
   ]
  },
  {
   "cell_type": "markdown",
   "metadata": {},
   "source": [
    "#### Coleta das cotações e Verificando/Tratando os valores ausentes"
   ]
  },
  {
   "cell_type": "code",
   "execution_count": 41,
   "metadata": {},
   "outputs": [
    {
     "data": {
      "text/html": [
       "<div>\n",
       "<style scoped>\n",
       "    .dataframe tbody tr th:only-of-type {\n",
       "        vertical-align: middle;\n",
       "    }\n",
       "\n",
       "    .dataframe tbody tr th {\n",
       "        vertical-align: top;\n",
       "    }\n",
       "\n",
       "    .dataframe thead th {\n",
       "        text-align: right;\n",
       "    }\n",
       "</style>\n",
       "<table border=\"1\" class=\"dataframe\">\n",
       "  <thead>\n",
       "    <tr style=\"text-align: right;\">\n",
       "      <th></th>\n",
       "      <th>Open</th>\n",
       "      <th>High</th>\n",
       "      <th>Low</th>\n",
       "      <th>Close</th>\n",
       "      <th>Adj Close</th>\n",
       "      <th>Volume</th>\n",
       "    </tr>\n",
       "    <tr>\n",
       "      <th>Date</th>\n",
       "      <th></th>\n",
       "      <th></th>\n",
       "      <th></th>\n",
       "      <th></th>\n",
       "      <th></th>\n",
       "      <th></th>\n",
       "    </tr>\n",
       "  </thead>\n",
       "  <tbody>\n",
       "    <tr>\n",
       "      <th>2022-07-19</th>\n",
       "      <td>8.48</td>\n",
       "      <td>8.64</td>\n",
       "      <td>8.42</td>\n",
       "      <td>8.59</td>\n",
       "      <td>8.59</td>\n",
       "      <td>19393500.0</td>\n",
       "    </tr>\n",
       "    <tr>\n",
       "      <th>2022-07-20</th>\n",
       "      <td>8.58</td>\n",
       "      <td>8.59</td>\n",
       "      <td>8.44</td>\n",
       "      <td>8.46</td>\n",
       "      <td>8.46</td>\n",
       "      <td>16462200.0</td>\n",
       "    </tr>\n",
       "    <tr>\n",
       "      <th>2022-07-21</th>\n",
       "      <td>8.47</td>\n",
       "      <td>8.58</td>\n",
       "      <td>8.38</td>\n",
       "      <td>8.56</td>\n",
       "      <td>8.56</td>\n",
       "      <td>14112500.0</td>\n",
       "    </tr>\n",
       "    <tr>\n",
       "      <th>2022-07-22</th>\n",
       "      <td>8.58</td>\n",
       "      <td>8.60</td>\n",
       "      <td>8.39</td>\n",
       "      <td>8.47</td>\n",
       "      <td>8.47</td>\n",
       "      <td>12064900.0</td>\n",
       "    </tr>\n",
       "    <tr>\n",
       "      <th>2022-07-25</th>\n",
       "      <td>8.50</td>\n",
       "      <td>8.59</td>\n",
       "      <td>8.49</td>\n",
       "      <td>8.54</td>\n",
       "      <td>8.54</td>\n",
       "      <td>10114300.0</td>\n",
       "    </tr>\n",
       "  </tbody>\n",
       "</table>\n",
       "</div>"
      ],
      "text/plain": [
       "            Open  High   Low  Close  Adj Close      Volume\n",
       "Date                                                      \n",
       "2022-07-19  8.48  8.64  8.42   8.59       8.59  19393500.0\n",
       "2022-07-20  8.58  8.59  8.44   8.46       8.46  16462200.0\n",
       "2022-07-21  8.47  8.58  8.38   8.56       8.56  14112500.0\n",
       "2022-07-22  8.58  8.60  8.39   8.47       8.47  12064900.0\n",
       "2022-07-25  8.50  8.59  8.49   8.54       8.54  10114300.0"
      ]
     },
     "execution_count": 41,
     "metadata": {},
     "output_type": "execute_result"
    }
   ],
   "source": [
    "df = yf.download(f'{ticker}.SA', start=dt_inicial, threads=False, progress=False)\n",
    "\n",
    "# Amostra dos dados\n",
    "df.tail()"
   ]
  },
  {
   "cell_type": "code",
   "execution_count": 42,
   "metadata": {},
   "outputs": [
    {
     "name": "stdout",
     "output_type": "stream",
     "text": [
      "<class 'pandas.core.frame.DataFrame'>\n",
      "DatetimeIndex: 2128 entries, 2014-01-02 to 2022-07-25\n",
      "Data columns (total 6 columns):\n",
      " #   Column     Non-Null Count  Dtype  \n",
      "---  ------     --------------  -----  \n",
      " 0   Open       2127 non-null   float64\n",
      " 1   High       2127 non-null   float64\n",
      " 2   Low        2127 non-null   float64\n",
      " 3   Close      2127 non-null   float64\n",
      " 4   Adj Close  2127 non-null   float64\n",
      " 5   Volume     2127 non-null   float64\n",
      "dtypes: float64(6)\n",
      "memory usage: 116.4 KB\n"
     ]
    }
   ],
   "source": [
    "# Verificando informações do dataset\n",
    "df.info()"
   ]
  },
  {
   "cell_type": "code",
   "execution_count": 43,
   "metadata": {},
   "outputs": [
    {
     "data": {
      "text/plain": [
       "Open         1\n",
       "High         1\n",
       "Low          1\n",
       "Close        1\n",
       "Adj Close    1\n",
       "Volume       1\n",
       "dtype: int64"
      ]
     },
     "execution_count": 43,
     "metadata": {},
     "output_type": "execute_result"
    }
   ],
   "source": [
    "# Verificando se a dados ausentes\n",
    "df.isnull().sum()"
   ]
  },
  {
   "cell_type": "code",
   "execution_count": 44,
   "metadata": {},
   "outputs": [
    {
     "data": {
      "text/html": [
       "<div>\n",
       "<style scoped>\n",
       "    .dataframe tbody tr th:only-of-type {\n",
       "        vertical-align: middle;\n",
       "    }\n",
       "\n",
       "    .dataframe tbody tr th {\n",
       "        vertical-align: top;\n",
       "    }\n",
       "\n",
       "    .dataframe thead th {\n",
       "        text-align: right;\n",
       "    }\n",
       "</style>\n",
       "<table border=\"1\" class=\"dataframe\">\n",
       "  <thead>\n",
       "    <tr style=\"text-align: right;\">\n",
       "      <th></th>\n",
       "      <th>Open</th>\n",
       "      <th>High</th>\n",
       "      <th>Low</th>\n",
       "      <th>Close</th>\n",
       "      <th>Adj Close</th>\n",
       "      <th>Volume</th>\n",
       "    </tr>\n",
       "  </thead>\n",
       "  <tbody>\n",
       "    <tr>\n",
       "      <th>count</th>\n",
       "      <td>2127.000000</td>\n",
       "      <td>2127.000000</td>\n",
       "      <td>2127.000000</td>\n",
       "      <td>2127.000000</td>\n",
       "      <td>2127.000000</td>\n",
       "      <td>2.127000e+03</td>\n",
       "    </tr>\n",
       "    <tr>\n",
       "      <th>mean</th>\n",
       "      <td>8.909892</td>\n",
       "      <td>9.016811</td>\n",
       "      <td>8.793529</td>\n",
       "      <td>8.905045</td>\n",
       "      <td>7.324239</td>\n",
       "      <td>2.490927e+07</td>\n",
       "    </tr>\n",
       "    <tr>\n",
       "      <th>std</th>\n",
       "      <td>2.137680</td>\n",
       "      <td>2.150300</td>\n",
       "      <td>2.116982</td>\n",
       "      <td>2.136731</td>\n",
       "      <td>2.514278</td>\n",
       "      <td>1.272167e+07</td>\n",
       "    </tr>\n",
       "    <tr>\n",
       "      <th>min</th>\n",
       "      <td>4.910443</td>\n",
       "      <td>4.965177</td>\n",
       "      <td>4.886985</td>\n",
       "      <td>4.910443</td>\n",
       "      <td>3.286015</td>\n",
       "      <td>0.000000e+00</td>\n",
       "    </tr>\n",
       "    <tr>\n",
       "      <th>25%</th>\n",
       "      <td>7.028267</td>\n",
       "      <td>7.122488</td>\n",
       "      <td>6.935610</td>\n",
       "      <td>7.039788</td>\n",
       "      <td>4.696162</td>\n",
       "      <td>1.651738e+07</td>\n",
       "    </tr>\n",
       "    <tr>\n",
       "      <th>50%</th>\n",
       "      <td>9.009523</td>\n",
       "      <td>9.108225</td>\n",
       "      <td>8.885714</td>\n",
       "      <td>8.990000</td>\n",
       "      <td>7.613425</td>\n",
       "      <td>2.216834e+07</td>\n",
       "    </tr>\n",
       "    <tr>\n",
       "      <th>75%</th>\n",
       "      <td>10.580952</td>\n",
       "      <td>10.704761</td>\n",
       "      <td>10.476190</td>\n",
       "      <td>10.600000</td>\n",
       "      <td>9.523808</td>\n",
       "      <td>3.021750e+07</td>\n",
       "    </tr>\n",
       "    <tr>\n",
       "      <th>max</th>\n",
       "      <td>13.523809</td>\n",
       "      <td>13.695238</td>\n",
       "      <td>13.447619</td>\n",
       "      <td>13.666666</td>\n",
       "      <td>12.219232</td>\n",
       "      <td>1.227457e+08</td>\n",
       "    </tr>\n",
       "  </tbody>\n",
       "</table>\n",
       "</div>"
      ],
      "text/plain": [
       "              Open         High          Low        Close    Adj Close  \\\n",
       "count  2127.000000  2127.000000  2127.000000  2127.000000  2127.000000   \n",
       "mean      8.909892     9.016811     8.793529     8.905045     7.324239   \n",
       "std       2.137680     2.150300     2.116982     2.136731     2.514278   \n",
       "min       4.910443     4.965177     4.886985     4.910443     3.286015   \n",
       "25%       7.028267     7.122488     6.935610     7.039788     4.696162   \n",
       "50%       9.009523     9.108225     8.885714     8.990000     7.613425   \n",
       "75%      10.580952    10.704761    10.476190    10.600000     9.523808   \n",
       "max      13.523809    13.695238    13.447619    13.666666    12.219232   \n",
       "\n",
       "             Volume  \n",
       "count  2.127000e+03  \n",
       "mean   2.490927e+07  \n",
       "std    1.272167e+07  \n",
       "min    0.000000e+00  \n",
       "25%    1.651738e+07  \n",
       "50%    2.216834e+07  \n",
       "75%    3.021750e+07  \n",
       "max    1.227457e+08  "
      ]
     },
     "execution_count": 44,
     "metadata": {},
     "output_type": "execute_result"
    }
   ],
   "source": [
    "# Verificando alguns dados de medida central\n",
    "df.describe()"
   ]
  },
  {
   "cell_type": "code",
   "execution_count": 45,
   "metadata": {},
   "outputs": [
    {
     "data": {
      "image/png": "[encoded data removed]",
      "text/plain": [
       "<Figure size 1080x288 with 3 Axes>"
      ]
     },
     "metadata": {
      "needs_background": "light"
     },
     "output_type": "display_data"
    },
    {
     "data": {
      "image/png": "[encoded data removed]",
      "text/plain": [
       "<Figure size 1080x288 with 3 Axes>"
      ]
     },
     "metadata": {
      "needs_background": "light"
     },
     "output_type": "display_data"
    }
   ],
   "source": [
    "# Histograma das variáveis\n",
    "figura1, (ax1, ax2, ax3) = plt.subplots(1, 3, figsize=(15,4))\n",
    "figura2, (ax4, ax5, ax6) = plt.subplots(1, 3, figsize=(15,4))\n",
    "\n",
    "sns.histplot(df['Open'], bins=15, kde=True, ax=ax1)\n",
    "sns.histplot(df['High'], bins=15, kde=True, ax=ax2)\n",
    "sns.histplot(df['Low'], bins=15, kde=True, ax=ax3)\n",
    "sns.histplot(df['Close'], bins=15, kde=True, ax=ax4)\n",
    "sns.histplot(df['Adj Close'], bins=15, kde=True, ax=ax5)\n",
    "sns.histplot(df['Volume'], bins=15, kde=True, ax=ax6)\n",
    "plt.show()"
   ]
  },
  {
   "cell_type": "code",
   "execution_count": 46,
   "metadata": {},
   "outputs": [],
   "source": [
    "# Vamos realizar a imputação dos dados ausentes pela mediana\n",
    "df['Open'].fillna(df['Open'].median(), inplace=True)\n",
    "df['High'].fillna(df['High'].median(), inplace=True)\n",
    "df['Low'].fillna(df['Low'].median(), inplace=True)\n",
    "df['Close'].fillna(df['Close'].median(), inplace=True)\n",
    "df['Adj Close'].fillna(df['Adj Close'].median(), inplace=True)\n",
    "df['Volume'].fillna(df['Volume'].median(), inplace=True)"
   ]
  },
  {
   "cell_type": "code",
   "execution_count": 47,
   "metadata": {},
   "outputs": [
    {
     "data": {
      "text/plain": [
       "Open         0\n",
       "High         0\n",
       "Low          0\n",
       "Close        0\n",
       "Adj Close    0\n",
       "Volume       0\n",
       "dtype: int64"
      ]
     },
     "execution_count": 47,
     "metadata": {},
     "output_type": "execute_result"
    }
   ],
   "source": [
    "# Verificando se a dados ausentes\n",
    "df.isnull().sum()"
   ]
  },
  {
   "cell_type": "markdown",
   "metadata": {},
   "source": [
    "### Criando novas variáveis (Retorno)"
   ]
  },
  {
   "cell_type": "code",
   "execution_count": 48,
   "metadata": {},
   "outputs": [
    {
     "data": {
      "text/html": [
       "<div>\n",
       "<style scoped>\n",
       "    .dataframe tbody tr th:only-of-type {\n",
       "        vertical-align: middle;\n",
       "    }\n",
       "\n",
       "    .dataframe tbody tr th {\n",
       "        vertical-align: top;\n",
       "    }\n",
       "\n",
       "    .dataframe thead th {\n",
       "        text-align: right;\n",
       "    }\n",
       "</style>\n",
       "<table border=\"1\" class=\"dataframe\">\n",
       "  <thead>\n",
       "    <tr style=\"text-align: right;\">\n",
       "      <th></th>\n",
       "      <th>Open</th>\n",
       "      <th>High</th>\n",
       "      <th>Low</th>\n",
       "      <th>Close</th>\n",
       "      <th>Adj Close</th>\n",
       "      <th>Volume</th>\n",
       "      <th>Retorno</th>\n",
       "    </tr>\n",
       "    <tr>\n",
       "      <th>Date</th>\n",
       "      <th></th>\n",
       "      <th></th>\n",
       "      <th></th>\n",
       "      <th></th>\n",
       "      <th></th>\n",
       "      <th></th>\n",
       "      <th></th>\n",
       "    </tr>\n",
       "  </thead>\n",
       "  <tbody>\n",
       "    <tr>\n",
       "      <th>2014-01-02</th>\n",
       "      <td>5.734564</td>\n",
       "      <td>5.766673</td>\n",
       "      <td>5.612552</td>\n",
       "      <td>5.638239</td>\n",
       "      <td>3.581270</td>\n",
       "      <td>15945191.0</td>\n",
       "      <td>NaN</td>\n",
       "    </tr>\n",
       "    <tr>\n",
       "      <th>2014-01-03</th>\n",
       "      <td>5.638239</td>\n",
       "      <td>5.696034</td>\n",
       "      <td>5.606131</td>\n",
       "      <td>5.657504</td>\n",
       "      <td>3.593507</td>\n",
       "      <td>15756456.0</td>\n",
       "      <td>0.34</td>\n",
       "    </tr>\n",
       "    <tr>\n",
       "      <th>2014-01-06</th>\n",
       "      <td>5.631817</td>\n",
       "      <td>5.728143</td>\n",
       "      <td>5.631817</td>\n",
       "      <td>5.696034</td>\n",
       "      <td>3.617981</td>\n",
       "      <td>16779396.0</td>\n",
       "      <td>0.68</td>\n",
       "    </tr>\n",
       "    <tr>\n",
       "      <th>2014-01-07</th>\n",
       "      <td>5.689613</td>\n",
       "      <td>5.747408</td>\n",
       "      <td>5.657504</td>\n",
       "      <td>5.676769</td>\n",
       "      <td>3.605743</td>\n",
       "      <td>20329554.0</td>\n",
       "      <td>-0.34</td>\n",
       "    </tr>\n",
       "    <tr>\n",
       "      <th>2014-01-08</th>\n",
       "      <td>5.676769</td>\n",
       "      <td>5.728143</td>\n",
       "      <td>5.644661</td>\n",
       "      <td>5.708878</td>\n",
       "      <td>3.626137</td>\n",
       "      <td>20823817.0</td>\n",
       "      <td>0.57</td>\n",
       "    </tr>\n",
       "  </tbody>\n",
       "</table>\n",
       "</div>"
      ],
      "text/plain": [
       "                Open      High       Low     Close  Adj Close      Volume  \\\n",
       "Date                                                                        \n",
       "2014-01-02  5.734564  5.766673  5.612552  5.638239   3.581270  15945191.0   \n",
       "2014-01-03  5.638239  5.696034  5.606131  5.657504   3.593507  15756456.0   \n",
       "2014-01-06  5.631817  5.728143  5.631817  5.696034   3.617981  16779396.0   \n",
       "2014-01-07  5.689613  5.747408  5.657504  5.676769   3.605743  20329554.0   \n",
       "2014-01-08  5.676769  5.728143  5.644661  5.708878   3.626137  20823817.0   \n",
       "\n",
       "            Retorno  \n",
       "Date                 \n",
       "2014-01-02      NaN  \n",
       "2014-01-03     0.34  \n",
       "2014-01-06     0.68  \n",
       "2014-01-07    -0.34  \n",
       "2014-01-08     0.57  "
      ]
     },
     "execution_count": 48,
     "metadata": {},
     "output_type": "execute_result"
    }
   ],
   "source": [
    "# Criando a variável de retorno\n",
    "df['Retorno'] = round(df['Adj Close'].pct_change() * 100, 2)\n",
    "df.head()"
   ]
  },
  {
   "cell_type": "markdown",
   "metadata": {},
   "source": [
    "#### Trantando valores ausentes variável (Retorno)"
   ]
  },
  {
   "cell_type": "code",
   "execution_count": 49,
   "metadata": {},
   "outputs": [
    {
     "data": {
      "text/plain": [
       "Open         0\n",
       "High         0\n",
       "Low          0\n",
       "Close        0\n",
       "Adj Close    0\n",
       "Volume       0\n",
       "Retorno      1\n",
       "dtype: int64"
      ]
     },
     "execution_count": 49,
     "metadata": {},
     "output_type": "execute_result"
    }
   ],
   "source": [
    "# Verificando se a dados ausentes\n",
    "df.isnull().sum()"
   ]
  },
  {
   "cell_type": "code",
   "execution_count": 50,
   "metadata": {},
   "outputs": [
    {
     "data": {
      "image/png": "[encoded data removed]",
      "text/plain": [
       "<Figure size 432x288 with 1 Axes>"
      ]
     },
     "metadata": {
      "needs_background": "light"
     },
     "output_type": "display_data"
    }
   ],
   "source": [
    "# Histograma da variável\n",
    "sns.histplot(df['Retorno'], bins=15, kde=True)\n",
    "plt.show()"
   ]
  },
  {
   "cell_type": "code",
   "execution_count": 51,
   "metadata": {},
   "outputs": [],
   "source": [
    "# Vamos realizar a imputação dos dados ausentes pela média\n",
    "df['Retorno'].fillna(df['Retorno'].mean(), inplace=True)"
   ]
  },
  {
   "cell_type": "code",
   "execution_count": 52,
   "metadata": {},
   "outputs": [
    {
     "data": {
      "text/plain": [
       "Open         0\n",
       "High         0\n",
       "Low          0\n",
       "Close        0\n",
       "Adj Close    0\n",
       "Volume       0\n",
       "Retorno      0\n",
       "dtype: int64"
      ]
     },
     "execution_count": 52,
     "metadata": {},
     "output_type": "execute_result"
    }
   ],
   "source": [
    "# Verificando se a dados ausentes\n",
    "df.isnull().sum()"
   ]
  },
  {
   "cell_type": "markdown",
   "metadata": {},
   "source": [
    "#### Verificando e Substituindo (Replace) os outlires"
   ]
  },
  {
   "cell_type": "code",
   "execution_count": 64,
   "metadata": {},
   "outputs": [
    {
     "data": {
      "image/png": "[encoded data removed]",
      "text/plain": [
       "<Figure size 432x288 with 1 Axes>"
      ]
     },
     "metadata": {
      "needs_background": "light"
     },
     "output_type": "display_data"
    }
   ],
   "source": [
    "df_rep_outlires = df.copy() # Fazendo uma cópia do DataFrame 'original'\n",
    "\n",
    "# Plot\n",
    "sns.boxplot(df_rep_outlires['Retorno'])\n",
    "plt.show()"
   ]
  },
  {
   "cell_type": "code",
   "execution_count": 54,
   "metadata": {},
   "outputs": [
    {
     "data": {
      "text/plain": [
       "['Open', 'High', 'Low', 'Close', 'Adj Close', 'Volume', 'Retorno']"
      ]
     },
     "execution_count": 54,
     "metadata": {},
     "output_type": "execute_result"
    }
   ],
   "source": [
    "trata_rep_outliers = TrataOutlier(df_rep_outlires)\n",
    "\n",
    "lista_colunas = df_rep_outlires.select_dtypes('float64').columns.tolist()\n",
    "\n",
    "lista_colunas"
   ]
  },
  {
   "cell_type": "code",
   "execution_count": 55,
   "metadata": {},
   "outputs": [
    {
     "data": {
      "text/html": [
       "<div>\n",
       "<style scoped>\n",
       "    .dataframe tbody tr th:only-of-type {\n",
       "        vertical-align: middle;\n",
       "    }\n",
       "\n",
       "    .dataframe tbody tr th {\n",
       "        vertical-align: top;\n",
       "    }\n",
       "\n",
       "    .dataframe thead th {\n",
       "        text-align: right;\n",
       "    }\n",
       "</style>\n",
       "<table border=\"1\" class=\"dataframe\">\n",
       "  <thead>\n",
       "    <tr style=\"text-align: right;\">\n",
       "      <th>Nome de Coluna</th>\n",
       "      <th>Volume</th>\n",
       "      <th>Retorno</th>\n",
       "      <th>Open</th>\n",
       "      <th>High</th>\n",
       "      <th>Low</th>\n",
       "      <th>Close</th>\n",
       "      <th>Adj Close</th>\n",
       "    </tr>\n",
       "  </thead>\n",
       "  <tbody>\n",
       "    <tr>\n",
       "      <th>Min</th>\n",
       "      <td>0.0</td>\n",
       "      <td>-22.7</td>\n",
       "      <td>4.910443</td>\n",
       "      <td>4.965177</td>\n",
       "      <td>4.886985</td>\n",
       "      <td>4.910443</td>\n",
       "      <td>3.286015</td>\n",
       "    </tr>\n",
       "    <tr>\n",
       "      <th>Q1</th>\n",
       "      <td>16518572.25</td>\n",
       "      <td>-1.06</td>\n",
       "      <td>7.028853</td>\n",
       "      <td>7.122879</td>\n",
       "      <td>6.93561</td>\n",
       "      <td>7.041052</td>\n",
       "      <td>4.696734</td>\n",
       "    </tr>\n",
       "    <tr>\n",
       "      <th>Median</th>\n",
       "      <td>22168335.0</td>\n",
       "      <td>0.0</td>\n",
       "      <td>9.009523</td>\n",
       "      <td>9.108225</td>\n",
       "      <td>8.885714</td>\n",
       "      <td>8.99</td>\n",
       "      <td>7.613425</td>\n",
       "    </tr>\n",
       "    <tr>\n",
       "      <th>Q3</th>\n",
       "      <td>30200102.5</td>\n",
       "      <td>1.1525</td>\n",
       "      <td>10.57619</td>\n",
       "      <td>10.704761</td>\n",
       "      <td>10.47619</td>\n",
       "      <td>10.6</td>\n",
       "      <td>9.523808</td>\n",
       "    </tr>\n",
       "    <tr>\n",
       "      <th>Max</th>\n",
       "      <td>122745735.0</td>\n",
       "      <td>29.02</td>\n",
       "      <td>13.523809</td>\n",
       "      <td>13.695238</td>\n",
       "      <td>13.447619</td>\n",
       "      <td>13.666666</td>\n",
       "      <td>12.219232</td>\n",
       "    </tr>\n",
       "    <tr>\n",
       "      <th>IQR</th>\n",
       "      <td>13681530.25</td>\n",
       "      <td>2.2125</td>\n",
       "      <td>3.547337</td>\n",
       "      <td>3.581882</td>\n",
       "      <td>3.54058</td>\n",
       "      <td>3.558949</td>\n",
       "      <td>4.827074</td>\n",
       "    </tr>\n",
       "    <tr>\n",
       "      <th>Lower fence</th>\n",
       "      <td>-4003723.125</td>\n",
       "      <td>-4.37875</td>\n",
       "      <td>1.707848</td>\n",
       "      <td>1.750057</td>\n",
       "      <td>1.62474</td>\n",
       "      <td>1.702629</td>\n",
       "      <td>-2.543877</td>\n",
       "    </tr>\n",
       "    <tr>\n",
       "      <th>Upper fence</th>\n",
       "      <td>50722397.875</td>\n",
       "      <td>4.47125</td>\n",
       "      <td>15.897195</td>\n",
       "      <td>16.077583</td>\n",
       "      <td>15.787059</td>\n",
       "      <td>15.938423</td>\n",
       "      <td>16.764418</td>\n",
       "    </tr>\n",
       "    <tr>\n",
       "      <th>Skew</th>\n",
       "      <td>1.877202</td>\n",
       "      <td>0.620196</td>\n",
       "      <td>0.113081</td>\n",
       "      <td>0.105217</td>\n",
       "      <td>0.118528</td>\n",
       "      <td>0.116172</td>\n",
       "      <td>-0.039566</td>\n",
       "    </tr>\n",
       "    <tr>\n",
       "      <th>Num_Outliers</th>\n",
       "      <td>83</td>\n",
       "      <td>77</td>\n",
       "      <td>0</td>\n",
       "      <td>0</td>\n",
       "      <td>0</td>\n",
       "      <td>0</td>\n",
       "      <td>0</td>\n",
       "    </tr>\n",
       "    <tr>\n",
       "      <th>Percent_Outliers</th>\n",
       "      <td>0.06%</td>\n",
       "      <td>0.05%</td>\n",
       "      <td>0.0%</td>\n",
       "      <td>0.0%</td>\n",
       "      <td>0.0%</td>\n",
       "      <td>0.0%</td>\n",
       "      <td>0.0%</td>\n",
       "    </tr>\n",
       "  </tbody>\n",
       "</table>\n",
       "</div>"
      ],
      "text/plain": [
       "Nome de Coluna          Volume   Retorno       Open       High        Low  \\\n",
       "Min                        0.0     -22.7   4.910443   4.965177   4.886985   \n",
       "Q1                 16518572.25     -1.06   7.028853   7.122879    6.93561   \n",
       "Median              22168335.0       0.0   9.009523   9.108225   8.885714   \n",
       "Q3                  30200102.5    1.1525   10.57619  10.704761   10.47619   \n",
       "Max                122745735.0     29.02  13.523809  13.695238  13.447619   \n",
       "IQR                13681530.25    2.2125   3.547337   3.581882    3.54058   \n",
       "Lower fence       -4003723.125  -4.37875   1.707848   1.750057    1.62474   \n",
       "Upper fence       50722397.875   4.47125  15.897195  16.077583  15.787059   \n",
       "Skew                  1.877202  0.620196   0.113081   0.105217   0.118528   \n",
       "Num_Outliers                83        77          0          0          0   \n",
       "Percent_Outliers         0.06%     0.05%       0.0%       0.0%       0.0%   \n",
       "\n",
       "Nome de Coluna        Close  Adj Close  \n",
       "Min                4.910443   3.286015  \n",
       "Q1                 7.041052   4.696734  \n",
       "Median                 8.99   7.613425  \n",
       "Q3                     10.6   9.523808  \n",
       "Max               13.666666  12.219232  \n",
       "IQR                3.558949   4.827074  \n",
       "Lower fence        1.702629  -2.543877  \n",
       "Upper fence       15.938423  16.764418  \n",
       "Skew               0.116172  -0.039566  \n",
       "Num_Outliers              0          0  \n",
       "Percent_Outliers       0.0%       0.0%  "
      ]
     },
     "execution_count": 55,
     "metadata": {},
     "output_type": "execute_result"
    }
   ],
   "source": [
    "trata_rep_outliers.getOverview(lista_colunas)"
   ]
  },
  {
   "cell_type": "code",
   "execution_count": 56,
   "metadata": {},
   "outputs": [],
   "source": [
    "# Replace dos outliers \n",
    "# Trocando os valores outliers pelo Q1 e Q3 respectivamente\n",
    "trata_rep_outliers.replace_outliers_with_fences(lista_colunas)"
   ]
  },
  {
   "cell_type": "code",
   "execution_count": 57,
   "metadata": {},
   "outputs": [
    {
     "data": {
      "text/html": [
       "<div>\n",
       "<style scoped>\n",
       "    .dataframe tbody tr th:only-of-type {\n",
       "        vertical-align: middle;\n",
       "    }\n",
       "\n",
       "    .dataframe tbody tr th {\n",
       "        vertical-align: top;\n",
       "    }\n",
       "\n",
       "    .dataframe thead th {\n",
       "        text-align: right;\n",
       "    }\n",
       "</style>\n",
       "<table border=\"1\" class=\"dataframe\">\n",
       "  <thead>\n",
       "    <tr style=\"text-align: right;\">\n",
       "      <th>Nome de Coluna</th>\n",
       "      <th>Open</th>\n",
       "      <th>High</th>\n",
       "      <th>Low</th>\n",
       "      <th>Close</th>\n",
       "      <th>Adj Close</th>\n",
       "      <th>Volume</th>\n",
       "      <th>Retorno</th>\n",
       "    </tr>\n",
       "  </thead>\n",
       "  <tbody>\n",
       "    <tr>\n",
       "      <th>Min</th>\n",
       "      <td>4.910443</td>\n",
       "      <td>4.965177</td>\n",
       "      <td>4.886985</td>\n",
       "      <td>4.910443</td>\n",
       "      <td>3.286015</td>\n",
       "      <td>0.0</td>\n",
       "      <td>-4.37875</td>\n",
       "    </tr>\n",
       "    <tr>\n",
       "      <th>Q1</th>\n",
       "      <td>7.028853</td>\n",
       "      <td>7.122879</td>\n",
       "      <td>6.93561</td>\n",
       "      <td>7.041052</td>\n",
       "      <td>4.696734</td>\n",
       "      <td>16518572.25</td>\n",
       "      <td>-1.06</td>\n",
       "    </tr>\n",
       "    <tr>\n",
       "      <th>Median</th>\n",
       "      <td>9.009523</td>\n",
       "      <td>9.108225</td>\n",
       "      <td>8.885714</td>\n",
       "      <td>8.99</td>\n",
       "      <td>7.613425</td>\n",
       "      <td>22168335.0</td>\n",
       "      <td>0.0</td>\n",
       "    </tr>\n",
       "    <tr>\n",
       "      <th>Q3</th>\n",
       "      <td>10.57619</td>\n",
       "      <td>10.704761</td>\n",
       "      <td>10.47619</td>\n",
       "      <td>10.6</td>\n",
       "      <td>9.523808</td>\n",
       "      <td>30200102.5</td>\n",
       "      <td>1.1525</td>\n",
       "    </tr>\n",
       "    <tr>\n",
       "      <th>Max</th>\n",
       "      <td>13.523809</td>\n",
       "      <td>13.695238</td>\n",
       "      <td>13.447619</td>\n",
       "      <td>13.666666</td>\n",
       "      <td>12.219232</td>\n",
       "      <td>50722397.875</td>\n",
       "      <td>4.47125</td>\n",
       "    </tr>\n",
       "    <tr>\n",
       "      <th>IQR</th>\n",
       "      <td>3.547337</td>\n",
       "      <td>3.581882</td>\n",
       "      <td>3.54058</td>\n",
       "      <td>3.558949</td>\n",
       "      <td>4.827074</td>\n",
       "      <td>13681530.25</td>\n",
       "      <td>2.2125</td>\n",
       "    </tr>\n",
       "    <tr>\n",
       "      <th>Lower fence</th>\n",
       "      <td>1.707848</td>\n",
       "      <td>1.750057</td>\n",
       "      <td>1.62474</td>\n",
       "      <td>1.702629</td>\n",
       "      <td>-2.543877</td>\n",
       "      <td>-4003723.125</td>\n",
       "      <td>-4.37875</td>\n",
       "    </tr>\n",
       "    <tr>\n",
       "      <th>Upper fence</th>\n",
       "      <td>15.897195</td>\n",
       "      <td>16.077583</td>\n",
       "      <td>15.787059</td>\n",
       "      <td>15.938423</td>\n",
       "      <td>16.764418</td>\n",
       "      <td>50722397.875</td>\n",
       "      <td>4.47125</td>\n",
       "    </tr>\n",
       "    <tr>\n",
       "      <th>Skew</th>\n",
       "      <td>0.113081</td>\n",
       "      <td>0.105217</td>\n",
       "      <td>0.118528</td>\n",
       "      <td>0.116172</td>\n",
       "      <td>-0.039566</td>\n",
       "      <td>0.735972</td>\n",
       "      <td>0.063239</td>\n",
       "    </tr>\n",
       "    <tr>\n",
       "      <th>Num_Outliers</th>\n",
       "      <td>0</td>\n",
       "      <td>0</td>\n",
       "      <td>0</td>\n",
       "      <td>0</td>\n",
       "      <td>0</td>\n",
       "      <td>0</td>\n",
       "      <td>0</td>\n",
       "    </tr>\n",
       "    <tr>\n",
       "      <th>Percent_Outliers</th>\n",
       "      <td>0.0%</td>\n",
       "      <td>0.0%</td>\n",
       "      <td>0.0%</td>\n",
       "      <td>0.0%</td>\n",
       "      <td>0.0%</td>\n",
       "      <td>0.0%</td>\n",
       "      <td>0.0%</td>\n",
       "    </tr>\n",
       "  </tbody>\n",
       "</table>\n",
       "</div>"
      ],
      "text/plain": [
       "Nome de Coluna         Open       High        Low      Close  Adj Close  \\\n",
       "Min                4.910443   4.965177   4.886985   4.910443   3.286015   \n",
       "Q1                 7.028853   7.122879    6.93561   7.041052   4.696734   \n",
       "Median             9.009523   9.108225   8.885714       8.99   7.613425   \n",
       "Q3                 10.57619  10.704761   10.47619       10.6   9.523808   \n",
       "Max               13.523809  13.695238  13.447619  13.666666  12.219232   \n",
       "IQR                3.547337   3.581882    3.54058   3.558949   4.827074   \n",
       "Lower fence        1.707848   1.750057    1.62474   1.702629  -2.543877   \n",
       "Upper fence       15.897195  16.077583  15.787059  15.938423  16.764418   \n",
       "Skew               0.113081   0.105217   0.118528   0.116172  -0.039566   \n",
       "Num_Outliers              0          0          0          0          0   \n",
       "Percent_Outliers       0.0%       0.0%       0.0%       0.0%       0.0%   \n",
       "\n",
       "Nome de Coluna          Volume   Retorno  \n",
       "Min                        0.0  -4.37875  \n",
       "Q1                 16518572.25     -1.06  \n",
       "Median              22168335.0       0.0  \n",
       "Q3                  30200102.5    1.1525  \n",
       "Max               50722397.875   4.47125  \n",
       "IQR                13681530.25    2.2125  \n",
       "Lower fence       -4003723.125  -4.37875  \n",
       "Upper fence       50722397.875   4.47125  \n",
       "Skew                  0.735972  0.063239  \n",
       "Num_Outliers                 0         0  \n",
       "Percent_Outliers          0.0%      0.0%  "
      ]
     },
     "execution_count": 57,
     "metadata": {},
     "output_type": "execute_result"
    }
   ],
   "source": [
    "# Visão geral dos outliers\n",
    "trata_rep_outliers.getOverview(lista_colunas)"
   ]
  },
  {
   "cell_type": "code",
   "execution_count": 63,
   "metadata": {},
   "outputs": [
    {
     "data": {
      "image/png": "[encoded data removed]",
      "text/plain": [
       "<Figure size 432x288 with 1 Axes>"
      ]
     },
     "metadata": {
      "needs_background": "light"
     },
     "output_type": "display_data"
    }
   ],
   "source": [
    "# Plot \n",
    "sns.boxplot(df_rep_outlires['Retorno'])\n",
    "plt.show()"
   ]
  },
  {
   "cell_type": "markdown",
   "metadata": {},
   "source": [
    "## Fazendo a comparação do retorno acumulado com e sem os outliers\n",
    "\n",
    "* Os valores outlires não foram removidos e sim substituidos pelo Q1 e Q3 respectivamente"
   ]
  },
  {
   "cell_type": "code",
   "execution_count": 59,
   "metadata": {},
   "outputs": [
    {
     "data": {
      "text/html": [
       "<div>\n",
       "<style scoped>\n",
       "    .dataframe tbody tr th:only-of-type {\n",
       "        vertical-align: middle;\n",
       "    }\n",
       "\n",
       "    .dataframe tbody tr th {\n",
       "        vertical-align: top;\n",
       "    }\n",
       "\n",
       "    .dataframe thead th {\n",
       "        text-align: right;\n",
       "    }\n",
       "</style>\n",
       "<table border=\"1\" class=\"dataframe\">\n",
       "  <thead>\n",
       "    <tr style=\"text-align: right;\">\n",
       "      <th></th>\n",
       "      <th>Open</th>\n",
       "      <th>High</th>\n",
       "      <th>Low</th>\n",
       "      <th>Close</th>\n",
       "      <th>Adj Close</th>\n",
       "      <th>Volume</th>\n",
       "      <th>Retorno</th>\n",
       "      <th>Total_Retorno_Com_Outlier</th>\n",
       "      <th>Total_Retorno_Sem_Outliers</th>\n",
       "    </tr>\n",
       "    <tr>\n",
       "      <th>Date</th>\n",
       "      <th></th>\n",
       "      <th></th>\n",
       "      <th></th>\n",
       "      <th></th>\n",
       "      <th></th>\n",
       "      <th></th>\n",
       "      <th></th>\n",
       "      <th></th>\n",
       "      <th></th>\n",
       "    </tr>\n",
       "  </thead>\n",
       "  <tbody>\n",
       "    <tr>\n",
       "      <th>2022-07-19</th>\n",
       "      <td>8.48</td>\n",
       "      <td>8.64</td>\n",
       "      <td>8.42</td>\n",
       "      <td>8.59</td>\n",
       "      <td>8.59</td>\n",
       "      <td>19393500.0</td>\n",
       "      <td>1.90</td>\n",
       "      <td>135.173263</td>\n",
       "      <td>127.699513</td>\n",
       "    </tr>\n",
       "    <tr>\n",
       "      <th>2022-07-20</th>\n",
       "      <td>8.58</td>\n",
       "      <td>8.59</td>\n",
       "      <td>8.44</td>\n",
       "      <td>8.46</td>\n",
       "      <td>8.46</td>\n",
       "      <td>16462200.0</td>\n",
       "      <td>-1.51</td>\n",
       "      <td>133.663263</td>\n",
       "      <td>126.189513</td>\n",
       "    </tr>\n",
       "    <tr>\n",
       "      <th>2022-07-21</th>\n",
       "      <td>8.47</td>\n",
       "      <td>8.58</td>\n",
       "      <td>8.38</td>\n",
       "      <td>8.56</td>\n",
       "      <td>8.56</td>\n",
       "      <td>14112500.0</td>\n",
       "      <td>1.18</td>\n",
       "      <td>134.843263</td>\n",
       "      <td>127.369513</td>\n",
       "    </tr>\n",
       "    <tr>\n",
       "      <th>2022-07-22</th>\n",
       "      <td>8.58</td>\n",
       "      <td>8.60</td>\n",
       "      <td>8.39</td>\n",
       "      <td>8.47</td>\n",
       "      <td>8.47</td>\n",
       "      <td>12064900.0</td>\n",
       "      <td>-1.05</td>\n",
       "      <td>133.793263</td>\n",
       "      <td>126.319513</td>\n",
       "    </tr>\n",
       "    <tr>\n",
       "      <th>2022-07-25</th>\n",
       "      <td>8.50</td>\n",
       "      <td>8.59</td>\n",
       "      <td>8.49</td>\n",
       "      <td>8.54</td>\n",
       "      <td>8.54</td>\n",
       "      <td>10114300.0</td>\n",
       "      <td>0.83</td>\n",
       "      <td>134.623263</td>\n",
       "      <td>127.149513</td>\n",
       "    </tr>\n",
       "  </tbody>\n",
       "</table>\n",
       "</div>"
      ],
      "text/plain": [
       "            Open  High   Low  Close  Adj Close      Volume  Retorno  \\\n",
       "Date                                                                  \n",
       "2022-07-19  8.48  8.64  8.42   8.59       8.59  19393500.0     1.90   \n",
       "2022-07-20  8.58  8.59  8.44   8.46       8.46  16462200.0    -1.51   \n",
       "2022-07-21  8.47  8.58  8.38   8.56       8.56  14112500.0     1.18   \n",
       "2022-07-22  8.58  8.60  8.39   8.47       8.47  12064900.0    -1.05   \n",
       "2022-07-25  8.50  8.59  8.49   8.54       8.54  10114300.0     0.83   \n",
       "\n",
       "            Total_Retorno_Com_Outlier  Total_Retorno_Sem_Outliers  \n",
       "Date                                                               \n",
       "2022-07-19                 135.173263                  127.699513  \n",
       "2022-07-20                 133.663263                  126.189513  \n",
       "2022-07-21                 134.843263                  127.369513  \n",
       "2022-07-22                 133.793263                  126.319513  \n",
       "2022-07-25                 134.623263                  127.149513  "
      ]
     },
     "execution_count": 59,
     "metadata": {},
     "output_type": "execute_result"
    }
   ],
   "source": [
    "df_rep_outlires['Total_Retorno_Com_Outlier'] = df['Retorno'].cumsum()\n",
    "df_rep_outlires['Total_Retorno_Sem_Outliers'] = df_rep_outlires['Retorno'].cumsum()\n",
    "df_rep_outlires.tail()"
   ]
  },
  {
   "cell_type": "code",
   "execution_count": 60,
   "metadata": {},
   "outputs": [
    {
     "data": {
      "image/png": "[encoded data removed]",
      "text/plain": [
       "<Figure size 720x360 with 1 Axes>"
      ]
     },
     "metadata": {
      "needs_background": "light"
     },
     "output_type": "display_data"
    }
   ],
   "source": [
    "df_rep_outlires[['Total_Retorno_Com_Outlier','Total_Retorno_Sem_Outliers']].plot(figsize = (10, 5))\n",
    "plt.title(f'Historico do Retorno Acumulado da Ação: {ticker}', fontdict=font_title)\n",
    "plt.ylabel('Cotação', fontdict=font_ylabel)\n",
    "plt.yticks(fontsize=14)\n",
    "plt.xlabel('Data', fontdict=font_xlabel)\n",
    "plt.xticks(fontsize=14)\n",
    "plt.legend()\n",
    "plt.show()"
   ]
  },
  {
   "cell_type": "markdown",
   "metadata": {},
   "source": [
    "#### Verificando e removendo os outlires"
   ]
  },
  {
   "cell_type": "code",
   "execution_count": 62,
   "metadata": {},
   "outputs": [
    {
     "data": {
      "image/png": "[encoded data removed]",
      "text/plain": [
       "<Figure size 432x288 with 1 Axes>"
      ]
     },
     "metadata": {
      "needs_background": "light"
     },
     "output_type": "display_data"
    }
   ],
   "source": [
    "df_rev_outlires = df.copy() # Fazendo uma cópia do DataFrame 'original'\n",
    "\n",
    "sns.boxplot(df_rev_outlires['Retorno'])\n",
    "plt.show()"
   ]
  },
  {
   "cell_type": "code",
   "execution_count": null,
   "metadata": {},
   "outputs": [],
   "source": []
  },
  {
   "cell_type": "code",
   "execution_count": null,
   "metadata": {},
   "outputs": [],
   "source": []
  },
  {
   "cell_type": "code",
   "execution_count": null,
   "metadata": {},
   "outputs": [],
   "source": []
  },
  {
   "cell_type": "code",
   "execution_count": null,
   "metadata": {},
   "outputs": [],
   "source": []
  },
  {
   "cell_type": "code",
   "execution_count": null,
   "metadata": {},
   "outputs": [],
   "source": []
  },
  {
   "cell_type": "code",
   "execution_count": null,
   "metadata": {},
   "outputs": [],
   "source": []
  },
  {
   "cell_type": "code",
   "execution_count": null,
   "metadata": {},
   "outputs": [],
   "source": []
  },
  {
   "cell_type": "code",
   "execution_count": null,
   "metadata": {},
   "outputs": [],
   "source": []
  },
  {
   "cell_type": "code",
   "execution_count": null,
   "metadata": {},
   "outputs": [],
   "source": []
  },
  {
   "cell_type": "code",
   "execution_count": null,
   "metadata": {},
   "outputs": [],
   "source": [
    "# Calculando duas médias moveis\n",
    "mm1 = 50\n",
    "mm2 = 100\n",
    "\n",
    "df[f'MM{mm1}'] = df['Adj Close'].rolling(mm1).mean()\n",
    "df[f'MM{mm2}'] = df['Adj Close'].rolling(mm2).mean()"
   ]
  },
  {
   "cell_type": "code",
   "execution_count": null,
   "metadata": {},
   "outputs": [],
   "source": [
    "# Visualização do comportamento da Ação ao longo do tempo\n",
    "sns.set()\n",
    "df[['Adj Close',f'MM{mm1}',f'MM{mm2}']].plot(figsize = (10, 5))\n",
    "plt.title(f'Historico de Fechamento da Ação: {ticker}', fontdict=font_title)\n",
    "plt.ylabel('Cotação', fontdict=font_ylabel)\n",
    "plt.yticks(fontsize=14)\n",
    "plt.xlabel('Data', fontdict=font_xlabel)\n",
    "plt.xticks(fontsize=14)\n",
    "\n",
    "plt.show()"
   ]
  }
 ],
 "metadata": {
  "kernelspec": {
   "display_name": "Python 3.10.5 ('AED': venv)",
   "language": "python",
   "name": "python3"
  },
  "language_info": {
   "codemirror_mode": {
    "name": "ipython",
    "version": 3
   },
   "file_extension": ".py",
   "mimetype": "text/x-python",
   "name": "python",
   "nbconvert_exporter": "python",
   "pygments_lexer": "ipython3",
   "version": "3.10.5"
  },
  "orig_nbformat": 4,
  "vscode": {
   "interpreter": {
    "hash": "027a342a3963cf1d88171445b94f526678796bcee31b62d4862c1cbd664401bb"
   }
  }
 },
 "nbformat": 4,
 "nbformat_minor": 2
}
