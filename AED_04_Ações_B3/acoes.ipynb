{
 "cells": [
  {
   "cell_type": "markdown",
   "metadata": {},
   "source": [
    "## <center>Exploração de dados de cotações das Ações listadas na B3</center>"
   ]
  },
  {
   "cell_type": "markdown",
   "metadata": {},
   "source": [
    "#### O Quando os valores outlires do retorno empaquetam no retorno acumulado de uma ação."
   ]
  },
  {
   "cell_type": "code",
   "execution_count": 40,
   "metadata": {},
   "outputs": [],
   "source": [
    "# Imports\n",
    "\n",
    "# Manipulação dos dados\n",
    "import numpy as np\n",
    "import pandas as pd\n",
    "\n",
    "# Cotações das Ações\n",
    "import yfinance as yf\n",
    "\n",
    "# Visualização dos dados\n",
    "import matplotlib.pyplot as plt\n",
    "import seaborn as sns\n",
    "\n",
    "# Sistema\n",
    "import sys\n",
    "import os\n",
    "\n",
    "# Ignore Warning(Avisos)\n",
    "import warnings\n",
    "warnings.filterwarnings('ignore')\n",
    "\n",
    "pd.set_option('display.max_columns', 100)"
   ]
  },
  {
   "cell_type": "code",
   "execution_count": 41,
   "metadata": {},
   "outputs": [],
   "source": [
    "# Vamos adicionar o caminho para os módulos Python\n",
    "sys.path.append(os.path.abspath(os.path.join('../modulos/')))\n",
    "from estrategia1 import *\n",
    "from estrategia2 import *\n",
    "from estrategia3 import *"
   ]
  },
  {
   "cell_type": "code",
   "execution_count": 42,
   "metadata": {},
   "outputs": [],
   "source": [
    "# Fontes para os gráficos\n",
    "\n",
    "font_title = {'family': 'serif',\n",
    "        'color':  'darkred',\n",
    "        'weight': 'normal',\n",
    "        'size': 16,\n",
    "        }\n",
    "\n",
    "font_ylabel = {'family': 'serif',\n",
    "        'color':  'darkred',\n",
    "        'weight': 'normal',\n",
    "        'size': 14,\n",
    "        }\n",
    "\n",
    "font_xlabel = {'family': 'serif',\n",
    "        'color':  'darkred',\n",
    "        'weight': 'normal',\n",
    "        'size': 14,\n",
    "        }"
   ]
  },
  {
   "cell_type": "markdown",
   "metadata": {},
   "source": [
    "#### Ticker da Ação | Data inicial e final da coleta dos dados das cotações"
   ]
  },
  {
   "cell_type": "code",
   "execution_count": 43,
   "metadata": {},
   "outputs": [],
   "source": [
    "ticker = 'ITSA4'\n",
    "dt_inicial = '2014-01-01'"
   ]
  },
  {
   "cell_type": "markdown",
   "metadata": {},
   "source": [
    "#### Coleta das cotações e Verificando/Tratando os valores ausentes"
   ]
  },
  {
   "cell_type": "code",
   "execution_count": 44,
   "metadata": {},
   "outputs": [
    {
     "data": {
      "text/html": [
       "<div>\n",
       "<style scoped>\n",
       "    .dataframe tbody tr th:only-of-type {\n",
       "        vertical-align: middle;\n",
       "    }\n",
       "\n",
       "    .dataframe tbody tr th {\n",
       "        vertical-align: top;\n",
       "    }\n",
       "\n",
       "    .dataframe thead th {\n",
       "        text-align: right;\n",
       "    }\n",
       "</style>\n",
       "<table border=\"1\" class=\"dataframe\">\n",
       "  <thead>\n",
       "    <tr style=\"text-align: right;\">\n",
       "      <th></th>\n",
       "      <th>Open</th>\n",
       "      <th>High</th>\n",
       "      <th>Low</th>\n",
       "      <th>Close</th>\n",
       "      <th>Adj Close</th>\n",
       "      <th>Volume</th>\n",
       "    </tr>\n",
       "    <tr>\n",
       "      <th>Date</th>\n",
       "      <th></th>\n",
       "      <th></th>\n",
       "      <th></th>\n",
       "      <th></th>\n",
       "      <th></th>\n",
       "      <th></th>\n",
       "    </tr>\n",
       "  </thead>\n",
       "  <tbody>\n",
       "    <tr>\n",
       "      <th>2022-07-21</th>\n",
       "      <td>8.47</td>\n",
       "      <td>8.58</td>\n",
       "      <td>8.38</td>\n",
       "      <td>8.56</td>\n",
       "      <td>8.56</td>\n",
       "      <td>14112500.0</td>\n",
       "    </tr>\n",
       "    <tr>\n",
       "      <th>2022-07-22</th>\n",
       "      <td>8.58</td>\n",
       "      <td>8.60</td>\n",
       "      <td>8.39</td>\n",
       "      <td>8.47</td>\n",
       "      <td>8.47</td>\n",
       "      <td>12064900.0</td>\n",
       "    </tr>\n",
       "    <tr>\n",
       "      <th>2022-07-25</th>\n",
       "      <td>8.50</td>\n",
       "      <td>8.59</td>\n",
       "      <td>8.49</td>\n",
       "      <td>8.54</td>\n",
       "      <td>8.54</td>\n",
       "      <td>10114300.0</td>\n",
       "    </tr>\n",
       "    <tr>\n",
       "      <th>2022-07-26</th>\n",
       "      <td>8.52</td>\n",
       "      <td>8.61</td>\n",
       "      <td>8.44</td>\n",
       "      <td>8.52</td>\n",
       "      <td>8.52</td>\n",
       "      <td>9558200.0</td>\n",
       "    </tr>\n",
       "    <tr>\n",
       "      <th>2022-07-27</th>\n",
       "      <td>8.54</td>\n",
       "      <td>8.59</td>\n",
       "      <td>8.49</td>\n",
       "      <td>8.56</td>\n",
       "      <td>8.56</td>\n",
       "      <td>11124200.0</td>\n",
       "    </tr>\n",
       "  </tbody>\n",
       "</table>\n",
       "</div>"
      ],
      "text/plain": [
       "            Open  High   Low  Close  Adj Close      Volume\n",
       "Date                                                      \n",
       "2022-07-21  8.47  8.58  8.38   8.56       8.56  14112500.0\n",
       "2022-07-22  8.58  8.60  8.39   8.47       8.47  12064900.0\n",
       "2022-07-25  8.50  8.59  8.49   8.54       8.54  10114300.0\n",
       "2022-07-26  8.52  8.61  8.44   8.52       8.52   9558200.0\n",
       "2022-07-27  8.54  8.59  8.49   8.56       8.56  11124200.0"
      ]
     },
     "execution_count": 44,
     "metadata": {},
     "output_type": "execute_result"
    }
   ],
   "source": [
    "df = yf.download(f'{ticker}.SA', start=dt_inicial, threads=False, progress=False)\n",
    "\n",
    "# Amostra dos dados\n",
    "df.tail()"
   ]
  },
  {
   "cell_type": "code",
   "execution_count": 45,
   "metadata": {},
   "outputs": [
    {
     "name": "stdout",
     "output_type": "stream",
     "text": [
      "<class 'pandas.core.frame.DataFrame'>\n",
      "DatetimeIndex: 2130 entries, 2014-01-02 to 2022-07-27\n",
      "Data columns (total 6 columns):\n",
      " #   Column     Non-Null Count  Dtype  \n",
      "---  ------     --------------  -----  \n",
      " 0   Open       2129 non-null   float64\n",
      " 1   High       2129 non-null   float64\n",
      " 2   Low        2129 non-null   float64\n",
      " 3   Close      2129 non-null   float64\n",
      " 4   Adj Close  2129 non-null   float64\n",
      " 5   Volume     2129 non-null   float64\n",
      "dtypes: float64(6)\n",
      "memory usage: 116.5 KB\n"
     ]
    }
   ],
   "source": [
    "# Verificando informações do dataset\n",
    "df.info()"
   ]
  },
  {
   "cell_type": "code",
   "execution_count": 46,
   "metadata": {},
   "outputs": [
    {
     "data": {
      "text/plain": [
       "Open         1\n",
       "High         1\n",
       "Low          1\n",
       "Close        1\n",
       "Adj Close    1\n",
       "Volume       1\n",
       "dtype: int64"
      ]
     },
     "execution_count": 46,
     "metadata": {},
     "output_type": "execute_result"
    }
   ],
   "source": [
    "# Verificando se a dados ausentes\n",
    "df.isnull().sum()"
   ]
  },
  {
   "cell_type": "code",
   "execution_count": 47,
   "metadata": {},
   "outputs": [
    {
     "data": {
      "text/html": [
       "<div>\n",
       "<style scoped>\n",
       "    .dataframe tbody tr th:only-of-type {\n",
       "        vertical-align: middle;\n",
       "    }\n",
       "\n",
       "    .dataframe tbody tr th {\n",
       "        vertical-align: top;\n",
       "    }\n",
       "\n",
       "    .dataframe thead th {\n",
       "        text-align: right;\n",
       "    }\n",
       "</style>\n",
       "<table border=\"1\" class=\"dataframe\">\n",
       "  <thead>\n",
       "    <tr style=\"text-align: right;\">\n",
       "      <th></th>\n",
       "      <th>Open</th>\n",
       "      <th>High</th>\n",
       "      <th>Low</th>\n",
       "      <th>Close</th>\n",
       "      <th>Adj Close</th>\n",
       "      <th>Volume</th>\n",
       "    </tr>\n",
       "  </thead>\n",
       "  <tbody>\n",
       "    <tr>\n",
       "      <th>count</th>\n",
       "      <td>2129.000000</td>\n",
       "      <td>2129.000000</td>\n",
       "      <td>2129.000000</td>\n",
       "      <td>2129.000000</td>\n",
       "      <td>2129.000000</td>\n",
       "      <td>2.129000e+03</td>\n",
       "    </tr>\n",
       "    <tr>\n",
       "      <th>mean</th>\n",
       "      <td>8.909536</td>\n",
       "      <td>9.016420</td>\n",
       "      <td>8.793221</td>\n",
       "      <td>8.904702</td>\n",
       "      <td>7.325381</td>\n",
       "      <td>2.489558e+07</td>\n",
       "    </tr>\n",
       "    <tr>\n",
       "      <th>std</th>\n",
       "      <td>2.136707</td>\n",
       "      <td>2.149327</td>\n",
       "      <td>2.116011</td>\n",
       "      <td>2.135756</td>\n",
       "      <td>2.513373</td>\n",
       "      <td>1.272354e+07</td>\n",
       "    </tr>\n",
       "    <tr>\n",
       "      <th>min</th>\n",
       "      <td>4.910443</td>\n",
       "      <td>4.965177</td>\n",
       "      <td>4.886985</td>\n",
       "      <td>4.910443</td>\n",
       "      <td>3.286014</td>\n",
       "      <td>0.000000e+00</td>\n",
       "    </tr>\n",
       "    <tr>\n",
       "      <th>25%</th>\n",
       "      <td>7.029440</td>\n",
       "      <td>7.123270</td>\n",
       "      <td>6.935610</td>\n",
       "      <td>7.042316</td>\n",
       "      <td>4.697306</td>\n",
       "      <td>1.651420e+07</td>\n",
       "    </tr>\n",
       "    <tr>\n",
       "      <th>50%</th>\n",
       "      <td>9.009523</td>\n",
       "      <td>9.108225</td>\n",
       "      <td>8.885714</td>\n",
       "      <td>8.987012</td>\n",
       "      <td>7.628932</td>\n",
       "      <td>2.215359e+07</td>\n",
       "    </tr>\n",
       "    <tr>\n",
       "      <th>75%</th>\n",
       "      <td>10.571428</td>\n",
       "      <td>10.704761</td>\n",
       "      <td>10.476190</td>\n",
       "      <td>10.600000</td>\n",
       "      <td>9.523807</td>\n",
       "      <td>3.018270e+07</td>\n",
       "    </tr>\n",
       "    <tr>\n",
       "      <th>max</th>\n",
       "      <td>13.523809</td>\n",
       "      <td>13.695238</td>\n",
       "      <td>13.447619</td>\n",
       "      <td>13.666666</td>\n",
       "      <td>12.219231</td>\n",
       "      <td>1.227457e+08</td>\n",
       "    </tr>\n",
       "  </tbody>\n",
       "</table>\n",
       "</div>"
      ],
      "text/plain": [
       "              Open         High          Low        Close    Adj Close  \\\n",
       "count  2129.000000  2129.000000  2129.000000  2129.000000  2129.000000   \n",
       "mean      8.909536     9.016420     8.793221     8.904702     7.325381   \n",
       "std       2.136707     2.149327     2.116011     2.135756     2.513373   \n",
       "min       4.910443     4.965177     4.886985     4.910443     3.286014   \n",
       "25%       7.029440     7.123270     6.935610     7.042316     4.697306   \n",
       "50%       9.009523     9.108225     8.885714     8.987012     7.628932   \n",
       "75%      10.571428    10.704761    10.476190    10.600000     9.523807   \n",
       "max      13.523809    13.695238    13.447619    13.666666    12.219231   \n",
       "\n",
       "             Volume  \n",
       "count  2.129000e+03  \n",
       "mean   2.489558e+07  \n",
       "std    1.272354e+07  \n",
       "min    0.000000e+00  \n",
       "25%    1.651420e+07  \n",
       "50%    2.215359e+07  \n",
       "75%    3.018270e+07  \n",
       "max    1.227457e+08  "
      ]
     },
     "execution_count": 47,
     "metadata": {},
     "output_type": "execute_result"
    }
   ],
   "source": [
    "# Verificando alguns dados de medida central\n",
    "df.describe()"
   ]
  },
  {
   "cell_type": "code",
   "execution_count": 48,
   "metadata": {},
   "outputs": [
    {
     "data": {
      "image/png": "[encoded data removed]",
      "text/plain": [
       "<Figure size 1080x288 with 3 Axes>"
      ]
     },
     "metadata": {},
     "output_type": "display_data"
    },
    {
     "data": {
      "image/png": "[encoded data removed]",
      "text/plain": [
       "<Figure size 1080x288 with 3 Axes>"
      ]
     },
     "metadata": {},
     "output_type": "display_data"
    }
   ],
   "source": [
    "# Histograma das variáveis\n",
    "figura1, (ax1, ax2, ax3) = plt.subplots(1, 3, figsize=(15,4))\n",
    "figura2, (ax4, ax5, ax6) = plt.subplots(1, 3, figsize=(15,4))\n",
    "\n",
    "sns.histplot(df['Open'], bins=15, kde=True, ax=ax1)\n",
    "sns.histplot(df['High'], bins=15, kde=True, ax=ax2)\n",
    "sns.histplot(df['Low'], bins=15, kde=True, ax=ax3)\n",
    "sns.histplot(df['Close'], bins=15, kde=True, ax=ax4)\n",
    "sns.histplot(df['Adj Close'], bins=15, kde=True, ax=ax5)\n",
    "sns.histplot(df['Volume'], bins=15, kde=True, ax=ax6)\n",
    "plt.show()"
   ]
  },
  {
   "cell_type": "code",
   "execution_count": 49,
   "metadata": {},
   "outputs": [],
   "source": [
    "# Vamos realizar a imputação dos dados ausentes pela mediana\n",
    "df['Open'].fillna(df['Open'].median(), inplace=True)\n",
    "df['High'].fillna(df['High'].median(), inplace=True)\n",
    "df['Low'].fillna(df['Low'].median(), inplace=True)\n",
    "df['Close'].fillna(df['Close'].median(), inplace=True)\n",
    "df['Adj Close'].fillna(df['Adj Close'].median(), inplace=True)\n",
    "df['Volume'].fillna(df['Volume'].median(), inplace=True)"
   ]
  },
  {
   "cell_type": "code",
   "execution_count": 50,
   "metadata": {},
   "outputs": [
    {
     "data": {
      "text/plain": [
       "Open         0\n",
       "High         0\n",
       "Low          0\n",
       "Close        0\n",
       "Adj Close    0\n",
       "Volume       0\n",
       "dtype: int64"
      ]
     },
     "execution_count": 50,
     "metadata": {},
     "output_type": "execute_result"
    }
   ],
   "source": [
    "# Verificando se a dados ausentes\n",
    "df.isnull().sum()"
   ]
  },
  {
   "cell_type": "markdown",
   "metadata": {},
   "source": [
    "### Criando novas variáveis (Retorno)"
   ]
  },
  {
   "cell_type": "code",
   "execution_count": 51,
   "metadata": {},
   "outputs": [
    {
     "data": {
      "text/html": [
       "<div>\n",
       "<style scoped>\n",
       "    .dataframe tbody tr th:only-of-type {\n",
       "        vertical-align: middle;\n",
       "    }\n",
       "\n",
       "    .dataframe tbody tr th {\n",
       "        vertical-align: top;\n",
       "    }\n",
       "\n",
       "    .dataframe thead th {\n",
       "        text-align: right;\n",
       "    }\n",
       "</style>\n",
       "<table border=\"1\" class=\"dataframe\">\n",
       "  <thead>\n",
       "    <tr style=\"text-align: right;\">\n",
       "      <th></th>\n",
       "      <th>Open</th>\n",
       "      <th>High</th>\n",
       "      <th>Low</th>\n",
       "      <th>Close</th>\n",
       "      <th>Adj Close</th>\n",
       "      <th>Volume</th>\n",
       "      <th>Retorno</th>\n",
       "    </tr>\n",
       "    <tr>\n",
       "      <th>Date</th>\n",
       "      <th></th>\n",
       "      <th></th>\n",
       "      <th></th>\n",
       "      <th></th>\n",
       "      <th></th>\n",
       "      <th></th>\n",
       "      <th></th>\n",
       "    </tr>\n",
       "  </thead>\n",
       "  <tbody>\n",
       "    <tr>\n",
       "      <th>2014-01-02</th>\n",
       "      <td>5.734564</td>\n",
       "      <td>5.766673</td>\n",
       "      <td>5.612552</td>\n",
       "      <td>5.638239</td>\n",
       "      <td>3.581270</td>\n",
       "      <td>15945191.0</td>\n",
       "      <td>NaN</td>\n",
       "    </tr>\n",
       "    <tr>\n",
       "      <th>2014-01-03</th>\n",
       "      <td>5.638239</td>\n",
       "      <td>5.696034</td>\n",
       "      <td>5.606131</td>\n",
       "      <td>5.657504</td>\n",
       "      <td>3.593507</td>\n",
       "      <td>15756456.0</td>\n",
       "      <td>0.34</td>\n",
       "    </tr>\n",
       "    <tr>\n",
       "      <th>2014-01-06</th>\n",
       "      <td>5.631817</td>\n",
       "      <td>5.728143</td>\n",
       "      <td>5.631817</td>\n",
       "      <td>5.696034</td>\n",
       "      <td>3.617979</td>\n",
       "      <td>16779396.0</td>\n",
       "      <td>0.68</td>\n",
       "    </tr>\n",
       "    <tr>\n",
       "      <th>2014-01-07</th>\n",
       "      <td>5.689613</td>\n",
       "      <td>5.747408</td>\n",
       "      <td>5.657504</td>\n",
       "      <td>5.676769</td>\n",
       "      <td>3.605743</td>\n",
       "      <td>20329554.0</td>\n",
       "      <td>-0.34</td>\n",
       "    </tr>\n",
       "    <tr>\n",
       "      <th>2014-01-08</th>\n",
       "      <td>5.676769</td>\n",
       "      <td>5.728143</td>\n",
       "      <td>5.644661</td>\n",
       "      <td>5.708878</td>\n",
       "      <td>3.626137</td>\n",
       "      <td>20823817.0</td>\n",
       "      <td>0.57</td>\n",
       "    </tr>\n",
       "  </tbody>\n",
       "</table>\n",
       "</div>"
      ],
      "text/plain": [
       "                Open      High       Low     Close  Adj Close      Volume  \\\n",
       "Date                                                                        \n",
       "2014-01-02  5.734564  5.766673  5.612552  5.638239   3.581270  15945191.0   \n",
       "2014-01-03  5.638239  5.696034  5.606131  5.657504   3.593507  15756456.0   \n",
       "2014-01-06  5.631817  5.728143  5.631817  5.696034   3.617979  16779396.0   \n",
       "2014-01-07  5.689613  5.747408  5.657504  5.676769   3.605743  20329554.0   \n",
       "2014-01-08  5.676769  5.728143  5.644661  5.708878   3.626137  20823817.0   \n",
       "\n",
       "            Retorno  \n",
       "Date                 \n",
       "2014-01-02      NaN  \n",
       "2014-01-03     0.34  \n",
       "2014-01-06     0.68  \n",
       "2014-01-07    -0.34  \n",
       "2014-01-08     0.57  "
      ]
     },
     "execution_count": 51,
     "metadata": {},
     "output_type": "execute_result"
    }
   ],
   "source": [
    "# Criando a variável de retorno\n",
    "df['Retorno'] = round(df['Adj Close'].pct_change() * 100, 2)\n",
    "df.head()"
   ]
  },
  {
   "cell_type": "markdown",
   "metadata": {},
   "source": [
    "#### Trantando valores ausentes variável (Retorno)"
   ]
  },
  {
   "cell_type": "code",
   "execution_count": 52,
   "metadata": {},
   "outputs": [
    {
     "data": {
      "text/plain": [
       "Open         0\n",
       "High         0\n",
       "Low          0\n",
       "Close        0\n",
       "Adj Close    0\n",
       "Volume       0\n",
       "Retorno      1\n",
       "dtype: int64"
      ]
     },
     "execution_count": 52,
     "metadata": {},
     "output_type": "execute_result"
    }
   ],
   "source": [
    "# Verificando se a dados ausentes\n",
    "df.isnull().sum()"
   ]
  },
  {
   "cell_type": "code",
   "execution_count": 53,
   "metadata": {},
   "outputs": [
    {
     "data": {
      "image/png": "[encoded data removed]",
      "text/plain": [
       "<Figure size 432x288 with 1 Axes>"
      ]
     },
     "metadata": {},
     "output_type": "display_data"
    }
   ],
   "source": [
    "# Histograma da variável\n",
    "sns.histplot(df['Retorno'], bins=15, kde=True)\n",
    "plt.show()"
   ]
  },
  {
   "cell_type": "code",
   "execution_count": 54,
   "metadata": {},
   "outputs": [],
   "source": [
    "# Vamos realizar a imputação dos dados ausentes pela média\n",
    "df['Retorno'].fillna(df['Retorno'].mean(), inplace=True)"
   ]
  },
  {
   "cell_type": "code",
   "execution_count": 55,
   "metadata": {},
   "outputs": [
    {
     "data": {
      "text/plain": [
       "Open         0\n",
       "High         0\n",
       "Low          0\n",
       "Close        0\n",
       "Adj Close    0\n",
       "Volume       0\n",
       "Retorno      0\n",
       "dtype: int64"
      ]
     },
     "execution_count": 55,
     "metadata": {},
     "output_type": "execute_result"
    }
   ],
   "source": [
    "# Verificando se a dados ausentes\n",
    "df.isnull().sum()"
   ]
  },
  {
   "cell_type": "markdown",
   "metadata": {},
   "source": [
    "#### Verificando e Substituindo (Replace) os outlires"
   ]
  },
  {
   "cell_type": "code",
   "execution_count": 56,
   "metadata": {},
   "outputs": [
    {
     "data": {
      "image/png": "[encoded data removed]",
      "text/plain": [
       "<Figure size 432x288 with 1 Axes>"
      ]
     },
     "metadata": {},
     "output_type": "display_data"
    }
   ],
   "source": [
    "df_rep_outlires = df.copy() # Fazendo uma cópia do DataFrame 'original'\n",
    "\n",
    "# Plot\n",
    "sns.boxplot(df_rep_outlires['Retorno'])\n",
    "plt.show()"
   ]
  },
  {
   "cell_type": "code",
   "execution_count": 57,
   "metadata": {},
   "outputs": [
    {
     "data": {
      "text/plain": [
       "['Open', 'High', 'Low', 'Close', 'Adj Close', 'Volume', 'Retorno']"
      ]
     },
     "execution_count": 57,
     "metadata": {},
     "output_type": "execute_result"
    }
   ],
   "source": [
    "trata_rep_outliers = TrataOutlier(df_rep_outlires)\n",
    "\n",
    "lista_colunas = df_rep_outlires.select_dtypes('float64').columns.tolist()\n",
    "\n",
    "lista_colunas"
   ]
  },
  {
   "cell_type": "code",
   "execution_count": 58,
   "metadata": {},
   "outputs": [
    {
     "data": {
      "text/html": [
       "<div>\n",
       "<style scoped>\n",
       "    .dataframe tbody tr th:only-of-type {\n",
       "        vertical-align: middle;\n",
       "    }\n",
       "\n",
       "    .dataframe tbody tr th {\n",
       "        vertical-align: top;\n",
       "    }\n",
       "\n",
       "    .dataframe thead th {\n",
       "        text-align: right;\n",
       "    }\n",
       "</style>\n",
       "<table border=\"1\" class=\"dataframe\">\n",
       "  <thead>\n",
       "    <tr style=\"text-align: right;\">\n",
       "      <th>Nome de Coluna</th>\n",
       "      <th>Volume</th>\n",
       "      <th>Retorno</th>\n",
       "      <th>Open</th>\n",
       "      <th>High</th>\n",
       "      <th>Low</th>\n",
       "      <th>Close</th>\n",
       "      <th>Adj Close</th>\n",
       "    </tr>\n",
       "  </thead>\n",
       "  <tbody>\n",
       "    <tr>\n",
       "      <th>Min</th>\n",
       "      <td>0.0</td>\n",
       "      <td>-22.54</td>\n",
       "      <td>4.910443</td>\n",
       "      <td>4.965177</td>\n",
       "      <td>4.886985</td>\n",
       "      <td>4.910443</td>\n",
       "      <td>3.286014</td>\n",
       "    </tr>\n",
       "    <tr>\n",
       "      <th>Q1</th>\n",
       "      <td>16514396.25</td>\n",
       "      <td>-1.0575</td>\n",
       "      <td>7.031395</td>\n",
       "      <td>7.125029</td>\n",
       "      <td>6.935692</td>\n",
       "      <td>7.042316</td>\n",
       "      <td>4.697775</td>\n",
       "    </tr>\n",
       "    <tr>\n",
       "      <th>Median</th>\n",
       "      <td>22153593.0</td>\n",
       "      <td>0.0</td>\n",
       "      <td>9.009523</td>\n",
       "      <td>9.108225</td>\n",
       "      <td>8.885714</td>\n",
       "      <td>8.987012</td>\n",
       "      <td>7.628932</td>\n",
       "    </tr>\n",
       "    <tr>\n",
       "      <th>Q3</th>\n",
       "      <td>30177650.0</td>\n",
       "      <td>1.15</td>\n",
       "      <td>10.571428</td>\n",
       "      <td>10.703895</td>\n",
       "      <td>10.474642</td>\n",
       "      <td>10.597619</td>\n",
       "      <td>9.523807</td>\n",
       "    </tr>\n",
       "    <tr>\n",
       "      <th>Max</th>\n",
       "      <td>122745735.0</td>\n",
       "      <td>28.75</td>\n",
       "      <td>13.523809</td>\n",
       "      <td>13.695238</td>\n",
       "      <td>13.447619</td>\n",
       "      <td>13.666666</td>\n",
       "      <td>12.219231</td>\n",
       "    </tr>\n",
       "    <tr>\n",
       "      <th>IQR</th>\n",
       "      <td>13663253.75</td>\n",
       "      <td>2.2075</td>\n",
       "      <td>3.540034</td>\n",
       "      <td>3.578866</td>\n",
       "      <td>3.538951</td>\n",
       "      <td>3.555303</td>\n",
       "      <td>4.826031</td>\n",
       "    </tr>\n",
       "    <tr>\n",
       "      <th>Lower fence</th>\n",
       "      <td>-3980484.375</td>\n",
       "      <td>-4.36875</td>\n",
       "      <td>1.721344</td>\n",
       "      <td>1.756731</td>\n",
       "      <td>1.627266</td>\n",
       "      <td>1.709361</td>\n",
       "      <td>-2.541272</td>\n",
       "    </tr>\n",
       "    <tr>\n",
       "      <th>Upper fence</th>\n",
       "      <td>50672530.625</td>\n",
       "      <td>4.46125</td>\n",
       "      <td>15.881479</td>\n",
       "      <td>16.072193</td>\n",
       "      <td>15.783068</td>\n",
       "      <td>15.930574</td>\n",
       "      <td>16.762854</td>\n",
       "    </tr>\n",
       "    <tr>\n",
       "      <th>Skew</th>\n",
       "      <td>1.876412</td>\n",
       "      <td>0.601571</td>\n",
       "      <td>0.113625</td>\n",
       "      <td>0.105801</td>\n",
       "      <td>0.119014</td>\n",
       "      <td>0.116701</td>\n",
       "      <td>-0.040838</td>\n",
       "    </tr>\n",
       "    <tr>\n",
       "      <th>Num_Outliers</th>\n",
       "      <td>83</td>\n",
       "      <td>77</td>\n",
       "      <td>0</td>\n",
       "      <td>0</td>\n",
       "      <td>0</td>\n",
       "      <td>0</td>\n",
       "      <td>0</td>\n",
       "    </tr>\n",
       "    <tr>\n",
       "      <th>Percent_Outliers</th>\n",
       "      <td>0.06%</td>\n",
       "      <td>0.05%</td>\n",
       "      <td>0.0%</td>\n",
       "      <td>0.0%</td>\n",
       "      <td>0.0%</td>\n",
       "      <td>0.0%</td>\n",
       "      <td>0.0%</td>\n",
       "    </tr>\n",
       "  </tbody>\n",
       "</table>\n",
       "</div>"
      ],
      "text/plain": [
       "Nome de Coluna          Volume   Retorno       Open       High        Low  \\\n",
       "Min                        0.0    -22.54   4.910443   4.965177   4.886985   \n",
       "Q1                 16514396.25   -1.0575   7.031395   7.125029   6.935692   \n",
       "Median              22153593.0       0.0   9.009523   9.108225   8.885714   \n",
       "Q3                  30177650.0      1.15  10.571428  10.703895  10.474642   \n",
       "Max                122745735.0     28.75  13.523809  13.695238  13.447619   \n",
       "IQR                13663253.75    2.2075   3.540034   3.578866   3.538951   \n",
       "Lower fence       -3980484.375  -4.36875   1.721344   1.756731   1.627266   \n",
       "Upper fence       50672530.625   4.46125  15.881479  16.072193  15.783068   \n",
       "Skew                  1.876412  0.601571   0.113625   0.105801   0.119014   \n",
       "Num_Outliers                83        77          0          0          0   \n",
       "Percent_Outliers         0.06%     0.05%       0.0%       0.0%       0.0%   \n",
       "\n",
       "Nome de Coluna        Close  Adj Close  \n",
       "Min                4.910443   3.286014  \n",
       "Q1                 7.042316   4.697775  \n",
       "Median             8.987012   7.628932  \n",
       "Q3                10.597619   9.523807  \n",
       "Max               13.666666  12.219231  \n",
       "IQR                3.555303   4.826031  \n",
       "Lower fence        1.709361  -2.541272  \n",
       "Upper fence       15.930574  16.762854  \n",
       "Skew               0.116701  -0.040838  \n",
       "Num_Outliers              0          0  \n",
       "Percent_Outliers       0.0%       0.0%  "
      ]
     },
     "execution_count": 58,
     "metadata": {},
     "output_type": "execute_result"
    }
   ],
   "source": [
    "trata_rep_outliers.getOverview(lista_colunas)"
   ]
  },
  {
   "cell_type": "code",
   "execution_count": 59,
   "metadata": {},
   "outputs": [],
   "source": [
    "# Replace dos outliers \n",
    "# Trocando os valores outliers pelo Q1 e Q3 respectivamente\n",
    "trata_rep_outliers.replace_outliers_with_fences(lista_colunas)"
   ]
  },
  {
   "cell_type": "code",
   "execution_count": 60,
   "metadata": {},
   "outputs": [
    {
     "data": {
      "text/html": [
       "<div>\n",
       "<style scoped>\n",
       "    .dataframe tbody tr th:only-of-type {\n",
       "        vertical-align: middle;\n",
       "    }\n",
       "\n",
       "    .dataframe tbody tr th {\n",
       "        vertical-align: top;\n",
       "    }\n",
       "\n",
       "    .dataframe thead th {\n",
       "        text-align: right;\n",
       "    }\n",
       "</style>\n",
       "<table border=\"1\" class=\"dataframe\">\n",
       "  <thead>\n",
       "    <tr style=\"text-align: right;\">\n",
       "      <th>Nome de Coluna</th>\n",
       "      <th>Open</th>\n",
       "      <th>High</th>\n",
       "      <th>Low</th>\n",
       "      <th>Close</th>\n",
       "      <th>Adj Close</th>\n",
       "      <th>Volume</th>\n",
       "      <th>Retorno</th>\n",
       "    </tr>\n",
       "  </thead>\n",
       "  <tbody>\n",
       "    <tr>\n",
       "      <th>Min</th>\n",
       "      <td>4.910443</td>\n",
       "      <td>4.965177</td>\n",
       "      <td>4.886985</td>\n",
       "      <td>4.910443</td>\n",
       "      <td>3.286014</td>\n",
       "      <td>0.0</td>\n",
       "      <td>-4.36875</td>\n",
       "    </tr>\n",
       "    <tr>\n",
       "      <th>Q1</th>\n",
       "      <td>7.031395</td>\n",
       "      <td>7.125029</td>\n",
       "      <td>6.935692</td>\n",
       "      <td>7.042316</td>\n",
       "      <td>4.697775</td>\n",
       "      <td>16514396.25</td>\n",
       "      <td>-1.0575</td>\n",
       "    </tr>\n",
       "    <tr>\n",
       "      <th>Median</th>\n",
       "      <td>9.009523</td>\n",
       "      <td>9.108225</td>\n",
       "      <td>8.885714</td>\n",
       "      <td>8.987012</td>\n",
       "      <td>7.628932</td>\n",
       "      <td>22153593.0</td>\n",
       "      <td>0.0</td>\n",
       "    </tr>\n",
       "    <tr>\n",
       "      <th>Q3</th>\n",
       "      <td>10.571428</td>\n",
       "      <td>10.703895</td>\n",
       "      <td>10.474642</td>\n",
       "      <td>10.597619</td>\n",
       "      <td>9.523807</td>\n",
       "      <td>30177650.0</td>\n",
       "      <td>1.15</td>\n",
       "    </tr>\n",
       "    <tr>\n",
       "      <th>Max</th>\n",
       "      <td>13.523809</td>\n",
       "      <td>13.695238</td>\n",
       "      <td>13.447619</td>\n",
       "      <td>13.666666</td>\n",
       "      <td>12.219231</td>\n",
       "      <td>50672530.625</td>\n",
       "      <td>4.46125</td>\n",
       "    </tr>\n",
       "    <tr>\n",
       "      <th>IQR</th>\n",
       "      <td>3.540034</td>\n",
       "      <td>3.578866</td>\n",
       "      <td>3.538951</td>\n",
       "      <td>3.555303</td>\n",
       "      <td>4.826031</td>\n",
       "      <td>13663253.75</td>\n",
       "      <td>2.2075</td>\n",
       "    </tr>\n",
       "    <tr>\n",
       "      <th>Lower fence</th>\n",
       "      <td>1.721344</td>\n",
       "      <td>1.756731</td>\n",
       "      <td>1.627266</td>\n",
       "      <td>1.709361</td>\n",
       "      <td>-2.541272</td>\n",
       "      <td>-3980484.375</td>\n",
       "      <td>-4.36875</td>\n",
       "    </tr>\n",
       "    <tr>\n",
       "      <th>Upper fence</th>\n",
       "      <td>15.881479</td>\n",
       "      <td>16.072193</td>\n",
       "      <td>15.783068</td>\n",
       "      <td>15.930574</td>\n",
       "      <td>16.762854</td>\n",
       "      <td>50672530.625</td>\n",
       "      <td>4.46125</td>\n",
       "    </tr>\n",
       "    <tr>\n",
       "      <th>Skew</th>\n",
       "      <td>0.113625</td>\n",
       "      <td>0.105801</td>\n",
       "      <td>0.119014</td>\n",
       "      <td>0.116701</td>\n",
       "      <td>-0.040838</td>\n",
       "      <td>0.734379</td>\n",
       "      <td>0.063496</td>\n",
       "    </tr>\n",
       "    <tr>\n",
       "      <th>Num_Outliers</th>\n",
       "      <td>0</td>\n",
       "      <td>0</td>\n",
       "      <td>0</td>\n",
       "      <td>0</td>\n",
       "      <td>0</td>\n",
       "      <td>0</td>\n",
       "      <td>0</td>\n",
       "    </tr>\n",
       "    <tr>\n",
       "      <th>Percent_Outliers</th>\n",
       "      <td>0.0%</td>\n",
       "      <td>0.0%</td>\n",
       "      <td>0.0%</td>\n",
       "      <td>0.0%</td>\n",
       "      <td>0.0%</td>\n",
       "      <td>0.0%</td>\n",
       "      <td>0.0%</td>\n",
       "    </tr>\n",
       "  </tbody>\n",
       "</table>\n",
       "</div>"
      ],
      "text/plain": [
       "Nome de Coluna         Open       High        Low      Close  Adj Close  \\\n",
       "Min                4.910443   4.965177   4.886985   4.910443   3.286014   \n",
       "Q1                 7.031395   7.125029   6.935692   7.042316   4.697775   \n",
       "Median             9.009523   9.108225   8.885714   8.987012   7.628932   \n",
       "Q3                10.571428  10.703895  10.474642  10.597619   9.523807   \n",
       "Max               13.523809  13.695238  13.447619  13.666666  12.219231   \n",
       "IQR                3.540034   3.578866   3.538951   3.555303   4.826031   \n",
       "Lower fence        1.721344   1.756731   1.627266   1.709361  -2.541272   \n",
       "Upper fence       15.881479  16.072193  15.783068  15.930574  16.762854   \n",
       "Skew               0.113625   0.105801   0.119014   0.116701  -0.040838   \n",
       "Num_Outliers              0          0          0          0          0   \n",
       "Percent_Outliers       0.0%       0.0%       0.0%       0.0%       0.0%   \n",
       "\n",
       "Nome de Coluna          Volume   Retorno  \n",
       "Min                        0.0  -4.36875  \n",
       "Q1                 16514396.25   -1.0575  \n",
       "Median              22153593.0       0.0  \n",
       "Q3                  30177650.0      1.15  \n",
       "Max               50672530.625   4.46125  \n",
       "IQR                13663253.75    2.2075  \n",
       "Lower fence       -3980484.375  -4.36875  \n",
       "Upper fence       50672530.625   4.46125  \n",
       "Skew                  0.734379  0.063496  \n",
       "Num_Outliers                 0         0  \n",
       "Percent_Outliers          0.0%      0.0%  "
      ]
     },
     "execution_count": 60,
     "metadata": {},
     "output_type": "execute_result"
    }
   ],
   "source": [
    "# Visão geral dos outliers\n",
    "trata_rep_outliers.getOverview(lista_colunas)"
   ]
  },
  {
   "cell_type": "code",
   "execution_count": 22,
   "metadata": {},
   "outputs": [
    {
     "data": {
      "image/png": "[encoded data removed]",
      "text/plain": [
       "<Figure size 432x288 with 1 Axes>"
      ]
     },
     "metadata": {
      "needs_background": "light"
     },
     "output_type": "display_data"
    }
   ],
   "source": [
    "# Plot \n",
    "sns.boxplot(df_rep_outlires['Retorno'])\n",
    "plt.show()"
   ]
  },
  {
   "cell_type": "markdown",
   "metadata": {},
   "source": [
    "## Fazendo a comparação do retorno acumulado com e sem os outliers\n",
    "\n",
    "* Os valores outlires não foram removidos e sim substituidos pelo Q1 e Q3 respectivamente"
   ]
  },
  {
   "cell_type": "code",
   "execution_count": 61,
   "metadata": {},
   "outputs": [
    {
     "data": {
      "text/html": [
       "<div>\n",
       "<style scoped>\n",
       "    .dataframe tbody tr th:only-of-type {\n",
       "        vertical-align: middle;\n",
       "    }\n",
       "\n",
       "    .dataframe tbody tr th {\n",
       "        vertical-align: top;\n",
       "    }\n",
       "\n",
       "    .dataframe thead th {\n",
       "        text-align: right;\n",
       "    }\n",
       "</style>\n",
       "<table border=\"1\" class=\"dataframe\">\n",
       "  <thead>\n",
       "    <tr style=\"text-align: right;\">\n",
       "      <th></th>\n",
       "      <th>Open</th>\n",
       "      <th>High</th>\n",
       "      <th>Low</th>\n",
       "      <th>Close</th>\n",
       "      <th>Adj Close</th>\n",
       "      <th>Volume</th>\n",
       "      <th>Retorno</th>\n",
       "      <th>Total_Retorno_Com_Outlier</th>\n",
       "      <th>Total_Retorno_Sem_Outliers</th>\n",
       "    </tr>\n",
       "    <tr>\n",
       "      <th>Date</th>\n",
       "      <th></th>\n",
       "      <th></th>\n",
       "      <th></th>\n",
       "      <th></th>\n",
       "      <th></th>\n",
       "      <th></th>\n",
       "      <th></th>\n",
       "      <th></th>\n",
       "      <th></th>\n",
       "    </tr>\n",
       "  </thead>\n",
       "  <tbody>\n",
       "    <tr>\n",
       "      <th>2022-07-21</th>\n",
       "      <td>8.47</td>\n",
       "      <td>8.58</td>\n",
       "      <td>8.38</td>\n",
       "      <td>8.56</td>\n",
       "      <td>8.56</td>\n",
       "      <td>14112500.0</td>\n",
       "      <td>1.18</td>\n",
       "      <td>134.72326</td>\n",
       "      <td>127.40951</td>\n",
       "    </tr>\n",
       "    <tr>\n",
       "      <th>2022-07-22</th>\n",
       "      <td>8.58</td>\n",
       "      <td>8.60</td>\n",
       "      <td>8.39</td>\n",
       "      <td>8.47</td>\n",
       "      <td>8.47</td>\n",
       "      <td>12064900.0</td>\n",
       "      <td>-1.05</td>\n",
       "      <td>133.67326</td>\n",
       "      <td>126.35951</td>\n",
       "    </tr>\n",
       "    <tr>\n",
       "      <th>2022-07-25</th>\n",
       "      <td>8.50</td>\n",
       "      <td>8.59</td>\n",
       "      <td>8.49</td>\n",
       "      <td>8.54</td>\n",
       "      <td>8.54</td>\n",
       "      <td>10114300.0</td>\n",
       "      <td>0.83</td>\n",
       "      <td>134.50326</td>\n",
       "      <td>127.18951</td>\n",
       "    </tr>\n",
       "    <tr>\n",
       "      <th>2022-07-26</th>\n",
       "      <td>8.52</td>\n",
       "      <td>8.61</td>\n",
       "      <td>8.44</td>\n",
       "      <td>8.52</td>\n",
       "      <td>8.52</td>\n",
       "      <td>9558200.0</td>\n",
       "      <td>-0.23</td>\n",
       "      <td>134.27326</td>\n",
       "      <td>126.95951</td>\n",
       "    </tr>\n",
       "    <tr>\n",
       "      <th>2022-07-27</th>\n",
       "      <td>8.54</td>\n",
       "      <td>8.59</td>\n",
       "      <td>8.49</td>\n",
       "      <td>8.56</td>\n",
       "      <td>8.56</td>\n",
       "      <td>11124200.0</td>\n",
       "      <td>0.47</td>\n",
       "      <td>134.74326</td>\n",
       "      <td>127.42951</td>\n",
       "    </tr>\n",
       "  </tbody>\n",
       "</table>\n",
       "</div>"
      ],
      "text/plain": [
       "            Open  High   Low  Close  Adj Close      Volume  Retorno  \\\n",
       "Date                                                                  \n",
       "2022-07-21  8.47  8.58  8.38   8.56       8.56  14112500.0     1.18   \n",
       "2022-07-22  8.58  8.60  8.39   8.47       8.47  12064900.0    -1.05   \n",
       "2022-07-25  8.50  8.59  8.49   8.54       8.54  10114300.0     0.83   \n",
       "2022-07-26  8.52  8.61  8.44   8.52       8.52   9558200.0    -0.23   \n",
       "2022-07-27  8.54  8.59  8.49   8.56       8.56  11124200.0     0.47   \n",
       "\n",
       "            Total_Retorno_Com_Outlier  Total_Retorno_Sem_Outliers  \n",
       "Date                                                               \n",
       "2022-07-21                  134.72326                   127.40951  \n",
       "2022-07-22                  133.67326                   126.35951  \n",
       "2022-07-25                  134.50326                   127.18951  \n",
       "2022-07-26                  134.27326                   126.95951  \n",
       "2022-07-27                  134.74326                   127.42951  "
      ]
     },
     "execution_count": 61,
     "metadata": {},
     "output_type": "execute_result"
    }
   ],
   "source": [
    "df_rep_outlires['Total_Retorno_Com_Outlier'] = df['Retorno'].cumsum()\n",
    "df_rep_outlires['Total_Retorno_Sem_Outliers'] = df_rep_outlires['Retorno'].cumsum()\n",
    "df_rep_outlires.tail()"
   ]
  },
  {
   "cell_type": "code",
   "execution_count": 62,
   "metadata": {},
   "outputs": [
    {
     "data": {
      "image/png": "[encoded data removed]",
      "text/plain": [
       "<Figure size 720x360 with 1 Axes>"
      ]
     },
     "metadata": {},
     "output_type": "display_data"
    }
   ],
   "source": [
    "df_rep_outlires[['Total_Retorno_Com_Outlier','Total_Retorno_Sem_Outliers']].plot(figsize = (10, 5))\n",
    "plt.title(f'Historico do Retorno Acumulado da Ação: {ticker}', fontdict=font_title)\n",
    "plt.ylabel('Cotação', fontdict=font_ylabel)\n",
    "plt.yticks(fontsize=14)\n",
    "plt.xlabel('Data', fontdict=font_xlabel)\n",
    "plt.xticks(fontsize=14)\n",
    "plt.legend()\n",
    "plt.show()"
   ]
  },
  {
   "cell_type": "markdown",
   "metadata": {},
   "source": [
    "#### Verificando e removendo os outlires"
   ]
  },
  {
   "cell_type": "code",
   "execution_count": 88,
   "metadata": {},
   "outputs": [
    {
     "data": {
      "image/png": "[encoded data removed]",
      "text/plain": [
       "<Figure size 432x288 with 1 Axes>"
      ]
     },
     "metadata": {},
     "output_type": "display_data"
    },
    {
     "data": {
      "text/html": [
       "<div>\n",
       "<style scoped>\n",
       "    .dataframe tbody tr th:only-of-type {\n",
       "        vertical-align: middle;\n",
       "    }\n",
       "\n",
       "    .dataframe tbody tr th {\n",
       "        vertical-align: top;\n",
       "    }\n",
       "\n",
       "    .dataframe thead th {\n",
       "        text-align: right;\n",
       "    }\n",
       "</style>\n",
       "<table border=\"1\" class=\"dataframe\">\n",
       "  <thead>\n",
       "    <tr style=\"text-align: right;\">\n",
       "      <th></th>\n",
       "      <th>Date</th>\n",
       "      <th>Retorno</th>\n",
       "    </tr>\n",
       "  </thead>\n",
       "  <tbody>\n",
       "    <tr>\n",
       "      <th>0</th>\n",
       "      <td>2014-01-02</td>\n",
       "      <td>0.06326</td>\n",
       "    </tr>\n",
       "    <tr>\n",
       "      <th>1</th>\n",
       "      <td>2014-01-03</td>\n",
       "      <td>0.34000</td>\n",
       "    </tr>\n",
       "    <tr>\n",
       "      <th>2</th>\n",
       "      <td>2014-01-06</td>\n",
       "      <td>0.68000</td>\n",
       "    </tr>\n",
       "    <tr>\n",
       "      <th>3</th>\n",
       "      <td>2014-01-07</td>\n",
       "      <td>-0.34000</td>\n",
       "    </tr>\n",
       "    <tr>\n",
       "      <th>4</th>\n",
       "      <td>2014-01-08</td>\n",
       "      <td>0.57000</td>\n",
       "    </tr>\n",
       "    <tr>\n",
       "      <th>...</th>\n",
       "      <td>...</td>\n",
       "      <td>...</td>\n",
       "    </tr>\n",
       "    <tr>\n",
       "      <th>2125</th>\n",
       "      <td>2022-07-21</td>\n",
       "      <td>1.18000</td>\n",
       "    </tr>\n",
       "    <tr>\n",
       "      <th>2126</th>\n",
       "      <td>2022-07-22</td>\n",
       "      <td>-1.05000</td>\n",
       "    </tr>\n",
       "    <tr>\n",
       "      <th>2127</th>\n",
       "      <td>2022-07-25</td>\n",
       "      <td>0.83000</td>\n",
       "    </tr>\n",
       "    <tr>\n",
       "      <th>2128</th>\n",
       "      <td>2022-07-26</td>\n",
       "      <td>-0.23000</td>\n",
       "    </tr>\n",
       "    <tr>\n",
       "      <th>2129</th>\n",
       "      <td>2022-07-27</td>\n",
       "      <td>0.47000</td>\n",
       "    </tr>\n",
       "  </tbody>\n",
       "</table>\n",
       "<p>2130 rows × 2 columns</p>\n",
       "</div>"
      ],
      "text/plain": [
       "           Date  Retorno\n",
       "0    2014-01-02  0.06326\n",
       "1    2014-01-03  0.34000\n",
       "2    2014-01-06  0.68000\n",
       "3    2014-01-07 -0.34000\n",
       "4    2014-01-08  0.57000\n",
       "...         ...      ...\n",
       "2125 2022-07-21  1.18000\n",
       "2126 2022-07-22 -1.05000\n",
       "2127 2022-07-25  0.83000\n",
       "2128 2022-07-26 -0.23000\n",
       "2129 2022-07-27  0.47000\n",
       "\n",
       "[2130 rows x 2 columns]"
      ]
     },
     "execution_count": 88,
     "metadata": {},
     "output_type": "execute_result"
    }
   ],
   "source": [
    "# Fazendo uma cópia do DataFrame 'original'\n",
    "df_rev_outlires = df.copy() \n",
    "\n",
    "df_emp_outlires = pd.DataFrame(df_rev_outlires['Retorno']) \n",
    "\n",
    "# Plot\n",
    "sns.boxplot(df_emp_outlires['Retorno'])\n",
    "plt.show()\n",
    "\n",
    "# Criando um novo index\n",
    "df_emp_outlires.reset_index(inplace=True)\n",
    "df_emp_outlires"
   ]
  },
  {
   "cell_type": "code",
   "execution_count": 89,
   "metadata": {},
   "outputs": [
    {
     "name": "stdout",
     "output_type": "stream",
     "text": [
      "Shape: (2130, 2)\n",
      "New Shape: (2053, 2)\n",
      "Qtd. Outlires: 77\n"
     ]
    }
   ],
   "source": [
    "#IQR - Realizando o calculo do IQR e removendo os outlires\n",
    "Q1 = np.percentile(df_emp_outlires['Retorno'], 25, interpolation='midpoint')\n",
    "Q3 = np.percentile(df_emp_outlires['Retorno'], 75, interpolation='midpoint')\n",
    "\n",
    "IQR = Q3 - Q1\n",
    "\n",
    "print('Shape:', df_emp_outlires.shape)\n",
    "shape = len(df_emp_outlires)\n",
    "\n",
    "upper = np.where(df_emp_outlires['Retorno'] >= (Q3 + 1.5 * IQR)) \n",
    "lower = np.where(df_emp_outlires['Retorno'] <= (Q1 - 1.5 * IQR)) \n",
    "df_emp_outlires.drop(upper[0], inplace=True)\n",
    "df_emp_outlires.drop(lower[0], inplace=True)\n",
    "\n",
    "print('New Shape:', df_emp_outlires.shape)\n",
    "newShape = len(df_emp_outlires)\n",
    "\n",
    "print('Qtd. Outlires:', shape - newShape)"
   ]
  },
  {
   "cell_type": "code",
   "execution_count": 90,
   "metadata": {},
   "outputs": [
    {
     "data": {
      "image/png": "[encoded data removed]",
      "text/plain": [
       "<Figure size 432x288 with 1 Axes>"
      ]
     },
     "metadata": {},
     "output_type": "display_data"
    }
   ],
   "source": [
    "# Colocando a coluna 'Date' como index do DataFrame\n",
    "df_emp_outlires.set_index('Date', inplace=True)\n",
    "\n",
    "# Plot\n",
    "sns.boxplot(df_emp_outlires['Retorno'])\n",
    "plt.show()"
   ]
  },
  {
   "cell_type": "code",
   "execution_count": 91,
   "metadata": {},
   "outputs": [],
   "source": [
    "# Inserindo no DataFrame principal os dados de retorno sem os outlires\n",
    "df_rev_outlires['Retorno1'] = df_emp_outlires['Retorno']\n",
    "\n",
    "# Alterando os valores NaN por 0\n",
    "df_rev_outlires.fillna(0, inplace=True)"
   ]
  },
  {
   "cell_type": "code",
   "execution_count": 92,
   "metadata": {},
   "outputs": [
    {
     "data": {
      "text/plain": [
       "Open         0\n",
       "High         0\n",
       "Low          0\n",
       "Close        0\n",
       "Adj Close    0\n",
       "Volume       0\n",
       "Retorno      0\n",
       "Retorno1     0\n",
       "dtype: int64"
      ]
     },
     "execution_count": 92,
     "metadata": {},
     "output_type": "execute_result"
    }
   ],
   "source": [
    "# Verificando se a dados ausentes\n",
    "df_rev_outlires.isnull().sum()"
   ]
  },
  {
   "cell_type": "code",
   "execution_count": 93,
   "metadata": {},
   "outputs": [
    {
     "data": {
      "text/html": [
       "<div>\n",
       "<style scoped>\n",
       "    .dataframe tbody tr th:only-of-type {\n",
       "        vertical-align: middle;\n",
       "    }\n",
       "\n",
       "    .dataframe tbody tr th {\n",
       "        vertical-align: top;\n",
       "    }\n",
       "\n",
       "    .dataframe thead th {\n",
       "        text-align: right;\n",
       "    }\n",
       "</style>\n",
       "<table border=\"1\" class=\"dataframe\">\n",
       "  <thead>\n",
       "    <tr style=\"text-align: right;\">\n",
       "      <th></th>\n",
       "      <th>Open</th>\n",
       "      <th>High</th>\n",
       "      <th>Low</th>\n",
       "      <th>Close</th>\n",
       "      <th>Adj Close</th>\n",
       "      <th>Volume</th>\n",
       "      <th>Retorno</th>\n",
       "      <th>Retorno1</th>\n",
       "      <th>Total_Retorno_Com_Outliers</th>\n",
       "      <th>Total_Retorno_Sem_Outliers</th>\n",
       "    </tr>\n",
       "    <tr>\n",
       "      <th>Date</th>\n",
       "      <th></th>\n",
       "      <th></th>\n",
       "      <th></th>\n",
       "      <th></th>\n",
       "      <th></th>\n",
       "      <th></th>\n",
       "      <th></th>\n",
       "      <th></th>\n",
       "      <th></th>\n",
       "      <th></th>\n",
       "    </tr>\n",
       "  </thead>\n",
       "  <tbody>\n",
       "    <tr>\n",
       "      <th>2022-07-21</th>\n",
       "      <td>8.47</td>\n",
       "      <td>8.58</td>\n",
       "      <td>8.38</td>\n",
       "      <td>8.56</td>\n",
       "      <td>8.56</td>\n",
       "      <td>14112500.0</td>\n",
       "      <td>1.18</td>\n",
       "      <td>1.18</td>\n",
       "      <td>134.72326</td>\n",
       "      <td>145.92326</td>\n",
       "    </tr>\n",
       "    <tr>\n",
       "      <th>2022-07-22</th>\n",
       "      <td>8.58</td>\n",
       "      <td>8.60</td>\n",
       "      <td>8.39</td>\n",
       "      <td>8.47</td>\n",
       "      <td>8.47</td>\n",
       "      <td>12064900.0</td>\n",
       "      <td>-1.05</td>\n",
       "      <td>-1.05</td>\n",
       "      <td>133.67326</td>\n",
       "      <td>144.87326</td>\n",
       "    </tr>\n",
       "    <tr>\n",
       "      <th>2022-07-25</th>\n",
       "      <td>8.50</td>\n",
       "      <td>8.59</td>\n",
       "      <td>8.49</td>\n",
       "      <td>8.54</td>\n",
       "      <td>8.54</td>\n",
       "      <td>10114300.0</td>\n",
       "      <td>0.83</td>\n",
       "      <td>0.83</td>\n",
       "      <td>134.50326</td>\n",
       "      <td>145.70326</td>\n",
       "    </tr>\n",
       "    <tr>\n",
       "      <th>2022-07-26</th>\n",
       "      <td>8.52</td>\n",
       "      <td>8.61</td>\n",
       "      <td>8.44</td>\n",
       "      <td>8.52</td>\n",
       "      <td>8.52</td>\n",
       "      <td>9558200.0</td>\n",
       "      <td>-0.23</td>\n",
       "      <td>-0.23</td>\n",
       "      <td>134.27326</td>\n",
       "      <td>145.47326</td>\n",
       "    </tr>\n",
       "    <tr>\n",
       "      <th>2022-07-27</th>\n",
       "      <td>8.54</td>\n",
       "      <td>8.59</td>\n",
       "      <td>8.49</td>\n",
       "      <td>8.56</td>\n",
       "      <td>8.56</td>\n",
       "      <td>11124200.0</td>\n",
       "      <td>0.47</td>\n",
       "      <td>0.47</td>\n",
       "      <td>134.74326</td>\n",
       "      <td>145.94326</td>\n",
       "    </tr>\n",
       "  </tbody>\n",
       "</table>\n",
       "</div>"
      ],
      "text/plain": [
       "            Open  High   Low  Close  Adj Close      Volume  Retorno  Retorno1  \\\n",
       "Date                                                                            \n",
       "2022-07-21  8.47  8.58  8.38   8.56       8.56  14112500.0     1.18      1.18   \n",
       "2022-07-22  8.58  8.60  8.39   8.47       8.47  12064900.0    -1.05     -1.05   \n",
       "2022-07-25  8.50  8.59  8.49   8.54       8.54  10114300.0     0.83      0.83   \n",
       "2022-07-26  8.52  8.61  8.44   8.52       8.52   9558200.0    -0.23     -0.23   \n",
       "2022-07-27  8.54  8.59  8.49   8.56       8.56  11124200.0     0.47      0.47   \n",
       "\n",
       "            Total_Retorno_Com_Outliers  Total_Retorno_Sem_Outliers  \n",
       "Date                                                                \n",
       "2022-07-21                   134.72326                   145.92326  \n",
       "2022-07-22                   133.67326                   144.87326  \n",
       "2022-07-25                   134.50326                   145.70326  \n",
       "2022-07-26                   134.27326                   145.47326  \n",
       "2022-07-27                   134.74326                   145.94326  "
      ]
     },
     "execution_count": 93,
     "metadata": {},
     "output_type": "execute_result"
    }
   ],
   "source": [
    "# Criando as variáveis de retorno acumulado\n",
    "df_rev_outlires['Total_Retorno_Com_Outliers'] = df_rev_outlires['Retorno'].cumsum()\n",
    "df_rev_outlires['Total_Retorno_Sem_Outliers'] = df_rev_outlires['Retorno1'].cumsum()\n",
    "df_rev_outlires.tail()"
   ]
  },
  {
   "cell_type": "code",
   "execution_count": 94,
   "metadata": {},
   "outputs": [
    {
     "data": {
      "image/png": "[encoded data removed]",
      "text/plain": [
       "<Figure size 720x360 with 1 Axes>"
      ]
     },
     "metadata": {},
     "output_type": "display_data"
    }
   ],
   "source": [
    "df_rev_outlires[['Total_Retorno_Com_Outliers','Total_Retorno_Sem_Outliers']].plot(figsize = (10, 5))\n",
    "plt.title(f'Historico do Retorno Acumulado da Ação: {ticker}', fontdict=font_title)\n",
    "plt.ylabel('Cotação', fontdict=font_ylabel)\n",
    "plt.yticks(fontsize=14)\n",
    "plt.xlabel('Data', fontdict=font_xlabel)\n",
    "plt.xticks(fontsize=14)\n",
    "plt.legend()\n",
    "plt.show()"
   ]
  }
 ],
 "metadata": {
  "kernelspec": {
   "display_name": "Python 3.10.5 ('AED': venv)",
   "language": "python",
   "name": "python3"
  },
  "language_info": {
   "codemirror_mode": {
    "name": "ipython",
    "version": 3
   },
   "file_extension": ".py",
   "mimetype": "text/x-python",
   "name": "python",
   "nbconvert_exporter": "python",
   "pygments_lexer": "ipython3",
   "version": "3.10.5"
  },
  "orig_nbformat": 4,
  "vscode": {
   "interpreter": {
    "hash": "027a342a3963cf1d88171445b94f526678796bcee31b62d4862c1cbd664401bb"
   }
  }
 },
 "nbformat": 4,
 "nbformat_minor": 2
}
