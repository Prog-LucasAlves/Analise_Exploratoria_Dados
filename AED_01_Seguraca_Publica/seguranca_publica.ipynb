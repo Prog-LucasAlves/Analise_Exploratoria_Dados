{
 "cells": [
  {
   "cell_type": "markdown",
   "metadata": {},
   "source": [
    "# <center>Dados da Segurança Pública - RJ (Municípios)</center>"
   ]
  },
  {
   "cell_type": "markdown",
   "metadata": {},
   "source": [
    "<p align=\"center\">\n",
    "  <img width=\"460\" height=\"300\" src=\"./governo-do-estado-rio-de-janeiro-logo-1-1.png\">\n",
    "</p>"
   ]
  },
  {
   "cell_type": "markdown",
   "metadata": {},
   "source": [
    "### Bibliotecas Utilizadas:"
   ]
  },
  {
   "cell_type": "code",
   "execution_count": null,
   "metadata": {},
   "outputs": [],
   "source": [
    "# Manipulação de Dados\n",
    "import pandas as pd\n",
    "import numpy as np\n",
    "\n",
    "# Visualização\n",
    "import matplotlib.pyplot as plt\n",
    "import seaborn as sns\n",
    "\n",
    "# Sistema\n",
    "import sys\n",
    "import os\n",
    "\n",
    "# Ignore Warning(Avisos)\n",
    "import warnings\n",
    "warnings.filterwarnings(\"ignore\")\n",
    "\n",
    "pd.set_option('display.max_columns', 100)"
   ]
  },
  {
   "cell_type": "code",
   "execution_count": null,
   "metadata": {},
   "outputs": [],
   "source": [
    "# Vamos adicionar o caminho para os módulos Python\n",
    "sys.path.append(os.path.abspath(os.path.join('../modulos/')))\n",
    "from estrategia1 import *\n",
    "from estrategia2 import *\n",
    "from estrategia3 import *"
   ]
  },
  {
   "cell_type": "markdown",
   "metadata": {},
   "source": [
    "### Carregando a base de dados (2014 - 2022)"
   ]
  },
  {
   "cell_type": "markdown",
   "metadata": {},
   "source": [
    "<span style=\"color:green\"> **Dados coletados do site: http://www.ispdados.rj.gov.br/estatistica.html** </span>"
   ]
  },
  {
   "cell_type": "code",
   "execution_count": null,
   "metadata": {},
   "outputs": [],
   "source": [
    "df = pd.read_csv('http://www.ispdados.rj.gov.br/Arquivos/BaseMunicipioMensal.csv', sep=';', encoding='unicode_escape')\n",
    "df.head()"
   ]
  },
  {
   "cell_type": "markdown",
   "metadata": {},
   "source": [
    "### Exploração da base de dados"
   ]
  },
  {
   "cell_type": "code",
   "execution_count": null,
   "metadata": {},
   "outputs": [],
   "source": [
    "# Verificando as colunas\n",
    "df.columns"
   ]
  },
  {
   "cell_type": "code",
   "execution_count": null,
   "metadata": {},
   "outputs": [],
   "source": [
    "# Informações sobre os nomes das colunas\n",
    "dicionario_dados = dict()\n",
    "\n",
    "dicionario_dados['fmun_cod'] = 'Código IBGE de 7 dígitos do município'\n",
    "dicionario_dados['fmun'] = 'Nome do município'\n",
    "dicionario_dados['ano'] = 'Ano da comunicação da ocorrência'\n",
    "dicionario_dados['mes'] = 'Mês da comunicação da ocorrência'\n",
    "dicionario_dados['mes_ano'] = 'Mês e ano da comunicação da ocorrência'\n",
    "dicionario_dados['regiao'] = '1-Baixada / 2-Capital / 3-Grande Niterói / 4-Interior'\n",
    "dicionario_dados['fase'] = '2-Consolidado sem errata / 3-Consolidado com errata'\n",
    "dicionario_dados['hom_doloso'] = 'Homicídio doloso'\n",
    "dicionario_dados['lesao_corp_morte'] = 'Lesão corporal seguida de morte'\n",
    "dicionario_dados['latrocinio'] = 'Latrocínio (roubo seguido de morte)'\n",
    "dicionario_dados['cvli'] = 'Crimes Violentos Letais Intencionais'\n",
    "dicionario_dados['hom_por_interv_policial'] = 'Morte por intervenção de agente do Estado'\n",
    "dicionario_dados['letalidade_violenta'] = 'Letalidade violenta'\n",
    "dicionario_dados['tentat_hom'] = 'Tentativa de homicídio'\n",
    "dicionario_dados['lesao_corp_dolosa'] = 'Lesão corporal dolosa'\n",
    "dicionario_dados['estupro'] = 'Estupro'\n",
    "dicionario_dados['hom_culposo'] = 'Homicídio culposo (trânsito)'\n",
    "dicionario_dados['lesao_corp_culposa'] = 'Lesão corporal culposa (trânsito)'\n",
    "dicionario_dados['roubo_transeunte'] = 'Roubo a transeunte'\n",
    "dicionario_dados['roubo_celular'] = 'Roubo de telefone celular'\n",
    "dicionario_dados['roubo_em_coletivo'] = 'Roubo em coletivo' \n",
    "dicionario_dados['roubo_rua'] = 'Roubo de Rua'\n",
    "dicionario_dados['roubo_veiculo'] = 'Roubo de veículo'\n",
    "dicionario_dados['roubo_carga'] = 'Roubo de carga' \n",
    "dicionario_dados['roubo_comercio'] = 'Roubo a estabelecimento comercial'\n",
    "dicionario_dados['roubo_residencia'] = 'Roubo a residência'\n",
    "dicionario_dados['roubo_banco'] = 'Roubo a banco'\n",
    "dicionario_dados['roubo_cx_eletronico'] = 'Roubo de caixa eletrônico'\n",
    "dicionario_dados['roubo_conducao_saque'] = 'Roubo com condução da vítima para saque em instituição financeira'\n",
    "dicionario_dados['roubo_apos_saque'] = 'Roubo após saque em instituição financeira'\n",
    "dicionario_dados['roubo_bicicleta'] = 'Roubo de bicicleta'\n",
    "dicionario_dados['outros_roubos'] = 'Outros roubos que não os listados acima'\n",
    "dicionario_dados['total_roubos'] = 'Total de roubos'\n",
    "dicionario_dados['furto_veiculos'] = 'Furto de veículo'\n",
    "dicionario_dados['furto_transeunte'] = 'Furto a transeunte'\n",
    "dicionario_dados['furto_coletivo'] = 'Furto em coletivo'\n",
    "dicionario_dados['furto_celular'] = 'Furto de telefone celular'\n",
    "dicionario_dados['furto_bicicleta'] = 'Furto de bicicleta'\n",
    "dicionario_dados['outros_furtos'] = 'Outros furtos que não os listados acima'\n",
    "dicionario_dados['total_furtos'] = 'Total de furtos'\n",
    "dicionario_dados['sequestro'] = 'Extorsão mediante sequestro (sequestro clássico)'\n",
    "dicionario_dados['sequestro_relampago'] = 'Extorsão com momentânea privação da liberdade (sequestro relâmpago)'\n",
    "dicionario_dados['apreensao_drogas'] = 'Apreensão de drogas'\n",
    "dicionario_dados['posse_drogas'] = 'Número de registros que possuem algum título referente a posse de drogas'\n",
    "dicionario_dados['trafico_drogas'] = 'Número de registros que possuem algum título referente a tráfico de drogas' \n",
    "dicionario_dados['apreensao_drogas_sem_autor'] = 'Número de registros que possuem algum título referente a apreensão de drogas sem autor'\n",
    "dicionario_dados['recuperacao_veiculos'] = 'Recuperação de veículo'\n",
    "dicionario_dados['apf'] = 'Auto de Prisão em Flagrante'\n",
    "dicionario_dados['aaapai'] = 'Auto de Apreensão de Adolescente por Prática de Ato Infracional'\n",
    "dicionario_dados['cmp'] = 'Cumprimento de Mandado de Prisão' \n",
    "dicionario_dados['cmba'] = 'Cumprimento de Mandado de Busca e Apreensão'\n",
    "dicionario_dados['ameaca'] = 'Ameaça'\n",
    "dicionario_dados['pessoas_desaparecidas'] = 'Pessoas desaparecidas'\n",
    "dicionario_dados['encontro_cadaver'] = 'Encontro de cadáver'\n",
    "dicionario_dados['encontro_ossada'] = 'Encontro de ossada'\n",
    "dicionario_dados['pol_militares_mortos_serv'] = 'Policiais Militares mortos em serviço'\n",
    "dicionario_dados['pol_civis_mortos_serv'] = 'Policiais Civis mortos em serviço'\n",
    "dicionario_dados['registro_ocorrencias'] = 'Registro de ocorrências'"
   ]
  },
  {
   "cell_type": "code",
   "execution_count": null,
   "metadata": {},
   "outputs": [],
   "source": [
    "# Verificando a quandidade de linhas e colunas\n",
    "df.shape"
   ]
  },
  {
   "cell_type": "code",
   "execution_count": null,
   "metadata": {},
   "outputs": [],
   "source": [
    "# Verifica a (%) de valores ausentes\n",
    "func_calc_percentual_valores_ausentes(df)"
   ]
  },
  {
   "cell_type": "code",
   "execution_count": null,
   "metadata": {},
   "outputs": [],
   "source": [
    "# Verifica e elimina valores duplicados\n",
    "drop_duplicates(df)"
   ]
  },
  {
   "cell_type": "code",
   "execution_count": null,
   "metadata": {},
   "outputs": [],
   "source": [
    "df.info()"
   ]
  },
  {
   "cell_type": "code",
   "execution_count": null,
   "metadata": {},
   "outputs": [],
   "source": [
    "# Eliminando colunas que não seram utilizadas\n",
    "df.drop(['fase','fmun_cod','mes_ano'], axis=1, inplace=True)"
   ]
  },
  {
   "cell_type": "code",
   "execution_count": null,
   "metadata": {},
   "outputs": [],
   "source": [
    "# Verificando valores unicos na coluna mes\n",
    "print(df['mes'].unique())\n",
    "\n",
    "df['mes'] = np.where(df['mes'] == '1', 'Janeiro', df['mes'])\n",
    "df['mes'] = np.where(df['mes'] == '2', 'Fevereiro', df['mes'])\n",
    "df['mes'] = np.where(df['mes'] == '3', 'Março', df['mes'])\n",
    "df['mes'] = np.where(df['mes'] == '4', 'Abril', df['mes'])\n",
    "df['mes'] = np.where(df['mes'] == '5', 'Maio', df['mes'])\n",
    "df['mes'] = np.where(df['mes'] == '6', 'Junho', df['mes'])\n",
    "df['mes'] = np.where(df['mes'] == '7', 'Julho', df['mes'])\n",
    "df['mes'] = np.where(df['mes'] == '8', 'Agosto', df['mes'])\n",
    "df['mes'] = np.where(df['mes'] == '9', 'Setembro', df['mes'])\n",
    "df['mes'] = np.where(df['mes'] == '10', 'Outubro', df['mes'])\n",
    "df['mes'] = np.where(df['mes'] == '11', 'Novembro', df['mes'])\n",
    "df['mes'] = np.where(df['mes'] == '12', 'Dezembro', df['mes'])"
   ]
  },
  {
   "cell_type": "code",
   "execution_count": null,
   "metadata": {},
   "outputs": [],
   "source": [
    "df.head()"
   ]
  },
  {
   "cell_type": "markdown",
   "metadata": {},
   "source": [
    "## Coluna 'hom_doloso' - Homicídio doloso"
   ]
  },
  {
   "cell_type": "markdown",
   "metadata": {},
   "source": [
    "### Gráfico do Número de Homicídios Dolosos/Ano"
   ]
  },
  {
   "cell_type": "code",
   "execution_count": null,
   "metadata": {},
   "outputs": [],
   "source": [
    "df_homicidios = df.groupby(['ano']).sum() #agrupando(ano) e somando os dados\n",
    "df_homicidios.reset_index(inplace=True)\n",
    "indice = np.arange(len(df_homicidios['ano']))\n",
    "\n",
    "plt.style.use('fivethirtyeight')\n",
    "plt.figure(figsize=(10,5))\n",
    "plt.bar(indice, df_homicidios['hom_doloso'])\n",
    "plt.yticks(fontsize=12)\n",
    "plt.xticks(indice, df_homicidios['ano'], fontsize=12,)\n",
    "plt.ylabel('Qtd Homicídios', fontsize=15)\n",
    "plt.xlabel('Ano', fontsize=15) #rotulo eixo X\n",
    "plt.title('Número Total de Homicídios Dolosos no Estado do Rio de Janeiro/RJ', fontsize=15) #título do gráfico\n",
    "plt.show()"
   ]
  },
  {
   "cell_type": "markdown",
   "metadata": {},
   "source": [
    "### Análise Descritiva Homicídios por Ano - Mensal (Em todo o estado Rio de Janeiro)"
   ]
  },
  {
   "cell_type": "code",
   "execution_count": null,
   "metadata": {},
   "outputs": [],
   "source": [
    "df_homicidios_ano = df[['ano','mes','hom_doloso']]\n",
    "\n",
    "df_homicidios_analise_descritiva = pd.DataFrame(\n",
    "    columns=['2014','2015','2016','2017','2018','2019','2020','2021','2022','2023'], \n",
    "    index=['Total','Média Mensal','Média Diária','Mínimo Mensal','Mediana Mensal','Máximo Mensal','Desvio Padrão'])\n",
    "\n",
    "anos = ['2014','2015','2016','2017','2018','2019','2020','2021','2022','2023']\n",
    "\n",
    "for ano in anos:\n",
    "    df_homicidios_ano_total = df_homicidios_ano.query(f'ano == {ano}')\n",
    "    df_homicidios_ano_group = df_homicidios_ano_total.groupby(['mes']).sum()\n",
    "    df_homicidios_analise_descritiva[f'{ano}'].loc[:1] = round(df_homicidios_ano_group['hom_doloso'].sum(), 2)\n",
    "    df_homicidios_analise_descritiva[f'{ano}'].loc[1:2] = round(df_homicidios_ano_group['hom_doloso'].mean(), 2)\n",
    "    df_homicidios_analise_descritiva[f'{ano}'].loc[2:3] = round(df_homicidios_ano_group['hom_doloso'].mean() / 30, 2) \n",
    "    df_homicidios_analise_descritiva[f'{ano}'].loc[3:4] = round(df_homicidios_ano_group['hom_doloso'].min(), 2)\n",
    "    df_homicidios_analise_descritiva[f'{ano}'].loc[4:5] = round(df_homicidios_ano_group['hom_doloso'].median(), 2)\n",
    "    df_homicidios_analise_descritiva[f'{ano}'].loc[5:6] = round(df_homicidios_ano_group['hom_doloso'].max(), 2)\n",
    "    df_homicidios_analise_descritiva[f'{ano}'].loc[6:7] = round(df_homicidios_ano_group['hom_doloso'].std(), 2)\n",
    "\n",
    "df_homicidios_analise_descritiva"
   ]
  },
  {
   "cell_type": "markdown",
   "metadata": {},
   "source": [
    "###  Homicídios por Região (Em todo o estado Rio de Janeiro)"
   ]
  },
  {
   "cell_type": "code",
   "execution_count": null,
   "metadata": {},
   "outputs": [],
   "source": [
    "df_homicidios_regiao = df[['ano','mes','regiao','hom_doloso']]\n",
    "df_homicidios_regiao_group = df_homicidios_regiao.groupby(['regiao']).sum()\n",
    "df_homicidios_regiao_group.reset_index(inplace=True)\n",
    "indice_homicidios_regiao = np.arange(len(df_homicidios_regiao_group['ano']))\n",
    "\n",
    "plt.style.use('fivethirtyeight')\n",
    "plt.figure(figsize=(10,5))\n",
    "plt.barh(df_homicidios_regiao_group['regiao'],df_homicidios_regiao_group['hom_doloso'])\n",
    "plt.yticks(fontsize=12)\n",
    "plt.xticks(fontsize=12)\n",
    "plt.xlabel(\"Qtd. Homicídios Dolosos\", fontsize=15) #rotulo eixo X\n",
    "plt.ylabel(\"Região\", fontsize=15) #rotulo eixo Y\n",
    "plt.title(\"Número Total de Homicídios Dolosos(2014 - 2022) por Região no Estado do Rio de Janeiro/RJ\", fontsize=15) #título do gráfico\n",
    "plt.show()"
   ]
  },
  {
   "cell_type": "code",
   "execution_count": null,
   "metadata": {},
   "outputs": [],
   "source": [
    "df_homicidios_ano_regiao = df[['ano','mes','regiao','hom_doloso']]\n",
    "df_homicidios_ano_regiao_group = df_homicidios_ano_regiao.groupby(['ano','regiao']).sum()\n",
    "df_homicidios_ano_regiao_group.reset_index(inplace=True)\n",
    "\n",
    "df_homicidios_ano_regiao_interior = df_homicidios_ano_regiao_group.query('regiao == \"Interior\"')\n",
    "df_homicidios_ano_regiao_grandeniteroi = df_homicidios_ano_regiao_group.query('regiao == \"Grande Niterói\"')\n",
    "df_homicidios_ano_regiao_capital = df_homicidios_ano_regiao_group.query('regiao == \"Capital\"')\n",
    "df_homicidios_ano_regiao_baixadafluminense = df_homicidios_ano_regiao_group.query('regiao == \"Baixada Fluminense\"')\n",
    "\n",
    "plt.style.use('fivethirtyeight')\n",
    "plt.figure(figsize=(10,5))\n",
    "plt.plot(df_homicidios_ano_regiao_interior['ano'], df_homicidios_ano_regiao_interior['hom_doloso'])\n",
    "plt.plot(df_homicidios_ano_regiao_grandeniteroi['ano'], df_homicidios_ano_regiao_grandeniteroi['hom_doloso'])\n",
    "plt.plot(df_homicidios_ano_regiao_capital['ano'], df_homicidios_ano_regiao_capital['hom_doloso'])\n",
    "plt.plot(df_homicidios_ano_regiao_baixadafluminense['ano'], df_homicidios_ano_regiao_baixadafluminense['hom_doloso'])\n",
    "plt.legend(['Interior','Grande Niteroi','Capital','Baixada Fluminense'])\n",
    "plt.yticks(fontsize=12)\n",
    "plt.xticks(fontsize=12)\n",
    "plt.xlabel(\"Ano\", fontsize=15) #rotulo eixo X\n",
    "plt.ylabel(\"Qtd. Homicídios Dolosos\", fontsize=15) #rotulo eixo Y\n",
    "plt.title(\"Número Total de Homicídios Dolosos(Ano) por Região no Estado do Rio de Janeiro/RJ\", fontsize=15) #título do gráfico\n",
    "plt.show()\n"
   ]
  },
  {
   "cell_type": "markdown",
   "metadata": {},
   "source": [
    "### Homicídios por Municípios (Em todo o estado Rio de Janeiro)\n",
    "\n",
    "#### OBS.: graficos feitos com os 10 maiores municípios por população\n",
    "\n",
    "<span style=\"color:green\"> **Site: https://pt.wikipedia.org/wiki/Lista_de_munic%C3%ADpios_do_Rio_de_Janeiro_por_popula%C3%A7%C3%A3o** </span>"
   ]
  },
  {
   "cell_type": "code",
   "execution_count": null,
   "metadata": {},
   "outputs": [],
   "source": [
    "df_homicidios_ano_municipios = df[['ano','fmun','hom_doloso']]\n",
    "df_homicidios_ano_municipios_group = df_homicidios_ano_municipios.groupby(['ano','fmun']).sum()\n",
    "df_homicidios_ano_municipios_group.reset_index(inplace=True)\n",
    "df_homicidios_ano_municipios_group_riodejaneiro = df_homicidios_ano_municipios_group.query('fmun == \"Rio de Janeiro\"')\n",
    "df_homicidios_ano_municipios_group_saogoncalo = df_homicidios_ano_municipios_group.query('fmun == \"São Gonçalo\"')\n",
    "df_homicidios_ano_municipios_group_duquedecaxias = df_homicidios_ano_municipios_group.query('fmun == \"Duque de Caxias\"')\n",
    "df_homicidios_ano_municipios_group_novaiguacu = df_homicidios_ano_municipios_group.query('fmun == \"Nova Iguaçu\"')\n",
    "df_homicidios_ano_municipios_group_niteroi = df_homicidios_ano_municipios_group.query('fmun == \"Niterói\"')\n",
    "df_homicidios_ano_municipios_group_belfordroxo = df_homicidios_ano_municipios_group.query('fmun == \"Belford Roxo\"')\n",
    "df_homicidios_ano_municipios_group_camposdosgoytacazes = df_homicidios_ano_municipios_group.query('fmun == \"Campos dos Goytacazes\"')\n",
    "df_homicidios_ano_municipios_group_saojoaodemeriti = df_homicidios_ano_municipios_group.query('fmun == \"São João de Meriti\"')\n",
    "df_homicidios_ano_municipios_group_petropolis = df_homicidios_ano_municipios_group.query('fmun == \"Petrópolis\"')\n",
    "\n",
    "\n",
    "plt.style.use('fivethirtyeight')\n",
    "plt.figure(figsize=(10,5))\n",
    "plt.plot(df_homicidios_ano_municipios_group_riodejaneiro['ano'], df_homicidios_ano_municipios_group_riodejaneiro['hom_doloso'])\n",
    "plt.plot(df_homicidios_ano_municipios_group_saogoncalo['ano'], df_homicidios_ano_municipios_group_saogoncalo['hom_doloso'])\n",
    "plt.plot(df_homicidios_ano_municipios_group_duquedecaxias['ano'], df_homicidios_ano_municipios_group_duquedecaxias['hom_doloso'])\n",
    "plt.plot(df_homicidios_ano_municipios_group_novaiguacu['ano'], df_homicidios_ano_municipios_group_novaiguacu['hom_doloso'])\n",
    "plt.plot(df_homicidios_ano_municipios_group_niteroi['ano'], df_homicidios_ano_municipios_group_niteroi['hom_doloso'])\n",
    "plt.plot(df_homicidios_ano_municipios_group_belfordroxo['ano'], df_homicidios_ano_municipios_group_belfordroxo['hom_doloso'])\n",
    "plt.plot(df_homicidios_ano_municipios_group_camposdosgoytacazes['ano'], df_homicidios_ano_municipios_group_camposdosgoytacazes['hom_doloso'])\n",
    "plt.plot(df_homicidios_ano_municipios_group_saojoaodemeriti['ano'], df_homicidios_ano_municipios_group_saojoaodemeriti['hom_doloso'])\n",
    "plt.plot(df_homicidios_ano_municipios_group_petropolis['ano'], df_homicidios_ano_municipios_group_petropolis['hom_doloso'])\n",
    "\n",
    "plt.legend(['Rio de Janeiro','São Gonçalo','Duque de Caxias','Nova Iguaçu','Niterói','Belford Roxo','Campos dos Goytacazes',\n",
    "            'São João de Meriti','Petrópolis'], \n",
    "                bbox_to_anchor=(1.05, 1),\n",
    "                loc='upper left', \n",
    "                borderaxespad=0.)\n",
    "plt.yticks(fontsize=12)\n",
    "plt.xticks(fontsize=12)\n",
    "plt.xlabel(\"Ano\", fontsize=15) #rotulo eixo X\n",
    "plt.ylabel(\"Qtd. Homicídios Dolosos\", fontsize=15) #rotulo eixo Y\n",
    "plt.title(\"Número Total de Homicídios Dolosos(Ano) por Município no Estado do Rio de Janeiro/RJ\", fontsize=15) #título do gráfico\n",
    "plt.show()"
   ]
  },
  {
   "cell_type": "markdown",
   "metadata": {},
   "source": [
    "### Correlação entre Homicídio Doloso e tentativa de Homicídio no Estado do Rio de Janeiro"
   ]
  },
  {
   "cell_type": "code",
   "execution_count": null,
   "metadata": {},
   "outputs": [],
   "source": [
    "correlacao_homicidio = df[['ano','hom_doloso','tentat_hom']]\n",
    "correlacao_homicidio_group = correlacao_homicidio.groupby(['ano']).sum()\n",
    "corr = correlacao_homicidio_group.corr()\n",
    "corr.style.background_gradient(cmap='coolwarm')"
   ]
  },
  {
   "cell_type": "code",
   "execution_count": null,
   "metadata": {},
   "outputs": [],
   "source": [
    "\n",
    "plt.style.use('fivethirtyeight')\n",
    "plt.figure(figsize=(10,5))\n",
    "plt.scatter(correlacao_homicidio['hom_doloso'], correlacao_homicidio['tentat_hom'])\n",
    "plt.yticks(fontsize=12)\n",
    "plt.xticks(fontsize=12)\n",
    "plt.xlabel(\"Qtd. Homicídios Dolosos\", fontsize=15) #rotulo eixo X\n",
    "plt.ylabel(\"Qtd. Tentativas de Homicídios\", fontsize=15) #rotulo eixo Y\n",
    "plt.title(\"Homicídios Dolosos x Tentativas de Homicídios\", fontsize=15) #título do gráfico\n",
    "plt.show()"
   ]
  },
  {
   "cell_type": "markdown",
   "metadata": {},
   "source": [
    "### Gráfico do Número de Homicídios Culposo(Trânsito)/Ano"
   ]
  },
  {
   "cell_type": "code",
   "execution_count": null,
   "metadata": {},
   "outputs": [],
   "source": [
    "df_homicidios_culposo = df.groupby(['ano']).sum() #agrupando(ano) e somando os dados\n",
    "df_homicidios_culposo.reset_index(inplace=True)\n",
    "indice = np.arange(len(df_homicidios_culposo['ano']))\n",
    "\n",
    "plt.style.use('fivethirtyeight')\n",
    "plt.figure(figsize=(10,5))\n",
    "plt.bar(indice, df_homicidios_culposo['hom_culposo'])\n",
    "plt.yticks(fontsize=12)\n",
    "plt.xticks(indice, df_homicidios['ano'], fontsize=12,)\n",
    "plt.xlabel(\"Ano\", fontsize=15) #rotulo eixo X\n",
    "plt.ylabel(\"Número de Homicídios Culposos(Trânsito)\", fontsize=15) #rotulo eixo Y\n",
    "plt.title(\"Número Total de Homicídios Culposos(Trânsito)/Ano no Estado do Rio de Janeiro/RJ\", fontsize=15) #título do gráfico\n",
    "plt.show()"
   ]
  },
  {
   "cell_type": "markdown",
   "metadata": {},
   "source": [
    "### Análise Descritiva Homicídios Culposos por Ano - Mensal (Em todo o estado Rio de Janeiro)"
   ]
  },
  {
   "cell_type": "code",
   "execution_count": null,
   "metadata": {},
   "outputs": [],
   "source": [
    "df_homicidios_culposo_ano = df[['ano','mes','hom_culposo']]\n",
    "\n",
    "df_homicidios_culposo_analise_descritiva = pd.DataFrame(\n",
    "    columns=['2014','2015','2016','2017','2018','2019','2020','2021','2022','2023'], \n",
    "    index=['Total','Média Mensal','Média Diária','Mínimo Mensal','Mediana Mensal','Máximo Mensal','Desvio Padrão'])\n",
    "\n",
    "anos = ['2014','2015','2016','2017','2018','2019','2020','2021','2022','2023']\n",
    "\n",
    "for ano in anos:\n",
    "    df_homicidios_culposo_ano_total = df_homicidios_culposo_ano.query(f'ano == {ano}')\n",
    "    df_homicidios_culposo_ano_group = df_homicidios_culposo_ano_total.groupby(['mes']).sum()\n",
    "    df_homicidios_culposo_analise_descritiva[f'{ano}'].loc[:1] = round(df_homicidios_culposo_ano_group['hom_culposo'].sum(), 2)\n",
    "    df_homicidios_culposo_analise_descritiva[f'{ano}'].loc[1:2] = round(df_homicidios_culposo_ano_group['hom_culposo'].mean(), 2)\n",
    "    df_homicidios_culposo_analise_descritiva[f'{ano}'].loc[2:3] = round(df_homicidios_culposo_ano_group['hom_culposo'].mean() / 30, 2) \n",
    "    df_homicidios_culposo_analise_descritiva[f'{ano}'].loc[3:4] = round(df_homicidios_culposo_ano_group['hom_culposo'].min(), 2)\n",
    "    df_homicidios_culposo_analise_descritiva[f'{ano}'].loc[4:5] = round(df_homicidios_culposo_ano_group['hom_culposo'].median(), 2)\n",
    "    df_homicidios_culposo_analise_descritiva[f'{ano}'].loc[5:6] = round(df_homicidios_culposo_ano_group['hom_culposo'].max(), 2)\n",
    "    df_homicidios_culposo_analise_descritiva[f'{ano}'].loc[6:7] = round(df_homicidios_culposo_ano_group['hom_culposo'].std(), 2)\n",
    "\n",
    "df_homicidios_culposo_analise_descritiva"
   ]
  }
 ],
 "metadata": {
  "kernelspec": {
   "display_name": "Python 3.10.5 ('AED': venv)",
   "language": "python",
   "name": "python3"
  },
  "language_info": {
   "codemirror_mode": {
    "name": "ipython",
    "version": 3
   },
   "file_extension": ".py",
   "mimetype": "text/x-python",
   "name": "python",
   "nbconvert_exporter": "python",
   "pygments_lexer": "ipython3",
   "version": "3.10.5"
  },
  "orig_nbformat": 4,
  "vscode": {
   "interpreter": {
    "hash": "027a342a3963cf1d88171445b94f526678796bcee31b62d4862c1cbd664401bb"
   }
  }
 },
 "nbformat": 4,
 "nbformat_minor": 2
}
