{
 "cells": [
  {
   "cell_type": "markdown",
   "metadata": {},
   "source": [
    "# <center>Dados da Segurança Pública - RJ (Municípios)</center>"
   ]
  },
  {
   "cell_type": "markdown",
   "metadata": {},
   "source": [
    "<p align=\"center\">\n",
    "  <img width=\"460\" height=\"300\" src=\"./governo-do-estado-rio-de-janeiro-logo-1-1.png\">\n",
    "</p>"
   ]
  },
  {
   "cell_type": "markdown",
   "metadata": {},
   "source": [
    "### Bibliotecas Utilizadas:"
   ]
  },
  {
   "cell_type": "code",
   "execution_count": 1,
   "metadata": {},
   "outputs": [
    {
     "name": "stdout",
     "output_type": "stream",
     "text": [
      "Python: 3.10.4 (tags/v3.10.4:9d38120, Mar 23 2022, 23:13:41) [MSC v.1929 64 bit (AMD64)]\n",
      "Pandas: 1.4.2\n",
      "Numpy: 1.22.3\n",
      "Seaborn: 0.11.2\n"
     ]
    }
   ],
   "source": [
    "import sys\n",
    "import pandas as pd\n",
    "import numpy as np\n",
    "import matplotlib.pyplot as plt\n",
    "import seaborn as sns\n",
    "\n",
    "# Versões\n",
    "print('Python:', sys.version)\n",
    "print('Pandas:', pd.__version__)\n",
    "print('Numpy:', np.__version__)\n",
    "print('Seaborn:', sns.__version__)\n",
    "\n",
    "import warnings\n",
    "warnings.filterwarnings(\"ignore\")"
   ]
  },
  {
   "cell_type": "markdown",
   "metadata": {},
   "source": [
    "### Carregando a base de dados (2014 - 2022)"
   ]
  },
  {
   "cell_type": "markdown",
   "metadata": {},
   "source": [
    "<span style=\"color:green\"> **Dados coletados do site: http://www.ispdados.rj.gov.br/estatistica.html** </span>"
   ]
  },
  {
   "cell_type": "code",
   "execution_count": 2,
   "metadata": {},
   "outputs": [
    {
     "data": {
      "text/html": [
       "<div>\n",
       "<style scoped>\n",
       "    .dataframe tbody tr th:only-of-type {\n",
       "        vertical-align: middle;\n",
       "    }\n",
       "\n",
       "    .dataframe tbody tr th {\n",
       "        vertical-align: top;\n",
       "    }\n",
       "\n",
       "    .dataframe thead th {\n",
       "        text-align: right;\n",
       "    }\n",
       "</style>\n",
       "<table border=\"1\" class=\"dataframe\">\n",
       "  <thead>\n",
       "    <tr style=\"text-align: right;\">\n",
       "      <th></th>\n",
       "      <th>fmun_cod</th>\n",
       "      <th>fmun</th>\n",
       "      <th>ano</th>\n",
       "      <th>mes</th>\n",
       "      <th>mes_ano</th>\n",
       "      <th>regiao</th>\n",
       "      <th>hom_doloso</th>\n",
       "      <th>lesao_corp_morte</th>\n",
       "      <th>latrocinio</th>\n",
       "      <th>cvli</th>\n",
       "      <th>...</th>\n",
       "      <th>cmp</th>\n",
       "      <th>cmba</th>\n",
       "      <th>ameaca</th>\n",
       "      <th>pessoas_desaparecidas</th>\n",
       "      <th>encontro_cadaver</th>\n",
       "      <th>encontro_ossada</th>\n",
       "      <th>pol_militares_mortos_serv</th>\n",
       "      <th>pol_civis_mortos_serv</th>\n",
       "      <th>registro_ocorrencias</th>\n",
       "      <th>fase</th>\n",
       "    </tr>\n",
       "  </thead>\n",
       "  <tbody>\n",
       "    <tr>\n",
       "      <th>0</th>\n",
       "      <td>3300100</td>\n",
       "      <td>Angra dos Reis</td>\n",
       "      <td>2014</td>\n",
       "      <td>1</td>\n",
       "      <td>2014m01</td>\n",
       "      <td>Interior</td>\n",
       "      <td>11</td>\n",
       "      <td>0</td>\n",
       "      <td>0</td>\n",
       "      <td>11</td>\n",
       "      <td>...</td>\n",
       "      <td>8</td>\n",
       "      <td>0</td>\n",
       "      <td>98</td>\n",
       "      <td>13</td>\n",
       "      <td>3</td>\n",
       "      <td>0</td>\n",
       "      <td>0</td>\n",
       "      <td>0</td>\n",
       "      <td>561</td>\n",
       "      <td>3</td>\n",
       "    </tr>\n",
       "    <tr>\n",
       "      <th>1</th>\n",
       "      <td>3300159</td>\n",
       "      <td>Aperibé</td>\n",
       "      <td>2014</td>\n",
       "      <td>1</td>\n",
       "      <td>2014m01</td>\n",
       "      <td>Interior</td>\n",
       "      <td>0</td>\n",
       "      <td>0</td>\n",
       "      <td>0</td>\n",
       "      <td>0</td>\n",
       "      <td>...</td>\n",
       "      <td>0</td>\n",
       "      <td>0</td>\n",
       "      <td>0</td>\n",
       "      <td>0</td>\n",
       "      <td>0</td>\n",
       "      <td>0</td>\n",
       "      <td>0</td>\n",
       "      <td>0</td>\n",
       "      <td>0</td>\n",
       "      <td>3</td>\n",
       "    </tr>\n",
       "    <tr>\n",
       "      <th>2</th>\n",
       "      <td>3300209</td>\n",
       "      <td>Araruama</td>\n",
       "      <td>2014</td>\n",
       "      <td>1</td>\n",
       "      <td>2014m01</td>\n",
       "      <td>Interior</td>\n",
       "      <td>2</td>\n",
       "      <td>0</td>\n",
       "      <td>0</td>\n",
       "      <td>2</td>\n",
       "      <td>...</td>\n",
       "      <td>5</td>\n",
       "      <td>0</td>\n",
       "      <td>91</td>\n",
       "      <td>10</td>\n",
       "      <td>1</td>\n",
       "      <td>0</td>\n",
       "      <td>0</td>\n",
       "      <td>0</td>\n",
       "      <td>480</td>\n",
       "      <td>3</td>\n",
       "    </tr>\n",
       "    <tr>\n",
       "      <th>3</th>\n",
       "      <td>3300225</td>\n",
       "      <td>Areal</td>\n",
       "      <td>2014</td>\n",
       "      <td>1</td>\n",
       "      <td>2014m01</td>\n",
       "      <td>Interior</td>\n",
       "      <td>0</td>\n",
       "      <td>0</td>\n",
       "      <td>0</td>\n",
       "      <td>0</td>\n",
       "      <td>...</td>\n",
       "      <td>0</td>\n",
       "      <td>0</td>\n",
       "      <td>0</td>\n",
       "      <td>0</td>\n",
       "      <td>0</td>\n",
       "      <td>0</td>\n",
       "      <td>0</td>\n",
       "      <td>0</td>\n",
       "      <td>0</td>\n",
       "      <td>3</td>\n",
       "    </tr>\n",
       "    <tr>\n",
       "      <th>4</th>\n",
       "      <td>3300233</td>\n",
       "      <td>Armação dos Búzios</td>\n",
       "      <td>2014</td>\n",
       "      <td>1</td>\n",
       "      <td>2014m01</td>\n",
       "      <td>Interior</td>\n",
       "      <td>2</td>\n",
       "      <td>0</td>\n",
       "      <td>0</td>\n",
       "      <td>2</td>\n",
       "      <td>...</td>\n",
       "      <td>3</td>\n",
       "      <td>2</td>\n",
       "      <td>46</td>\n",
       "      <td>0</td>\n",
       "      <td>0</td>\n",
       "      <td>0</td>\n",
       "      <td>0</td>\n",
       "      <td>0</td>\n",
       "      <td>309</td>\n",
       "      <td>3</td>\n",
       "    </tr>\n",
       "  </tbody>\n",
       "</table>\n",
       "<p>5 rows × 60 columns</p>\n",
       "</div>"
      ],
      "text/plain": [
       "   fmun_cod                fmun   ano  mes  mes_ano    regiao  hom_doloso  \\\n",
       "0   3300100      Angra dos Reis  2014    1  2014m01  Interior          11   \n",
       "1   3300159             Aperibé  2014    1  2014m01  Interior           0   \n",
       "2   3300209            Araruama  2014    1  2014m01  Interior           2   \n",
       "3   3300225               Areal  2014    1  2014m01  Interior           0   \n",
       "4   3300233  Armação dos Búzios  2014    1  2014m01  Interior           2   \n",
       "\n",
       "   lesao_corp_morte  latrocinio  cvli  ...  cmp  cmba  ameaca  \\\n",
       "0                 0           0    11  ...    8     0      98   \n",
       "1                 0           0     0  ...    0     0       0   \n",
       "2                 0           0     2  ...    5     0      91   \n",
       "3                 0           0     0  ...    0     0       0   \n",
       "4                 0           0     2  ...    3     2      46   \n",
       "\n",
       "   pessoas_desaparecidas  encontro_cadaver  encontro_ossada  \\\n",
       "0                     13                 3                0   \n",
       "1                      0                 0                0   \n",
       "2                     10                 1                0   \n",
       "3                      0                 0                0   \n",
       "4                      0                 0                0   \n",
       "\n",
       "   pol_militares_mortos_serv  pol_civis_mortos_serv  registro_ocorrencias  \\\n",
       "0                          0                      0                   561   \n",
       "1                          0                      0                     0   \n",
       "2                          0                      0                   480   \n",
       "3                          0                      0                     0   \n",
       "4                          0                      0                   309   \n",
       "\n",
       "   fase  \n",
       "0     3  \n",
       "1     3  \n",
       "2     3  \n",
       "3     3  \n",
       "4     3  \n",
       "\n",
       "[5 rows x 60 columns]"
      ]
     },
     "execution_count": 2,
     "metadata": {},
     "output_type": "execute_result"
    }
   ],
   "source": [
    "df = pd.read_csv('http://www.ispdados.rj.gov.br/Arquivos/BaseMunicipioMensal.csv', sep=';', encoding='unicode_escape')\n",
    "df.head()"
   ]
  },
  {
   "cell_type": "code",
   "execution_count": 3,
   "metadata": {},
   "outputs": [
    {
     "data": {
      "text/plain": [
       "Index(['fmun_cod', 'fmun', 'ano', 'mes', 'mes_ano', 'regiao', 'hom_doloso',\n",
       "       'lesao_corp_morte', 'latrocinio', 'cvli', 'hom_por_interv_policial',\n",
       "       'letalidade_violenta', 'tentat_hom', 'lesao_corp_dolosa', 'estupro',\n",
       "       'hom_culposo', 'lesao_corp_culposa', 'roubo_transeunte',\n",
       "       'roubo_celular', 'roubo_em_coletivo', 'roubo_rua', 'roubo_veiculo',\n",
       "       'roubo_carga', 'roubo_comercio', 'roubo_residencia', 'roubo_banco',\n",
       "       'roubo_cx_eletronico', 'roubo_conducao_saque', 'roubo_apos_saque',\n",
       "       'roubo_bicicleta', 'outros_roubos', 'total_roubos', 'furto_veiculos',\n",
       "       'furto_transeunte', 'furto_coletivo', 'furto_celular',\n",
       "       'furto_bicicleta', 'outros_furtos', 'total_furtos', 'sequestro',\n",
       "       'extorsao', 'sequestro_relampago', 'estelionato', 'apreensao_drogas',\n",
       "       'posse_drogas', 'trafico_drogas', 'apreensao_drogas_sem_autor',\n",
       "       'recuperacao_veiculos', 'apf', 'aaapai', 'cmp', 'cmba', 'ameaca',\n",
       "       'pessoas_desaparecidas', 'encontro_cadaver', 'encontro_ossada',\n",
       "       'pol_militares_mortos_serv', 'pol_civis_mortos_serv',\n",
       "       'registro_ocorrencias', 'fase'],\n",
       "      dtype='object')"
      ]
     },
     "execution_count": 3,
     "metadata": {},
     "output_type": "execute_result"
    }
   ],
   "source": [
    "# Verificando as colunas\n",
    "df.columns"
   ]
  },
  {
   "cell_type": "code",
   "execution_count": 4,
   "metadata": {},
   "outputs": [],
   "source": [
    "dicionario_dados = dict()\n",
    "\n",
    "dicionario_dados['fmun_cod'] = 'Código IBGE de 7 dígitos do município'\n",
    "dicionario_dados['fmun'] = 'Nome do município'\n",
    "dicionario_dados['ano'] = 'Ano da comunicação da ocorrência'\n",
    "dicionario_dados['mes'] = 'Mês da comunicação da ocorrência'\n",
    "dicionario_dados['mes_ano'] = 'Mês e ano da comunicação da ocorrência'\n",
    "dicionario_dados['regiao'] = '1-Baixada / 2-Capital / 3-Grande Niterói / 4-Interior'\n",
    "dicionario_dados['fase'] = '2-Consolidado sem errata / 3-Consolidado com errata'\n",
    "dicionario_dados['hom_doloso'] = 'Homicídio doloso'\n",
    "dicionario_dados['lesao_corp_morte'] = 'Lesão corporal seguida de morte'\n",
    "dicionario_dados['latrocinio'] = 'Latrocínio (roubo seguido de morte)'\n",
    "dicionario_dados['cvli'] = 'Crimes Violentos Letais Intencionais'\n",
    "dicionario_dados['hom_por_interv_policial'] = 'Morte por intervenção de agente do Estado'\n",
    "dicionario_dados['letalidade_violenta'] = 'Letalidade violenta'\n",
    "dicionario_dados['tentat_hom'] = 'Tentativa de homicídio'\n",
    "dicionario_dados['lesao_corp_dolosa'] = 'Lesão corporal dolosa'\n",
    "dicionario_dados['estupro'] = 'Estupro'\n",
    "dicionario_dados['hom_culposo'] = 'Homicídio culposo (trânsito)'\n",
    "dicionario_dados['lesao_corp_culposa'] = 'Lesão corporal culposa (trânsito)'\n",
    "dicionario_dados['roubo_transeunte'] = 'Roubo a transeunte'\n",
    "dicionario_dados['roubo_celular'] = 'Roubo de telefone celular'\n",
    "dicionario_dados['roubo_em_coletivo'] = 'Roubo em coletivo' \n",
    "dicionario_dados['roubo_rua'] = 'Roubo de Rua'\n",
    "dicionario_dados['roubo_veiculo'] = 'Roubo de veículo'\n",
    "dicionario_dados['roubo_carga'] = 'Roubo de carga' \n",
    "dicionario_dados['roubo_comercio'] = 'Roubo a estabelecimento comercial'\n",
    "dicionario_dados['roubo_residencia'] = 'Roubo a residência'\n",
    "dicionario_dados['roubo_banco'] = 'Roubo a banco'\n",
    "dicionario_dados['roubo_cx_eletronico'] = 'Roubo de caixa eletrônico'\n",
    "dicionario_dados['roubo_conducao_saque'] = 'Roubo com condução da vítima para saque em instituição financeira'\n",
    "dicionario_dados['roubo_apos_saque'] = 'Roubo após saque em instituição financeira'\n",
    "dicionario_dados['roubo_bicicleta'] = 'Roubo de bicicleta'\n",
    "dicionario_dados['outros_roubos'] = 'Outros roubos que não os listados acima'\n",
    "dicionario_dados['total_roubos'] = 'Total de roubos'\n",
    "dicionario_dados['furto_veiculos'] = 'Furto de veículo'\n",
    "dicionario_dados['furto_transeunte'] = 'Furto a transeunte'\n",
    "dicionario_dados['furto_coletivo'] = 'Furto em coletivo'\n",
    "dicionario_dados['furto_celular'] = 'Furto de telefone celular'\n",
    "dicionario_dados['furto_bicicleta'] = 'Furto de bicicleta'\n",
    "dicionario_dados['outros_furtos'] = 'Outros furtos que não os listados acima'\n",
    "dicionario_dados['total_furtos'] = 'Total de furtos'\n",
    "dicionario_dados['sequestro'] = 'Extorsão mediante sequestro (sequestro clássico)'\n",
    "dicionario_dados['sequestro_relampago'] = 'Extorsão com momentânea privação da liberdade (sequestro relâmpago)'\n",
    "dicionario_dados['apreensao_drogas'] = 'Apreensão de drogas'\n",
    "dicionario_dados['posse_drogas'] = 'Número de registros que possuem algum título referente a posse de drogas'\n",
    "dicionario_dados['trafico_drogas'] = 'Número de registros que possuem algum título referente a tráfico de drogas' \n",
    "dicionario_dados['apreensao_drogas_sem_autor'] = 'Número de registros que possuem algum título referente a apreensão de drogas sem autor'\n",
    "dicionario_dados['recuperacao_veiculos'] = 'Recuperação de veículo'\n",
    "dicionario_dados['apf'] = 'Auto de Prisão em Flagrante'\n",
    "dicionario_dados['aaapai'] = 'Auto de Apreensão de Adolescente por Prática de Ato Infracional'\n",
    "dicionario_dados['cmp'] = 'Cumprimento de Mandado de Prisão' \n",
    "dicionario_dados['cmba'] = 'Cumprimento de Mandado de Busca e Apreensão'\n",
    "dicionario_dados['ameaca'] = 'Ameaça'\n",
    "dicionario_dados['pessoas_desaparecidas'] = 'Pessoas desaparecidas'\n",
    "dicionario_dados['encontro_cadaver'] = 'Encontro de cadáver'\n",
    "dicionario_dados['encontro_ossada'] = 'Encontro de ossada'\n",
    "dicionario_dados['pol_militares_mortos_serv'] = 'Policiais Militares mortos em serviço'\n",
    "dicionario_dados['pol_civis_mortos_serv'] = 'Policiais Civis mortos em serviço'\n",
    "dicionario_dados['registro_ocorrencias'] = 'Registro de ocorrências'"
   ]
  },
  {
   "cell_type": "code",
   "execution_count": 5,
   "metadata": {},
   "outputs": [
    {
     "data": {
      "text/plain": [
       "(9016, 60)"
      ]
     },
     "execution_count": 5,
     "metadata": {},
     "output_type": "execute_result"
    }
   ],
   "source": [
    "# Verificando a quandidade de linhas e colunas\n",
    "df.shape"
   ]
  },
  {
   "cell_type": "code",
   "execution_count": 6,
   "metadata": {},
   "outputs": [
    {
     "data": {
      "text/plain": [
       "False"
      ]
     },
     "execution_count": 6,
     "metadata": {},
     "output_type": "execute_result"
    }
   ],
   "source": [
    "# Verificando se a valores nulos no dataframe\n",
    "df.isnull().values.any() "
   ]
  },
  {
   "cell_type": "code",
   "execution_count": 38,
   "metadata": {},
   "outputs": [
    {
     "data": {
      "image/png": "[encoded data removed]",
      "text/plain": [
       "<Figure size 432x288 with 1 Axes>"
      ]
     },
     "metadata": {},
     "output_type": "display_data"
    },
    {
     "data": {
      "image/png": "[encoded data removed]",
      "text/plain": [
       "<Figure size 432x288 with 1 Axes>"
      ]
     },
     "metadata": {},
     "output_type": "display_data"
    }
   ],
   "source": [
    "df_att = df.groupby(['ano']).sum()\n",
    "numerical_attributes = ['hom_doloso','tentat_hom']\n",
    "for att in numerical_attributes:\n",
    "    plt.subplot(2,1,2)\n",
    "    df_att[att].plot.box(vert=False)\n",
    "    plt.tight_layout()\n",
    "    plt.show()"
   ]
  },
  {
   "cell_type": "markdown",
   "metadata": {},
   "source": [
    "### Gráfico do Número de Homicídios Dolosos/Ano"
   ]
  },
  {
   "cell_type": "code",
   "execution_count": 46,
   "metadata": {},
   "outputs": [
    {
     "data": {
      "image/png": "[encoded data removed]",
      "text/plain": [
       "<Figure size 720x360 with 1 Axes>"
      ]
     },
     "metadata": {},
     "output_type": "display_data"
    }
   ],
   "source": [
    "df_homicidios_dis = df.groupby(['ano']).sum() #agrupando(ano) e somando os dados\n",
    "plt.style.use('fivethirtyeight')\n",
    "plt.figure(figsize=(10,5))\n",
    "plt.xlabel(\"Qtd Homicídios\", fontsize=15) #rotulo eixo X\n",
    "plt.title(\"Número Total de Homicídios Dolosos no Estado do Rio de Janeiro/RJ\", fontsize=15) #título do gráfico\n",
    "df_homicidios_dis['hom_doloso'].plot.box(vert=False);"
   ]
  },
  {
   "cell_type": "code",
   "execution_count": 24,
   "metadata": {},
   "outputs": [
    {
     "data": {
      "image/png": "[encoded data removed]",
      "text/plain": [
       "<Figure size 720x360 with 1 Axes>"
      ]
     },
     "metadata": {},
     "output_type": "display_data"
    }
   ],
   "source": [
    "df_homicidios = df.groupby(['ano']).sum() #agrupando(ano) e somando os dados\n",
    "df_homicidios.reset_index(inplace=True)\n",
    "indice = np.arange(len(df_homicidios['ano']))\n",
    "\n",
    "plt.style.use('fivethirtyeight')\n",
    "plt.figure(figsize=(10,5))\n",
    "plt.bar(indice, df_homicidios['hom_doloso'])\n",
    "plt.yticks(fontsize=12)\n",
    "plt.xticks(indice, df_homicidios['ano'], fontsize=12,)\n",
    "plt.xlabel(\"Ano\", fontsize=15) #rotulo eixo X\n",
    "plt.ylabel(\"Número de Homicídios\", fontsize=15) #rotulo eixo Y\n",
    "plt.title(\"Número Total de Homicídios Dolosos/Ano no Estado do Rio de Janeiro/RJ\", fontsize=15) #título do gráfico\n",
    "plt.show()"
   ]
  },
  {
   "cell_type": "markdown",
   "metadata": {},
   "source": [
    "### Análise Descritiva Homicídios por Ano - Mensal (Em todo o estado Rio de Janeiro)"
   ]
  },
  {
   "cell_type": "code",
   "execution_count": null,
   "metadata": {},
   "outputs": [],
   "source": [
    "df_homicidios_ano = df[['ano','mes','hom_doloso']]\n",
    "\n",
    "df_homicidios_analise_descritiva = pd.DataFrame(\n",
    "    columns=['2014','2015','2016','2017','2018','2019','2020','2021','2022','2023'], \n",
    "    index=['Total','Média Mensal','Média Diária','Mínimo Mensal','Mediana Mensal','Máximo Mensal','Desvio Padrão'])\n",
    "\n",
    "anos = ['2014','2015','2016','2017','2018','2019','2020','2021','2022','2023']\n",
    "\n",
    "for ano in anos:\n",
    "    df_homicidios_ano_total = df_homicidios_ano.query(f'ano == {ano}')\n",
    "    df_homicidios_ano_group = df_homicidios_ano_total.groupby(['mes']).sum()\n",
    "    df_homicidios_analise_descritiva[f'{ano}'].loc[:1] = round(df_homicidios_ano_group['hom_doloso'].sum(), 2)\n",
    "    df_homicidios_analise_descritiva[f'{ano}'].loc[1:2] = round(df_homicidios_ano_group['hom_doloso'].mean(), 2)\n",
    "    df_homicidios_analise_descritiva[f'{ano}'].loc[2:3] = round(df_homicidios_ano_group['hom_doloso'].mean() / 30, 2) \n",
    "    df_homicidios_analise_descritiva[f'{ano}'].loc[3:4] = round(df_homicidios_ano_group['hom_doloso'].min(), 2)\n",
    "    df_homicidios_analise_descritiva[f'{ano}'].loc[4:5] = round(df_homicidios_ano_group['hom_doloso'].median(), 2)\n",
    "    df_homicidios_analise_descritiva[f'{ano}'].loc[5:6] = round(df_homicidios_ano_group['hom_doloso'].max(), 2)\n",
    "    df_homicidios_analise_descritiva[f'{ano}'].loc[6:7] = round(df_homicidios_ano_group['hom_doloso'].std(), 2)\n",
    "\n",
    "df_homicidios_analise_descritiva"
   ]
  },
  {
   "cell_type": "markdown",
   "metadata": {},
   "source": [
    "###  Homicídios por Região (Em todo o estado Rio de Janeiro)"
   ]
  },
  {
   "cell_type": "code",
   "execution_count": null,
   "metadata": {},
   "outputs": [],
   "source": [
    "df_homicidios_regiao = df[['ano','mes','regiao','hom_doloso']]\n",
    "df_homicidios_regiao_group = df_homicidios_regiao.groupby(['regiao']).sum()\n",
    "df_homicidios_regiao_group.reset_index(inplace=True)\n",
    "indice_homicidios_regiao = np.arange(len(df_homicidios_regiao_group['ano']))\n",
    "\n",
    "plt.style.use('fivethirtyeight')\n",
    "plt.figure(figsize=(10,5))\n",
    "plt.barh(df_homicidios_regiao_group['regiao'],df_homicidios_regiao_group['hom_doloso'])\n",
    "plt.yticks(fontsize=12)\n",
    "plt.xticks(fontsize=12)\n",
    "plt.xlabel(\"Qtd. Homicídios Dolosos\", fontsize=15) #rotulo eixo X\n",
    "plt.ylabel(\"Região\", fontsize=15) #rotulo eixo Y\n",
    "plt.title(\"Número Total de Homicídios Dolosos(2014 - 2022) por Região no Estado do Rio de Janeiro/RJ\", fontsize=15) #título do gráfico\n",
    "plt.show()"
   ]
  },
  {
   "cell_type": "code",
   "execution_count": null,
   "metadata": {},
   "outputs": [],
   "source": [
    "df_homicidios_ano_regiao = df[['ano','mes','regiao','hom_doloso']]\n",
    "df_homicidios_ano_regiao_group = df_homicidios_ano_regiao.groupby(['ano','regiao']).sum()\n",
    "df_homicidios_ano_regiao_group.reset_index(inplace=True)\n",
    "\n",
    "df_homicidios_ano_regiao_interior = df_homicidios_ano_regiao_group.query('regiao == \"Interior\"')\n",
    "df_homicidios_ano_regiao_grandeniteroi = df_homicidios_ano_regiao_group.query('regiao == \"Grande Niterói\"')\n",
    "df_homicidios_ano_regiao_capital = df_homicidios_ano_regiao_group.query('regiao == \"Capital\"')\n",
    "df_homicidios_ano_regiao_baixadafluminense = df_homicidios_ano_regiao_group.query('regiao == \"Baixada Fluminense\"')\n",
    "\n",
    "plt.style.use('fivethirtyeight')\n",
    "plt.figure(figsize=(10,5))\n",
    "plt.plot(df_homicidios_ano_regiao_interior['ano'], df_homicidios_ano_regiao_interior['hom_doloso'])\n",
    "plt.plot(df_homicidios_ano_regiao_grandeniteroi['ano'], df_homicidios_ano_regiao_grandeniteroi['hom_doloso'])\n",
    "plt.plot(df_homicidios_ano_regiao_capital['ano'], df_homicidios_ano_regiao_capital['hom_doloso'])\n",
    "plt.plot(df_homicidios_ano_regiao_baixadafluminense['ano'], df_homicidios_ano_regiao_baixadafluminense['hom_doloso'])\n",
    "plt.legend(['Interior','Grande Niteroi','Capital','Baixada Fluminense'])\n",
    "plt.yticks(fontsize=12)\n",
    "plt.xticks(fontsize=12)\n",
    "plt.xlabel(\"Ano\", fontsize=15) #rotulo eixo X\n",
    "plt.ylabel(\"Qtd. Homicídios Dolosos\", fontsize=15) #rotulo eixo Y\n",
    "plt.title(\"Número Total de Homicídios Dolosos(Ano) por Região no Estado do Rio de Janeiro/RJ\", fontsize=15) #título do gráfico\n",
    "plt.show()\n"
   ]
  },
  {
   "cell_type": "markdown",
   "metadata": {},
   "source": [
    "### Homicídios por Municípios (Em todo o estado Rio de Janeiro)\n",
    "\n",
    "#### OBS.: graficos feitos com os 10 maiores municípios por população\n",
    "\n",
    "<span style=\"color:green\"> **Site: https://pt.wikipedia.org/wiki/Lista_de_munic%C3%ADpios_do_Rio_de_Janeiro_por_popula%C3%A7%C3%A3o** </span>"
   ]
  },
  {
   "cell_type": "code",
   "execution_count": null,
   "metadata": {},
   "outputs": [],
   "source": [
    "df_homicidios_ano_municipios = df[['ano','fmun','hom_doloso']]\n",
    "df_homicidios_ano_municipios_group = df_homicidios_ano_municipios.groupby(['ano','fmun']).sum()\n",
    "df_homicidios_ano_municipios_group.reset_index(inplace=True)\n",
    "df_homicidios_ano_municipios_group_riodejaneiro = df_homicidios_ano_municipios_group.query('fmun == \"Rio de Janeiro\"')\n",
    "df_homicidios_ano_municipios_group_saogoncalo = df_homicidios_ano_municipios_group.query('fmun == \"São Gonçalo\"')\n",
    "df_homicidios_ano_municipios_group_duquedecaxias = df_homicidios_ano_municipios_group.query('fmun == \"Duque de Caxias\"')\n",
    "df_homicidios_ano_municipios_group_novaiguacu = df_homicidios_ano_municipios_group.query('fmun == \"Nova Iguaçu\"')\n",
    "df_homicidios_ano_municipios_group_niteroi = df_homicidios_ano_municipios_group.query('fmun == \"Niterói\"')\n",
    "df_homicidios_ano_municipios_group_belfordroxo = df_homicidios_ano_municipios_group.query('fmun == \"Belford Roxo\"')\n",
    "df_homicidios_ano_municipios_group_camposdosgoytacazes = df_homicidios_ano_municipios_group.query('fmun == \"Campos dos Goytacazes\"')\n",
    "df_homicidios_ano_municipios_group_saojoaodemeriti = df_homicidios_ano_municipios_group.query('fmun == \"São João de Meriti\"')\n",
    "df_homicidios_ano_municipios_group_petropolis = df_homicidios_ano_municipios_group.query('fmun == \"Petrópolis\"')\n",
    "\n",
    "\n",
    "plt.style.use('fivethirtyeight')\n",
    "plt.figure(figsize=(10,5))\n",
    "plt.plot(df_homicidios_ano_municipios_group_riodejaneiro['ano'], df_homicidios_ano_municipios_group_riodejaneiro['hom_doloso'])\n",
    "plt.plot(df_homicidios_ano_municipios_group_saogoncalo['ano'], df_homicidios_ano_municipios_group_saogoncalo['hom_doloso'])\n",
    "plt.plot(df_homicidios_ano_municipios_group_duquedecaxias['ano'], df_homicidios_ano_municipios_group_duquedecaxias['hom_doloso'])\n",
    "plt.plot(df_homicidios_ano_municipios_group_novaiguacu['ano'], df_homicidios_ano_municipios_group_novaiguacu['hom_doloso'])\n",
    "plt.plot(df_homicidios_ano_municipios_group_niteroi['ano'], df_homicidios_ano_municipios_group_niteroi['hom_doloso'])\n",
    "plt.plot(df_homicidios_ano_municipios_group_belfordroxo['ano'], df_homicidios_ano_municipios_group_belfordroxo['hom_doloso'])\n",
    "plt.plot(df_homicidios_ano_municipios_group_camposdosgoytacazes['ano'], df_homicidios_ano_municipios_group_camposdosgoytacazes['hom_doloso'])\n",
    "plt.plot(df_homicidios_ano_municipios_group_saojoaodemeriti['ano'], df_homicidios_ano_municipios_group_saojoaodemeriti['hom_doloso'])\n",
    "plt.plot(df_homicidios_ano_municipios_group_petropolis['ano'], df_homicidios_ano_municipios_group_petropolis['hom_doloso'])\n",
    "\n",
    "plt.legend(['Rio de Janeiro','São Gonçalo','Duque de Caxias','Nova Iguaçu','Niterói','Belford Roxo','Campos dos Goytacazes',\n",
    "            'São João de Meriti','Petrópolis'], \n",
    "                bbox_to_anchor=(1.05, 1),\n",
    "                loc='upper left', \n",
    "                borderaxespad=0.)\n",
    "plt.yticks(fontsize=12)\n",
    "plt.xticks(fontsize=12)\n",
    "plt.xlabel(\"Ano\", fontsize=15) #rotulo eixo X\n",
    "plt.ylabel(\"Qtd. Homicídios Dolosos\", fontsize=15) #rotulo eixo Y\n",
    "plt.title(\"Número Total de Homicídios Dolosos(Ano) por Município no Estado do Rio de Janeiro/RJ\", fontsize=15) #título do gráfico\n",
    "plt.show()"
   ]
  },
  {
   "cell_type": "markdown",
   "metadata": {},
   "source": [
    "### Correlação entre Homicídio Doloso e tentativa de Homicídio no Estado do Rio de Janeiro"
   ]
  },
  {
   "cell_type": "code",
   "execution_count": null,
   "metadata": {},
   "outputs": [],
   "source": [
    "correlacao_homicidio = df[['ano','hom_doloso','tentat_hom']]\n",
    "correlacao_homicidio_group = correlacao_homicidio.groupby(['ano']).sum()\n",
    "corr = correlacao_homicidio_group.corr()\n",
    "corr.style.background_gradient(cmap='coolwarm')"
   ]
  },
  {
   "cell_type": "code",
   "execution_count": null,
   "metadata": {},
   "outputs": [],
   "source": [
    "\n",
    "plt.style.use('fivethirtyeight')\n",
    "plt.figure(figsize=(10,5))\n",
    "plt.scatter(correlacao_homicidio['hom_doloso'], correlacao_homicidio['tentat_hom'])\n",
    "plt.yticks(fontsize=12)\n",
    "plt.xticks(fontsize=12)\n",
    "plt.xlabel(\"Qtd. Homicídios Dolosos\", fontsize=15) #rotulo eixo X\n",
    "plt.ylabel(\"Qtd. Tentativas de Homicídios\", fontsize=15) #rotulo eixo Y\n",
    "plt.title(\"Homicídios Dolosos x Tentativas de Homicídios\", fontsize=15) #título do gráfico\n",
    "plt.show()"
   ]
  },
  {
   "cell_type": "markdown",
   "metadata": {},
   "source": [
    "### Gráfico do Número de Homicídios Culposo(Trânsito)/Ano"
   ]
  },
  {
   "cell_type": "code",
   "execution_count": null,
   "metadata": {},
   "outputs": [],
   "source": [
    "df_homicidios_culposo = df.groupby(['ano']).sum() #agrupando(ano) e somando os dados\n",
    "df_homicidios_culposo.reset_index(inplace=True)\n",
    "indice = np.arange(len(df_homicidios_culposo['ano']))\n",
    "\n",
    "plt.style.use('fivethirtyeight')\n",
    "plt.figure(figsize=(10,5))\n",
    "plt.bar(indice, df_homicidios_culposo['hom_culposo'])\n",
    "plt.yticks(fontsize=12)\n",
    "plt.xticks(indice, df_homicidios['ano'], fontsize=12,)\n",
    "plt.xlabel(\"Ano\", fontsize=15) #rotulo eixo X\n",
    "plt.ylabel(\"Número de Homicídios Culposos(Trânsito)\", fontsize=15) #rotulo eixo Y\n",
    "plt.title(\"Número Total de Homicídios Culposos(Trânsito)/Ano no Estado do Rio de Janeiro/RJ\", fontsize=15) #título do gráfico\n",
    "plt.show()"
   ]
  },
  {
   "cell_type": "markdown",
   "metadata": {},
   "source": [
    "### Análise Descritiva Homicídios Culposos por Ano - Mensal (Em todo o estado Rio de Janeiro)"
   ]
  },
  {
   "cell_type": "code",
   "execution_count": null,
   "metadata": {},
   "outputs": [],
   "source": [
    "df_homicidios_culposo_ano = df[['ano','mes','hom_culposo']]\n",
    "\n",
    "df_homicidios_culposo_analise_descritiva = pd.DataFrame(\n",
    "    columns=['2014','2015','2016','2017','2018','2019','2020','2021','2022','2023'], \n",
    "    index=['Total','Média Mensal','Média Diária','Mínimo Mensal','Mediana Mensal','Máximo Mensal','Desvio Padrão'])\n",
    "\n",
    "anos = ['2014','2015','2016','2017','2018','2019','2020','2021','2022','2023']\n",
    "\n",
    "for ano in anos:\n",
    "    df_homicidios_culposo_ano_total = df_homicidios_culposo_ano.query(f'ano == {ano}')\n",
    "    df_homicidios_culposo_ano_group = df_homicidios_culposo_ano_total.groupby(['mes']).sum()\n",
    "    df_homicidios_culposo_analise_descritiva[f'{ano}'].loc[:1] = round(df_homicidios_culposo_ano_group['hom_culposo'].sum(), 2)\n",
    "    df_homicidios_culposo_analise_descritiva[f'{ano}'].loc[1:2] = round(df_homicidios_culposo_ano_group['hom_culposo'].mean(), 2)\n",
    "    df_homicidios_culposo_analise_descritiva[f'{ano}'].loc[2:3] = round(df_homicidios_culposo_ano_group['hom_culposo'].mean() / 30, 2) \n",
    "    df_homicidios_culposo_analise_descritiva[f'{ano}'].loc[3:4] = round(df_homicidios_culposo_ano_group['hom_culposo'].min(), 2)\n",
    "    df_homicidios_culposo_analise_descritiva[f'{ano}'].loc[4:5] = round(df_homicidios_culposo_ano_group['hom_culposo'].median(), 2)\n",
    "    df_homicidios_culposo_analise_descritiva[f'{ano}'].loc[5:6] = round(df_homicidios_culposo_ano_group['hom_culposo'].max(), 2)\n",
    "    df_homicidios_culposo_analise_descritiva[f'{ano}'].loc[6:7] = round(df_homicidios_culposo_ano_group['hom_culposo'].std(), 2)\n",
    "\n",
    "df_homicidios_culposo_analise_descritiva"
   ]
  }
 ],
 "metadata": {
  "kernelspec": {
   "display_name": "Python 3.10.5 ('cap04': venv)",
   "language": "python",
   "name": "python3"
  },
  "language_info": {
   "codemirror_mode": {
    "name": "ipython",
    "version": 3
   },
   "file_extension": ".py",
   "mimetype": "text/x-python",
   "name": "python",
   "nbconvert_exporter": "python",
   "pygments_lexer": "ipython3",
   "version": "3.10.5"
  },
  "orig_nbformat": 4,
  "vscode": {
   "interpreter": {
    "hash": "1566139f0a0f5612f3ca65973feb8f24d5cefb27aa18dce5704174923e1c4d01"
   }
  }
 },
 "nbformat": 4,
 "nbformat_minor": 2
}
