{
 "cells": [
  {
   "cell_type": "markdown",
   "metadata": {},
   "source": [
    "# Dados dos Preços do GLP*"
   ]
  },
  {
   "cell_type": "markdown",
   "metadata": {},
   "source": [
    "##### *Gás liquefeito de petróleo"
   ]
  },
  {
   "cell_type": "markdown",
   "metadata": {},
   "source": [
    "### Bibliotecas Utilizadas:"
   ]
  },
  {
   "cell_type": "code",
   "execution_count": 1,
   "metadata": {},
   "outputs": [
    {
     "name": "stdout",
     "output_type": "stream",
     "text": [
      "Python: 3.10.4 (tags/v3.10.4:9d38120, Mar 23 2022, 23:13:41) [MSC v.1929 64 bit (AMD64)]\n",
      "Pandas: 1.4.2\n"
     ]
    }
   ],
   "source": [
    "import sys\n",
    "import pandas as pd\n",
    "import matplotlib.pyplot as plt\n",
    "import seaborn as sns\n",
    "\n",
    "# Versões\n",
    "print('Python:', sys.version)\n",
    "print('Pandas:', pd.__version__)"
   ]
  },
  {
   "cell_type": "markdown",
   "metadata": {},
   "source": [
    "### Carregando a base de dados:"
   ]
  },
  {
   "cell_type": "code",
   "execution_count": 3,
   "metadata": {},
   "outputs": [],
   "source": [
    "df_01 = pd.read_csv('https://www.gov.br/anp/pt-br/centrais-de-conteudo/dados-abertos/arquivos/shpc/dsan/2022/precos-glp-01.csv', sep=';')\n",
    "df_02 = pd.read_csv('https://www.gov.br/anp/pt-br/centrais-de-conteudo/dados-abertos/arquivos/shpc/dsan/2022/precos-glp-02.csv', sep=';')\n",
    "df_03 = pd.read_csv('https://www.gov.br/anp/pt-br/centrais-de-conteudo/dados-abertos/arquivos/shpc/dsan/2022/precos-glp-03.csv', sep=';')\n",
    "df_04 = pd.read_csv('https://www.gov.br/anp/pt-br/centrais-de-conteudo/dados-abertos/arquivos/shpc/dsan/2022/precos-glp-04.csv', sep=';')\n",
    "\n",
    "'''\n",
    "df_01 = representa o mês de janeiro de 2022\n",
    "df_02 = representa o mês de fevereiro de 2022\n",
    "df_03 = representa o mês de março de 2022\n",
    "df_04 = representa o mês de abril de 2022\n",
    "'''"
   ]
  },
  {
   "cell_type": "markdown",
   "metadata": {},
   "source": [
    "### Análise do mês de janeiro de 2022"
   ]
  },
  {
   "cell_type": "code",
   "execution_count": 6,
   "metadata": {},
   "outputs": [
    {
     "data": {
      "text/html": [
       "<div>\n",
       "<style scoped>\n",
       "    .dataframe tbody tr th:only-of-type {\n",
       "        vertical-align: middle;\n",
       "    }\n",
       "\n",
       "    .dataframe tbody tr th {\n",
       "        vertical-align: top;\n",
       "    }\n",
       "\n",
       "    .dataframe thead th {\n",
       "        text-align: right;\n",
       "    }\n",
       "</style>\n",
       "<table border=\"1\" class=\"dataframe\">\n",
       "  <thead>\n",
       "    <tr style=\"text-align: right;\">\n",
       "      <th></th>\n",
       "      <th>Regiao - Sigla</th>\n",
       "      <th>Estado - Sigla</th>\n",
       "      <th>Municipio</th>\n",
       "      <th>Produto</th>\n",
       "      <th>Data da Coleta</th>\n",
       "      <th>Valor de Venda</th>\n",
       "      <th>Unidade de Medida</th>\n",
       "      <th>Bandeira</th>\n",
       "    </tr>\n",
       "  </thead>\n",
       "  <tbody>\n",
       "    <tr>\n",
       "      <th>0</th>\n",
       "      <td>SE</td>\n",
       "      <td>SP</td>\n",
       "      <td>SAO VICENTE</td>\n",
       "      <td>GLP</td>\n",
       "      <td>03/01/2022</td>\n",
       "      <td>97,99</td>\n",
       "      <td>R$ / 13 kg</td>\n",
       "      <td>CONSIGAZ</td>\n",
       "    </tr>\n",
       "    <tr>\n",
       "      <th>1</th>\n",
       "      <td>N</td>\n",
       "      <td>AC</td>\n",
       "      <td>RIO BRANCO</td>\n",
       "      <td>GLP</td>\n",
       "      <td>03/01/2022</td>\n",
       "      <td>115</td>\n",
       "      <td>R$ / 13 kg</td>\n",
       "      <td>FOGAS</td>\n",
       "    </tr>\n",
       "    <tr>\n",
       "      <th>2</th>\n",
       "      <td>N</td>\n",
       "      <td>AC</td>\n",
       "      <td>RIO BRANCO</td>\n",
       "      <td>GLP</td>\n",
       "      <td>03/01/2022</td>\n",
       "      <td>110</td>\n",
       "      <td>R$ / 13 kg</td>\n",
       "      <td>AMAZONGÁS</td>\n",
       "    </tr>\n",
       "    <tr>\n",
       "      <th>3</th>\n",
       "      <td>N</td>\n",
       "      <td>AC</td>\n",
       "      <td>RIO BRANCO</td>\n",
       "      <td>GLP</td>\n",
       "      <td>03/01/2022</td>\n",
       "      <td>115</td>\n",
       "      <td>R$ / 13 kg</td>\n",
       "      <td>AMAZONGÁS</td>\n",
       "    </tr>\n",
       "    <tr>\n",
       "      <th>4</th>\n",
       "      <td>N</td>\n",
       "      <td>AC</td>\n",
       "      <td>RIO BRANCO</td>\n",
       "      <td>GLP</td>\n",
       "      <td>03/01/2022</td>\n",
       "      <td>115</td>\n",
       "      <td>R$ / 13 kg</td>\n",
       "      <td>AMAZONGÁS</td>\n",
       "    </tr>\n",
       "  </tbody>\n",
       "</table>\n",
       "</div>"
      ],
      "text/plain": [
       "  Regiao - Sigla Estado - Sigla    Municipio Produto Data da Coleta  \\\n",
       "0             SE             SP  SAO VICENTE     GLP     03/01/2022   \n",
       "1              N             AC   RIO BRANCO     GLP     03/01/2022   \n",
       "2              N             AC   RIO BRANCO     GLP     03/01/2022   \n",
       "3              N             AC   RIO BRANCO     GLP     03/01/2022   \n",
       "4              N             AC   RIO BRANCO     GLP     03/01/2022   \n",
       "\n",
       "  Valor de Venda Unidade de Medida   Bandeira  \n",
       "0          97,99        R$ / 13 kg   CONSIGAZ  \n",
       "1            115        R$ / 13 kg      FOGAS  \n",
       "2            110        R$ / 13 kg  AMAZONGÁS  \n",
       "3            115        R$ / 13 kg  AMAZONGÁS  \n",
       "4            115        R$ / 13 kg  AMAZONGÁS  "
      ]
     },
     "execution_count": 6,
     "metadata": {},
     "output_type": "execute_result"
    }
   ],
   "source": [
    "# Eliminando algumas colunas\n",
    "df_01.drop(['Revenda',\n",
    "           'CNPJ da Revenda',\n",
    "           'Nome da Rua','Numero Rua',\n",
    "           'Complemento',\n",
    "           'Bairro',\n",
    "           'Cep',\n",
    "           'Valor de Compra'], axis=1, inplace=True)\n",
    "df_01.head()           "
   ]
  },
  {
   "cell_type": "code",
   "execution_count": 7,
   "metadata": {},
   "outputs": [
    {
     "data": {
      "text/plain": [
       "Index(['Regiao - Sigla', 'Estado - Sigla', 'Municipio', 'Produto',\n",
       "       'Data da Coleta', 'Valor de Venda', 'Unidade de Medida', 'Bandeira'],\n",
       "      dtype='object')"
      ]
     },
     "execution_count": 7,
     "metadata": {},
     "output_type": "execute_result"
    }
   ],
   "source": [
    "# Verificando o nome das colunas\n",
    "df_01.columns"
   ]
  },
  {
   "cell_type": "code",
   "execution_count": 8,
   "metadata": {},
   "outputs": [
    {
     "data": {
      "text/plain": [
       "(15161, 8)"
      ]
     },
     "execution_count": 8,
     "metadata": {},
     "output_type": "execute_result"
    }
   ],
   "source": [
    "# Verificando o tamanho do DataFrame(linhas x colunas)\n",
    "df_01.shape"
   ]
  },
  {
   "cell_type": "code",
   "execution_count": 20,
   "metadata": {},
   "outputs": [
    {
     "name": "stdout",
     "output_type": "stream",
     "text": [
      "Regiao - Sigla       object\n",
      "Estado - Sigla       object\n",
      "Municipio            object\n",
      "Produto              object\n",
      "Data da Coleta       object\n",
      "Valor de Venda       object\n",
      "Unidade de Medida    object\n",
      "Bandeira             object\n",
      "dtype: object\n",
      "-----\n",
      "Regiao - Sigla        object\n",
      "Estado - Sigla        object\n",
      "Municipio             object\n",
      "Produto               object\n",
      "Data da Coleta        object\n",
      "Valor de Venda       float64\n",
      "Unidade de Medida     object\n",
      "Bandeira              object\n",
      "dtype: object\n"
     ]
    }
   ],
   "source": [
    "# Tipo dos dados das colunas\n",
    "print(df_01.dtypes)\n",
    "\n",
    "df_01['Valor de Venda'] = df_01['Valor de Venda'].str.replace(',','.') # Alterando de virgula para ponto\n",
    "df_01['Valor de Venda'] = df_01['Valor de Venda'].apply(pd.to_numeric) # Alterando o tipo da coluna \n",
    "\n",
    "print('-----')\n",
    "print(df_01.dtypes)"
   ]
  },
  {
   "cell_type": "markdown",
   "metadata": {},
   "source": [
    "#### Agrupando os dados por região e calculando a média"
   ]
  }
 ],
 "metadata": {
  "interpreter": {
   "hash": "027a342a3963cf1d88171445b94f526678796bcee31b62d4862c1cbd664401bb"
  },
  "kernelspec": {
   "display_name": "Python 3.10.4 ('AED': venv)",
   "language": "python",
   "name": "python3"
  },
  "language_info": {
   "codemirror_mode": {
    "name": "ipython",
    "version": 3
   },
   "file_extension": ".py",
   "mimetype": "text/x-python",
   "name": "python",
   "nbconvert_exporter": "python",
   "pygments_lexer": "ipython3",
   "version": "3.10.4"
  },
  "orig_nbformat": 4
 },
 "nbformat": 4,
 "nbformat_minor": 2
}
