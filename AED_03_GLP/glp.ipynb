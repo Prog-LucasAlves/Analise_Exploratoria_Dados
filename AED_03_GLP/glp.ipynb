{
 "cells": [
  {
   "cell_type": "markdown",
   "metadata": {},
   "source": [
    "# Dados dos Preços do GLP*"
   ]
  },
  {
   "cell_type": "markdown",
   "metadata": {},
   "source": [
    "##### *Gás liquefeito de petróleo"
   ]
  },
  {
   "cell_type": "markdown",
   "metadata": {},
   "source": [
    "### Bibliotecas Utilizadas:"
   ]
  },
  {
   "cell_type": "code",
   "execution_count": 1,
   "metadata": {},
   "outputs": [],
   "source": [
    "# Manipulação de Dados\n",
    "import pandas as pd\n",
    "\n",
    "# Visualização\n",
    "import matplotlib.pyplot as plt\n",
    "import seaborn as sns\n",
    "\n",
    "# Manipulação de arquivos\n",
    "import glob\n",
    "\n",
    "# Ignore Warning\n",
    "import sys\n",
    "import warnings\n",
    "warnings.filterwarnings(\"ignore\")"
   ]
  },
  {
   "cell_type": "code",
   "execution_count": 2,
   "metadata": {},
   "outputs": [
    {
     "name": "stdout",
     "output_type": "stream",
     "text": [
      "Author: RH\n",
      "\n",
      "matplotlib: 3.5.1\n",
      "seaborn   : 0.11.2\n",
      "sys       : 3.10.5 (tags/v3.10.5:f377153, Jun  6 2022, 16:14:13) [MSC v.1929 64 bit (AMD64)]\n",
      "pandas    : 1.4.2\n",
      "\n"
     ]
    }
   ],
   "source": [
    "# Versões dos pacotes utilizados\n",
    "%reload_ext watermark\n",
    "%watermark -a 'RH' --iversions"
   ]
  },
  {
   "cell_type": "code",
   "execution_count": 3,
   "metadata": {},
   "outputs": [],
   "source": [
    "font_title = {'family': 'serif',\n",
    "              'color':  'darkred',\n",
    "              'weight': 'normal',\n",
    "              'size': 16,\n",
    "              }\n",
    "font_xlabel = {'family': 'serif',\n",
    "              'color':  'black',\n",
    "              'weight': 'normal',\n",
    "              'size': 14,\n",
    "              }\n",
    "font_ylabel = {'family': 'serif',\n",
    "              'color':  'black',\n",
    "              'weight': 'normal',\n",
    "              'size': 14,\n",
    "              }                            "
   ]
  },
  {
   "cell_type": "markdown",
   "metadata": {},
   "source": [
    "### Coletando e salvando os dados:"
   ]
  },
  {
   "cell_type": "code",
   "execution_count": 4,
   "metadata": {},
   "outputs": [],
   "source": [
    "df_01 = pd.read_csv('https://www.gov.br/anp/pt-br/centrais-de-conteudo/dados-abertos/arquivos/shpc/dsan/2022/precos-glp-01.csv', sep=';')\n",
    "df_01.to_csv('./data/JAN-2022.csv', sep=';')\n",
    "df_02 = pd.read_csv('https://www.gov.br/anp/pt-br/centrais-de-conteudo/dados-abertos/arquivos/shpc/dsan/2022/precos-glp-02.csv', sep=';')\n",
    "df_02.to_csv('./data/FEV-2022.csv', sep=';')\n",
    "df_03 = pd.read_csv('https://www.gov.br/anp/pt-br/centrais-de-conteudo/dados-abertos/arquivos/shpc/dsan/2022/precos-glp-03.csv', sep=';')\n",
    "df_03.to_csv('./data/MAR-2022.csv', sep=';')\n",
    "df_04 = pd.read_csv('https://www.gov.br/anp/pt-br/centrais-de-conteudo/dados-abertos/arquivos/shpc/dsan/2022/precos-glp-04.csv', sep=';')\n",
    "df_04.to_csv('./data/ABR-2022.csv', sep=';')\n",
    "\n",
    "\n",
    "# df_01 = representa o mês de janeiro de 2022\n",
    "# df_02 = representa o mês de fevereiro de 2022\n",
    "# df_03 = representa o mês de março de 2022\n",
    "# df_04 = representa o mês de abril de 2022"
   ]
  },
  {
   "cell_type": "markdown",
   "metadata": {},
   "source": [
    "### Carregando a base de dados:"
   ]
  },
  {
   "cell_type": "code",
   "execution_count": 5,
   "metadata": {},
   "outputs": [],
   "source": [
    "# Unindo os dados dos meses de 2022(Até Abril), em apenas um DataFrame\n",
    "extensao = 'csv'\n",
    "\n",
    "arquivos_csv = [i for i in glob.glob(f'./data/*.{extensao}')]\n",
    "data_glp = pd.concat([pd.read_csv(f, sep=';') for f in arquivos_csv])"
   ]
  },
  {
   "cell_type": "code",
   "execution_count": 6,
   "metadata": {},
   "outputs": [
    {
     "data": {
      "text/html": [
       "<div>\n",
       "<style scoped>\n",
       "    .dataframe tbody tr th:only-of-type {\n",
       "        vertical-align: middle;\n",
       "    }\n",
       "\n",
       "    .dataframe tbody tr th {\n",
       "        vertical-align: top;\n",
       "    }\n",
       "\n",
       "    .dataframe thead th {\n",
       "        text-align: right;\n",
       "    }\n",
       "</style>\n",
       "<table border=\"1\" class=\"dataframe\">\n",
       "  <thead>\n",
       "    <tr style=\"text-align: right;\">\n",
       "      <th></th>\n",
       "      <th>Regiao - Sigla</th>\n",
       "      <th>Estado - Sigla</th>\n",
       "      <th>Municipio</th>\n",
       "      <th>Produto</th>\n",
       "      <th>Data da Coleta</th>\n",
       "      <th>Valor de Venda</th>\n",
       "      <th>Unidade de Medida</th>\n",
       "      <th>Bandeira</th>\n",
       "    </tr>\n",
       "  </thead>\n",
       "  <tbody>\n",
       "    <tr>\n",
       "      <th>0</th>\n",
       "      <td>S</td>\n",
       "      <td>SC</td>\n",
       "      <td>JARAGUA DO SUL</td>\n",
       "      <td>GLP</td>\n",
       "      <td>01/04/2022</td>\n",
       "      <td>114,99</td>\n",
       "      <td>R$ / 13 kg</td>\n",
       "      <td>NACIONAL GÁS BUTANO</td>\n",
       "    </tr>\n",
       "    <tr>\n",
       "      <th>1</th>\n",
       "      <td>S</td>\n",
       "      <td>SC</td>\n",
       "      <td>JARAGUA DO SUL</td>\n",
       "      <td>GLP</td>\n",
       "      <td>01/04/2022</td>\n",
       "      <td>114,99</td>\n",
       "      <td>R$ / 13 kg</td>\n",
       "      <td>ULTRAGAZ</td>\n",
       "    </tr>\n",
       "    <tr>\n",
       "      <th>2</th>\n",
       "      <td>S</td>\n",
       "      <td>SC</td>\n",
       "      <td>JARAGUA DO SUL</td>\n",
       "      <td>GLP</td>\n",
       "      <td>01/04/2022</td>\n",
       "      <td>114,99</td>\n",
       "      <td>R$ / 13 kg</td>\n",
       "      <td>NACIONAL GÁS BUTANO</td>\n",
       "    </tr>\n",
       "    <tr>\n",
       "      <th>3</th>\n",
       "      <td>SE</td>\n",
       "      <td>SP</td>\n",
       "      <td>SERTAOZINHO</td>\n",
       "      <td>GLP</td>\n",
       "      <td>01/04/2022</td>\n",
       "      <td>115</td>\n",
       "      <td>R$ / 13 kg</td>\n",
       "      <td>ULTRAGAZ</td>\n",
       "    </tr>\n",
       "    <tr>\n",
       "      <th>4</th>\n",
       "      <td>SE</td>\n",
       "      <td>SP</td>\n",
       "      <td>BIRIGUI</td>\n",
       "      <td>GLP</td>\n",
       "      <td>01/04/2022</td>\n",
       "      <td>113</td>\n",
       "      <td>R$ / 13 kg</td>\n",
       "      <td>SUPERGASBRAS ENERGIA</td>\n",
       "    </tr>\n",
       "  </tbody>\n",
       "</table>\n",
       "</div>"
      ],
      "text/plain": [
       "  Regiao - Sigla Estado - Sigla       Municipio Produto Data da Coleta  \\\n",
       "0              S             SC  JARAGUA DO SUL     GLP     01/04/2022   \n",
       "1              S             SC  JARAGUA DO SUL     GLP     01/04/2022   \n",
       "2              S             SC  JARAGUA DO SUL     GLP     01/04/2022   \n",
       "3             SE             SP     SERTAOZINHO     GLP     01/04/2022   \n",
       "4             SE             SP         BIRIGUI     GLP     01/04/2022   \n",
       "\n",
       "  Valor de Venda Unidade de Medida              Bandeira  \n",
       "0         114,99        R$ / 13 kg   NACIONAL GÁS BUTANO  \n",
       "1         114,99        R$ / 13 kg              ULTRAGAZ  \n",
       "2         114,99        R$ / 13 kg   NACIONAL GÁS BUTANO  \n",
       "3            115        R$ / 13 kg              ULTRAGAZ  \n",
       "4            113        R$ / 13 kg  SUPERGASBRAS ENERGIA  "
      ]
     },
     "execution_count": 6,
     "metadata": {},
     "output_type": "execute_result"
    }
   ],
   "source": [
    "# Eliminando algumas colunas\n",
    "data_glp.drop(['Revenda',\n",
    "           'Unnamed: 0',\n",
    "           'CNPJ da Revenda',\n",
    "           'Nome da Rua','Numero Rua',\n",
    "           'Complemento',\n",
    "           'Bairro',\n",
    "           'Cep',\n",
    "           'Valor de Compra'], axis=1, inplace=True)\n",
    "        \n",
    "data_glp.head()           "
   ]
  },
  {
   "cell_type": "code",
   "execution_count": 7,
   "metadata": {},
   "outputs": [
    {
     "data": {
      "text/plain": [
       "Index(['Regiao - Sigla', 'Estado - Sigla', 'Municipio', 'Produto',\n",
       "       'Data da Coleta', 'Valor de Venda', 'Unidade de Medida', 'Bandeira'],\n",
       "      dtype='object')"
      ]
     },
     "execution_count": 7,
     "metadata": {},
     "output_type": "execute_result"
    }
   ],
   "source": [
    "# Verificando o nome das colunas\n",
    "data_glp.columns"
   ]
  },
  {
   "cell_type": "code",
   "execution_count": 8,
   "metadata": {},
   "outputs": [
    {
     "data": {
      "text/plain": [
       "(63873, 8)"
      ]
     },
     "execution_count": 8,
     "metadata": {},
     "output_type": "execute_result"
    }
   ],
   "source": [
    "# Verificando o tamanho do DataFrame(linhas x colunas)\n",
    "data_glp.shape"
   ]
  },
  {
   "cell_type": "code",
   "execution_count": 9,
   "metadata": {},
   "outputs": [
    {
     "name": "stdout",
     "output_type": "stream",
     "text": [
      "Regiao - Sigla       object\n",
      "Estado - Sigla       object\n",
      "Municipio            object\n",
      "Produto              object\n",
      "Data da Coleta       object\n",
      "Valor de Venda       object\n",
      "Unidade de Medida    object\n",
      "Bandeira             object\n",
      "dtype: object\n",
      "-----\n",
      "Regiao - Sigla        object\n",
      "Estado - Sigla        object\n",
      "Municipio             object\n",
      "Produto               object\n",
      "Data da Coleta        object\n",
      "Valor de Venda       float64\n",
      "Unidade de Medida     object\n",
      "Bandeira              object\n",
      "dtype: object\n"
     ]
    }
   ],
   "source": [
    "# Tipo dos dados das colunas\n",
    "print(data_glp.dtypes)\n",
    "\n",
    "data_glp['Valor de Venda'] = data_glp['Valor de Venda'].str.replace(',','.') # Alterando de virgula para ponto\n",
    "data_glp['Valor de Venda'] = data_glp['Valor de Venda'].apply(pd.to_numeric) # Alterando o tipo da coluna \n",
    "\n",
    "print('-----')\n",
    "print(data_glp.dtypes)"
   ]
  },
  {
   "cell_type": "markdown",
   "metadata": {},
   "source": [
    "### Verificando a Distribuição da Variável - Valor de Venda"
   ]
  },
  {
   "cell_type": "code",
   "execution_count": 10,
   "metadata": {},
   "outputs": [
    {
     "data": {
      "text/html": [
       "<div>\n",
       "<style scoped>\n",
       "    .dataframe tbody tr th:only-of-type {\n",
       "        vertical-align: middle;\n",
       "    }\n",
       "\n",
       "    .dataframe tbody tr th {\n",
       "        vertical-align: top;\n",
       "    }\n",
       "\n",
       "    .dataframe thead th {\n",
       "        text-align: right;\n",
       "    }\n",
       "</style>\n",
       "<table border=\"1\" class=\"dataframe\">\n",
       "  <thead>\n",
       "    <tr style=\"text-align: right;\">\n",
       "      <th></th>\n",
       "      <th>Valor de Venda</th>\n",
       "    </tr>\n",
       "  </thead>\n",
       "  <tbody>\n",
       "    <tr>\n",
       "      <th>count</th>\n",
       "      <td>63873.000000</td>\n",
       "    </tr>\n",
       "    <tr>\n",
       "      <th>mean</th>\n",
       "      <td>108.185146</td>\n",
       "    </tr>\n",
       "    <tr>\n",
       "      <th>std</th>\n",
       "      <td>10.938520</td>\n",
       "    </tr>\n",
       "    <tr>\n",
       "      <th>min</th>\n",
       "      <td>78.000000</td>\n",
       "    </tr>\n",
       "    <tr>\n",
       "      <th>25%</th>\n",
       "      <td>100.000000</td>\n",
       "    </tr>\n",
       "    <tr>\n",
       "      <th>50%</th>\n",
       "      <td>108.000000</td>\n",
       "    </tr>\n",
       "    <tr>\n",
       "      <th>75%</th>\n",
       "      <td>115.000000</td>\n",
       "    </tr>\n",
       "    <tr>\n",
       "      <th>max</th>\n",
       "      <td>160.000000</td>\n",
       "    </tr>\n",
       "  </tbody>\n",
       "</table>\n",
       "</div>"
      ],
      "text/plain": [
       "       Valor de Venda\n",
       "count    63873.000000\n",
       "mean       108.185146\n",
       "std         10.938520\n",
       "min         78.000000\n",
       "25%        100.000000\n",
       "50%        108.000000\n",
       "75%        115.000000\n",
       "max        160.000000"
      ]
     },
     "execution_count": 10,
     "metadata": {},
     "output_type": "execute_result"
    }
   ],
   "source": [
    "data_glp.describe()"
   ]
  },
  {
   "cell_type": "code",
   "execution_count": 16,
   "metadata": {},
   "outputs": [
    {
     "data": {
      "text/plain": [
       "Text(0.5, 1.0, 'Histograma do Preço(Valor de Venda) do GLP')"
      ]
     },
     "execution_count": 16,
     "metadata": {},
     "output_type": "execute_result"
    },
    {
     "data": {
      "image/png": "[encoded data removed]",
      "text/plain": [
       "<Figure size 1152x576 with 1 Axes>"
      ]
     },
     "metadata": {},
     "output_type": "display_data"
    }
   ],
   "source": [
    "sns.set_style('darkgrid')\n",
    "plt.figure(figsize=(16,8))\n",
    "\n",
    "plt.subplot(221)\n",
    "sns.histplot(data_glp['Valor de Venda'], kde=True, color='green')\n",
    "plt.title('Histograma do Preço(Valor de Venda) do GLP', fontsize=15)"
   ]
  },
  {
   "cell_type": "code",
   "execution_count": null,
   "metadata": {},
   "outputs": [],
   "source": []
  },
  {
   "cell_type": "markdown",
   "metadata": {},
   "source": [
    "#### Agrupando os dados por região e calculando a média"
   ]
  },
  {
   "cell_type": "code",
   "execution_count": 10,
   "metadata": {},
   "outputs": [
    {
     "data": {
      "image/png": "[encoded data removed]",
      "text/plain": [
       "<Figure size 576x288 with 1 Axes>"
      ]
     },
     "metadata": {},
     "output_type": "display_data"
    }
   ],
   "source": [
    "data_group_regiao = round(data_glp.groupby(['Regiao - Sigla']).mean(),2)\n",
    "data_group_regiao = data_group_regiao.rename_axis('Regiao - Sigla').reset_index()\n",
    "\n",
    "sns.set_style('darkgrid')\n",
    "plt.figure(figsize=(8,4))\n",
    "sns.barplot(data=data_group_regiao, x='Regiao - Sigla', y='Valor de Venda')\n",
    "plt.title('Média de Preços por Região (JAN|2022 - ABR|2022)', fontdict=font_title)\n",
    "plt.xlabel('Região', fontdict=font_xlabel)\n",
    "plt.ylabel('Valor de Venda', fontdict=font_ylabel)\n",
    "plt.legend(['CO - Centro Oeste','N - Norte','NE - Nordeste','S - Sul','SE - Sudeste'], \n",
    "                bbox_to_anchor=(1.05, 1),\n",
    "                loc='upper left', \n",
    "                borderaxespad=0.)\n",
    "for x,y in enumerate(data_group_regiao['Valor de Venda']):\n",
    "    plt.text(x,y-8,'%s'%round(y,2),ha='center', fontdict=font_xlabel)               \n",
    "plt.show()\n",
    "\n",
    "media_preco_br = data_glp['Valor de Venda'].mean()"
   ]
  },
  {
   "cell_type": "code",
   "execution_count": 11,
   "metadata": {},
   "outputs": [
    {
     "data": {
      "image/png": "[encoded data removed]",
      "text/plain": [
       "<Figure size 576x288 with 1 Axes>"
      ]
     },
     "metadata": {},
     "output_type": "display_data"
    }
   ],
   "source": [
    "data_regiao = data_glp[['Regiao - Sigla','Valor de Venda']]\n",
    "\n",
    "sns.set_style('darkgrid')\n",
    "plt.figure(figsize=(8,4))\n",
    "sns.boxplot(data=data_regiao, y='Regiao - Sigla', x='Valor de Venda')\n",
    "plt.title('Preços por Região (JAN|2022 - ABR|2022)', fontdict=font_title)\n",
    "plt.xlabel('Valor de Venda', fontdict=font_xlabel)\n",
    "plt.ylabel('Região', fontdict=font_ylabel)\n",
    "plt.legend(['CO - Centro Oeste','N - Norte','NE - Nordeste','S - Sul','SE - Sudeste'], \n",
    "                bbox_to_anchor=(1.05, 1),\n",
    "                loc='upper left', \n",
    "                borderaxespad=0.)             \n",
    "plt.show()"
   ]
  }
 ],
 "metadata": {
  "interpreter": {
   "hash": "027a342a3963cf1d88171445b94f526678796bcee31b62d4862c1cbd664401bb"
  },
  "kernelspec": {
   "display_name": "Python 3.10.4 ('AED': venv)",
   "language": "python",
   "name": "python3"
  },
  "language_info": {
   "codemirror_mode": {
    "name": "ipython",
    "version": 3
   },
   "file_extension": ".py",
   "mimetype": "text/x-python",
   "name": "python",
   "nbconvert_exporter": "python",
   "pygments_lexer": "ipython3",
   "version": "3.10.5"
  },
  "orig_nbformat": 4
 },
 "nbformat": 4,
 "nbformat_minor": 2
}
